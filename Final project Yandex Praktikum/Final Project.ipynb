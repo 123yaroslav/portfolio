{
 "cells": [
  {
   "cell_type": "markdown",
   "id": "1b028a18",
   "metadata": {},
   "source": [
    "# Финальный проект: Анализ оттока клиентов"
   ]
  },
  {
   "cell_type": "markdown",
   "id": "ccf1fd15",
   "metadata": {},
   "source": [
    "# Доменная область: \"Банки\""
   ]
  },
  {
   "cell_type": "markdown",
   "id": "71320129",
   "metadata": {},
   "source": [
    "## Введение"
   ]
  },
  {
   "cell_type": "markdown",
   "id": "24853334",
   "metadata": {},
   "source": [
    "В банке наблюдается сильный отток клиентов, который угрожает существованию банка. Отдел маркетинга запросил провести исследование, в котором необходимо выделить сегменты отточных клиентов с максимальным покрытием проблемных зон банка, чтобы впоследствии маркетинговое воздействие вызвало бы ументьшение оттока клиентов. Приступим к работе"
   ]
  },
  {
   "cell_type": "markdown",
   "id": "cca659cd",
   "metadata": {},
   "source": [
    "## Подготовка данных\n"
   ]
  },
  {
   "cell_type": "markdown",
   "id": "a130e3a1",
   "metadata": {},
   "source": [
    "### Импортируем необходимый набор библиотек для последующей работы над проектом"
   ]
  },
  {
   "cell_type": "code",
   "execution_count": 1,
   "id": "71648642",
   "metadata": {
    "ExecuteTime": {
     "end_time": "2023-03-23T23:51:00.719037Z",
     "start_time": "2023-03-23T23:50:56.714057Z"
    }
   },
   "outputs": [],
   "source": [
    "#библитеки необходимые для загрузки данных с гугл диска:\n",
    "from io import BytesIO #Эта библиотека необходима вместе с 'requests' для доступа к файлу с данными из гугл диска\n",
    "import requests\n",
    "\n",
    "#библиотеки для работы с данными:\n",
    "import pandas as pd\n",
    "import numpy as np\n",
    "import warnings #чтобы не всплывали ненужные предупреждения\n",
    "\n",
    "#библиотеки для статистического анализа данных:\n",
    "from scipy import stats as st \n",
    "import statsmodels.api as sm\n",
    "from scipy.stats import pearsonr\n",
    "from scipy.stats import mannwhitneyu\n",
    "\n",
    "#библиотеки для визуализации данных:\n",
    "import matplotlib.pyplot as plt\n",
    "import seaborn as sns\n",
    "import plotly.express as px\n",
    "\n",
    "# Моделирование\n",
    "from sklearn.tree import DecisionTreeClassifier\n",
    "from sklearn.preprocessing import StandardScaler\n",
    "from sklearn.cluster import KMeans\n",
    "from sklearn.model_selection import RandomizedSearchCV, train_test_split\n",
    "from scipy.stats import randint\n",
    "from sklearn import tree\n",
    "from sklearn.metrics import accuracy_score\n",
    "\n",
    "# Визуализация дерева\n",
    "from sklearn.tree import export_graphviz\n",
    "from IPython.display import Image\n",
    "import graphviz"
   ]
  },
  {
   "cell_type": "markdown",
   "id": "201ed0aa",
   "metadata": {},
   "source": [
    "### Откроем файл с данными"
   ]
  },
  {
   "cell_type": "code",
   "execution_count": 2,
   "id": "81cef030",
   "metadata": {
    "ExecuteTime": {
     "end_time": "2023-03-23T23:51:01.802382Z",
     "start_time": "2023-03-23T23:51:00.721019Z"
    }
   },
   "outputs": [
    {
     "data": {
      "text/html": [
       "<div>\n",
       "<style scoped>\n",
       "    .dataframe tbody tr th:only-of-type {\n",
       "        vertical-align: middle;\n",
       "    }\n",
       "\n",
       "    .dataframe tbody tr th {\n",
       "        vertical-align: top;\n",
       "    }\n",
       "\n",
       "    .dataframe thead th {\n",
       "        text-align: right;\n",
       "    }\n",
       "</style>\n",
       "<table border=\"1\" class=\"dataframe\">\n",
       "  <thead>\n",
       "    <tr style=\"text-align: right;\">\n",
       "      <th></th>\n",
       "      <th>USERID</th>\n",
       "      <th>score</th>\n",
       "      <th>city</th>\n",
       "      <th>gender</th>\n",
       "      <th>age</th>\n",
       "      <th>equity</th>\n",
       "      <th>balance</th>\n",
       "      <th>products</th>\n",
       "      <th>credit_card</th>\n",
       "      <th>last_activity</th>\n",
       "      <th>EST_SALARY</th>\n",
       "      <th>churn</th>\n",
       "    </tr>\n",
       "  </thead>\n",
       "  <tbody>\n",
       "    <tr>\n",
       "      <th>0</th>\n",
       "      <td>183012</td>\n",
       "      <td>850.0</td>\n",
       "      <td>Рыбинск</td>\n",
       "      <td>Ж</td>\n",
       "      <td>25.0</td>\n",
       "      <td>1</td>\n",
       "      <td>59214.82</td>\n",
       "      <td>2</td>\n",
       "      <td>0</td>\n",
       "      <td>1</td>\n",
       "      <td>75719.14</td>\n",
       "      <td>1</td>\n",
       "    </tr>\n",
       "    <tr>\n",
       "      <th>1</th>\n",
       "      <td>146556</td>\n",
       "      <td>861.0</td>\n",
       "      <td>Рыбинск</td>\n",
       "      <td>Ж</td>\n",
       "      <td>37.0</td>\n",
       "      <td>5</td>\n",
       "      <td>850594.33</td>\n",
       "      <td>3</td>\n",
       "      <td>1</td>\n",
       "      <td>0</td>\n",
       "      <td>86621.77</td>\n",
       "      <td>0</td>\n",
       "    </tr>\n",
       "    <tr>\n",
       "      <th>2</th>\n",
       "      <td>120722</td>\n",
       "      <td>892.0</td>\n",
       "      <td>Рыбинск</td>\n",
       "      <td>Ж</td>\n",
       "      <td>30.0</td>\n",
       "      <td>0</td>\n",
       "      <td>NaN</td>\n",
       "      <td>1</td>\n",
       "      <td>1</td>\n",
       "      <td>1</td>\n",
       "      <td>107683.34</td>\n",
       "      <td>0</td>\n",
       "    </tr>\n",
       "    <tr>\n",
       "      <th>3</th>\n",
       "      <td>225363</td>\n",
       "      <td>866.0</td>\n",
       "      <td>Ярославль</td>\n",
       "      <td>Ж</td>\n",
       "      <td>51.0</td>\n",
       "      <td>5</td>\n",
       "      <td>1524746.26</td>\n",
       "      <td>2</td>\n",
       "      <td>0</td>\n",
       "      <td>1</td>\n",
       "      <td>174423.53</td>\n",
       "      <td>1</td>\n",
       "    </tr>\n",
       "    <tr>\n",
       "      <th>4</th>\n",
       "      <td>157978</td>\n",
       "      <td>730.0</td>\n",
       "      <td>Ярославль</td>\n",
       "      <td>М</td>\n",
       "      <td>34.0</td>\n",
       "      <td>5</td>\n",
       "      <td>174.00</td>\n",
       "      <td>1</td>\n",
       "      <td>1</td>\n",
       "      <td>0</td>\n",
       "      <td>67353.16</td>\n",
       "      <td>1</td>\n",
       "    </tr>\n",
       "    <tr>\n",
       "      <th>...</th>\n",
       "      <td>...</td>\n",
       "      <td>...</td>\n",
       "      <td>...</td>\n",
       "      <td>...</td>\n",
       "      <td>...</td>\n",
       "      <td>...</td>\n",
       "      <td>...</td>\n",
       "      <td>...</td>\n",
       "      <td>...</td>\n",
       "      <td>...</td>\n",
       "      <td>...</td>\n",
       "      <td>...</td>\n",
       "    </tr>\n",
       "    <tr>\n",
       "      <th>9995</th>\n",
       "      <td>120553</td>\n",
       "      <td>814.0</td>\n",
       "      <td>Рыбинск</td>\n",
       "      <td>М</td>\n",
       "      <td>27.0</td>\n",
       "      <td>1</td>\n",
       "      <td>78144.65</td>\n",
       "      <td>1</td>\n",
       "      <td>0</td>\n",
       "      <td>1</td>\n",
       "      <td>18943.64</td>\n",
       "      <td>0</td>\n",
       "    </tr>\n",
       "    <tr>\n",
       "      <th>9996</th>\n",
       "      <td>139170</td>\n",
       "      <td>894.0</td>\n",
       "      <td>Ярославль</td>\n",
       "      <td>М</td>\n",
       "      <td>46.0</td>\n",
       "      <td>0</td>\n",
       "      <td>NaN</td>\n",
       "      <td>1</td>\n",
       "      <td>1</td>\n",
       "      <td>0</td>\n",
       "      <td>196898.29</td>\n",
       "      <td>0</td>\n",
       "    </tr>\n",
       "    <tr>\n",
       "      <th>9997</th>\n",
       "      <td>115639</td>\n",
       "      <td>903.0</td>\n",
       "      <td>Ярославль</td>\n",
       "      <td>М</td>\n",
       "      <td>24.0</td>\n",
       "      <td>0</td>\n",
       "      <td>NaN</td>\n",
       "      <td>2</td>\n",
       "      <td>1</td>\n",
       "      <td>1</td>\n",
       "      <td>108905.09</td>\n",
       "      <td>0</td>\n",
       "    </tr>\n",
       "    <tr>\n",
       "      <th>9998</th>\n",
       "      <td>148700</td>\n",
       "      <td>777.0</td>\n",
       "      <td>Ярославль</td>\n",
       "      <td>Ж</td>\n",
       "      <td>68.0</td>\n",
       "      <td>3</td>\n",
       "      <td>865457.97</td>\n",
       "      <td>3</td>\n",
       "      <td>0</td>\n",
       "      <td>1</td>\n",
       "      <td>86874.90</td>\n",
       "      <td>0</td>\n",
       "    </tr>\n",
       "    <tr>\n",
       "      <th>9999</th>\n",
       "      <td>96267</td>\n",
       "      <td>828.0</td>\n",
       "      <td>Рыбинск</td>\n",
       "      <td>Ж</td>\n",
       "      <td>58.0</td>\n",
       "      <td>3</td>\n",
       "      <td>1180886.70</td>\n",
       "      <td>4</td>\n",
       "      <td>0</td>\n",
       "      <td>1</td>\n",
       "      <td>21422.37</td>\n",
       "      <td>0</td>\n",
       "    </tr>\n",
       "  </tbody>\n",
       "</table>\n",
       "<p>10000 rows × 12 columns</p>\n",
       "</div>"
      ],
      "text/plain": [
       "      USERID  score       city gender   age  equity     balance  products  \\\n",
       "0     183012  850.0    Рыбинск      Ж  25.0       1    59214.82         2   \n",
       "1     146556  861.0    Рыбинск      Ж  37.0       5   850594.33         3   \n",
       "2     120722  892.0    Рыбинск      Ж  30.0       0         NaN         1   \n",
       "3     225363  866.0  Ярославль      Ж  51.0       5  1524746.26         2   \n",
       "4     157978  730.0  Ярославль      М  34.0       5      174.00         1   \n",
       "...      ...    ...        ...    ...   ...     ...         ...       ...   \n",
       "9995  120553  814.0    Рыбинск      М  27.0       1    78144.65         1   \n",
       "9996  139170  894.0  Ярославль      М  46.0       0         NaN         1   \n",
       "9997  115639  903.0  Ярославль      М  24.0       0         NaN         2   \n",
       "9998  148700  777.0  Ярославль      Ж  68.0       3   865457.97         3   \n",
       "9999   96267  828.0    Рыбинск      Ж  58.0       3  1180886.70         4   \n",
       "\n",
       "      credit_card  last_activity  EST_SALARY  churn  \n",
       "0               0              1    75719.14      1  \n",
       "1               1              0    86621.77      0  \n",
       "2               1              1   107683.34      0  \n",
       "3               0              1   174423.53      1  \n",
       "4               1              0    67353.16      1  \n",
       "...           ...            ...         ...    ...  \n",
       "9995            0              1    18943.64      0  \n",
       "9996            1              0   196898.29      0  \n",
       "9997            1              1   108905.09      0  \n",
       "9998            0              1    86874.90      0  \n",
       "9999            0              1    21422.37      0  \n",
       "\n",
       "[10000 rows x 12 columns]"
      ]
     },
     "execution_count": 2,
     "metadata": {},
     "output_type": "execute_result"
    }
   ],
   "source": [
    "path = \"https://drive.google.com/uc?export=download&id=1-U61mhTz_N1ARjy2XSAZ7IlQqGjeqP0F\" \n",
    "data = pd.read_csv(path)\n",
    "data"
   ]
  },
  {
   "cell_type": "code",
   "execution_count": 3,
   "id": "8c36d3fd",
   "metadata": {
    "ExecuteTime": {
     "end_time": "2023-03-23T23:51:01.833383Z",
     "start_time": "2023-03-23T23:51:01.804381Z"
    }
   },
   "outputs": [
    {
     "name": "stdout",
     "output_type": "stream",
     "text": [
      "<class 'pandas.core.frame.DataFrame'>\n",
      "RangeIndex: 10000 entries, 0 to 9999\n",
      "Data columns (total 12 columns):\n",
      " #   Column         Non-Null Count  Dtype  \n",
      "---  ------         --------------  -----  \n",
      " 0   USERID         10000 non-null  int64  \n",
      " 1   score          10000 non-null  float64\n",
      " 2   city           10000 non-null  object \n",
      " 3   gender         10000 non-null  object \n",
      " 4   age            9974 non-null   float64\n",
      " 5   equity         10000 non-null  int64  \n",
      " 6   balance        7705 non-null   float64\n",
      " 7   products       10000 non-null  int64  \n",
      " 8   credit_card    10000 non-null  int64  \n",
      " 9   last_activity  10000 non-null  int64  \n",
      " 10  EST_SALARY     10000 non-null  float64\n",
      " 11  churn          10000 non-null  int64  \n",
      "dtypes: float64(4), int64(6), object(2)\n",
      "memory usage: 937.6+ KB\n"
     ]
    }
   ],
   "source": [
    "data.info()"
   ]
  },
  {
   "cell_type": "markdown",
   "id": "abc877f0",
   "metadata": {},
   "source": [
    "### Вывод"
   ]
  },
  {
   "cell_type": "markdown",
   "id": "95122e9a",
   "metadata": {},
   "source": [
    "<p></p>\n",
    "\n",
    "<div style=\"border:solid black 1px; padding: 20px\">\n",
    "\n",
    "Открыли файл с данными, сразу видна необходимость переименования столбцов, а также изменения типов данных. Сделаем это в следующем пункте\n",
    "    \n",
    "    \n",
    "</div>\n",
    "\n",
    "<p></p>"
   ]
  },
  {
   "cell_type": "markdown",
   "id": "cee8670a",
   "metadata": {},
   "source": [
    "## Предобработка данных"
   ]
  },
  {
   "cell_type": "markdown",
   "id": "cd90e328",
   "metadata": {},
   "source": [
    "### Приведем названия колонок к питоновскому стилю"
   ]
  },
  {
   "cell_type": "code",
   "execution_count": 4,
   "id": "bb6823f9",
   "metadata": {
    "ExecuteTime": {
     "end_time": "2023-03-23T23:51:01.865383Z",
     "start_time": "2023-03-23T23:51:01.836381Z"
    }
   },
   "outputs": [
    {
     "data": {
      "text/html": [
       "<div>\n",
       "<style scoped>\n",
       "    .dataframe tbody tr th:only-of-type {\n",
       "        vertical-align: middle;\n",
       "    }\n",
       "\n",
       "    .dataframe tbody tr th {\n",
       "        vertical-align: top;\n",
       "    }\n",
       "\n",
       "    .dataframe thead th {\n",
       "        text-align: right;\n",
       "    }\n",
       "</style>\n",
       "<table border=\"1\" class=\"dataframe\">\n",
       "  <thead>\n",
       "    <tr style=\"text-align: right;\">\n",
       "      <th></th>\n",
       "      <th>user_id</th>\n",
       "      <th>score</th>\n",
       "      <th>city</th>\n",
       "      <th>gender</th>\n",
       "      <th>age</th>\n",
       "      <th>equity</th>\n",
       "      <th>balance</th>\n",
       "      <th>products</th>\n",
       "      <th>credit_card</th>\n",
       "      <th>last_activity</th>\n",
       "      <th>est_salary</th>\n",
       "      <th>churn</th>\n",
       "    </tr>\n",
       "  </thead>\n",
       "  <tbody>\n",
       "    <tr>\n",
       "      <th>0</th>\n",
       "      <td>183012</td>\n",
       "      <td>850.0</td>\n",
       "      <td>Рыбинск</td>\n",
       "      <td>Ж</td>\n",
       "      <td>25.0</td>\n",
       "      <td>1</td>\n",
       "      <td>59214.82</td>\n",
       "      <td>2</td>\n",
       "      <td>0</td>\n",
       "      <td>1</td>\n",
       "      <td>75719.14</td>\n",
       "      <td>1</td>\n",
       "    </tr>\n",
       "    <tr>\n",
       "      <th>1</th>\n",
       "      <td>146556</td>\n",
       "      <td>861.0</td>\n",
       "      <td>Рыбинск</td>\n",
       "      <td>Ж</td>\n",
       "      <td>37.0</td>\n",
       "      <td>5</td>\n",
       "      <td>850594.33</td>\n",
       "      <td>3</td>\n",
       "      <td>1</td>\n",
       "      <td>0</td>\n",
       "      <td>86621.77</td>\n",
       "      <td>0</td>\n",
       "    </tr>\n",
       "    <tr>\n",
       "      <th>2</th>\n",
       "      <td>120722</td>\n",
       "      <td>892.0</td>\n",
       "      <td>Рыбинск</td>\n",
       "      <td>Ж</td>\n",
       "      <td>30.0</td>\n",
       "      <td>0</td>\n",
       "      <td>NaN</td>\n",
       "      <td>1</td>\n",
       "      <td>1</td>\n",
       "      <td>1</td>\n",
       "      <td>107683.34</td>\n",
       "      <td>0</td>\n",
       "    </tr>\n",
       "    <tr>\n",
       "      <th>3</th>\n",
       "      <td>225363</td>\n",
       "      <td>866.0</td>\n",
       "      <td>Ярославль</td>\n",
       "      <td>Ж</td>\n",
       "      <td>51.0</td>\n",
       "      <td>5</td>\n",
       "      <td>1524746.26</td>\n",
       "      <td>2</td>\n",
       "      <td>0</td>\n",
       "      <td>1</td>\n",
       "      <td>174423.53</td>\n",
       "      <td>1</td>\n",
       "    </tr>\n",
       "    <tr>\n",
       "      <th>4</th>\n",
       "      <td>157978</td>\n",
       "      <td>730.0</td>\n",
       "      <td>Ярославль</td>\n",
       "      <td>М</td>\n",
       "      <td>34.0</td>\n",
       "      <td>5</td>\n",
       "      <td>174.00</td>\n",
       "      <td>1</td>\n",
       "      <td>1</td>\n",
       "      <td>0</td>\n",
       "      <td>67353.16</td>\n",
       "      <td>1</td>\n",
       "    </tr>\n",
       "  </tbody>\n",
       "</table>\n",
       "</div>"
      ],
      "text/plain": [
       "   user_id  score       city gender   age  equity     balance  products  \\\n",
       "0   183012  850.0    Рыбинск      Ж  25.0       1    59214.82         2   \n",
       "1   146556  861.0    Рыбинск      Ж  37.0       5   850594.33         3   \n",
       "2   120722  892.0    Рыбинск      Ж  30.0       0         NaN         1   \n",
       "3   225363  866.0  Ярославль      Ж  51.0       5  1524746.26         2   \n",
       "4   157978  730.0  Ярославль      М  34.0       5      174.00         1   \n",
       "\n",
       "   credit_card  last_activity  est_salary  churn  \n",
       "0            0              1    75719.14      1  \n",
       "1            1              0    86621.77      0  \n",
       "2            1              1   107683.34      0  \n",
       "3            0              1   174423.53      1  \n",
       "4            1              0    67353.16      1  "
      ]
     },
     "execution_count": 4,
     "metadata": {},
     "output_type": "execute_result"
    }
   ],
   "source": [
    "data.columns = map(str.lower, data.columns)\n",
    "data.rename(columns = {'userid' : 'user_id'}, inplace=True)\n",
    "data.head(5)"
   ]
  },
  {
   "cell_type": "markdown",
   "id": "1065ef8c",
   "metadata": {},
   "source": [
    "### Приведем данные в колонках к нужному типу"
   ]
  },
  {
   "cell_type": "code",
   "execution_count": 5,
   "id": "5a6f2d07",
   "metadata": {
    "ExecuteTime": {
     "end_time": "2023-03-23T23:51:01.881392Z",
     "start_time": "2023-03-23T23:51:01.868381Z"
    }
   },
   "outputs": [
    {
     "data": {
      "text/plain": [
       "0       850\n",
       "1       861\n",
       "2       892\n",
       "3       866\n",
       "4       730\n",
       "       ... \n",
       "9995    814\n",
       "9996    894\n",
       "9997    903\n",
       "9998    777\n",
       "9999    828\n",
       "Name: score, Length: 10000, dtype: int64"
      ]
     },
     "execution_count": 5,
     "metadata": {},
     "output_type": "execute_result"
    }
   ],
   "source": [
    "data.score.astype(int)"
   ]
  },
  {
   "cell_type": "markdown",
   "id": "401c15c2",
   "metadata": {},
   "source": [
    "### Посчитаем количество пропусков в датасетах"
   ]
  },
  {
   "cell_type": "code",
   "execution_count": 6,
   "id": "11eb8917",
   "metadata": {
    "ExecuteTime": {
     "end_time": "2023-03-23T23:51:01.897382Z",
     "start_time": "2023-03-23T23:51:01.884382Z"
    },
    "scrolled": true
   },
   "outputs": [
    {
     "data": {
      "text/plain": [
       "user_id             0\n",
       "score               0\n",
       "city                0\n",
       "gender              0\n",
       "age                26\n",
       "equity              0\n",
       "balance          2295\n",
       "products            0\n",
       "credit_card         0\n",
       "last_activity       0\n",
       "est_salary          0\n",
       "churn               0\n",
       "dtype: int64"
      ]
     },
     "execution_count": 6,
     "metadata": {},
     "output_type": "execute_result"
    }
   ],
   "source": [
    "data.isna().sum()"
   ]
  },
  {
   "cell_type": "code",
   "execution_count": 7,
   "id": "614147ef",
   "metadata": {
    "ExecuteTime": {
     "end_time": "2023-03-23T23:51:01.912381Z",
     "start_time": "2023-03-23T23:51:01.899383Z"
    }
   },
   "outputs": [
    {
     "name": "stdout",
     "output_type": "stream",
     "text": [
      "22.95% — процент пропусков в колонке balance\n"
     ]
    }
   ],
   "source": [
    "print(\"%s%% — процент пропусков в колонке balance\"%(data.balance.isna().sum() / len(data) * 100))"
   ]
  },
  {
   "cell_type": "code",
   "execution_count": 8,
   "id": "58b5bf76",
   "metadata": {
    "ExecuteTime": {
     "end_time": "2023-03-23T23:51:01.928381Z",
     "start_time": "2023-03-23T23:51:01.914384Z"
    }
   },
   "outputs": [
    {
     "name": "stdout",
     "output_type": "stream",
     "text": [
      "0.26% — процент пропусков в колонке age\n"
     ]
    }
   ],
   "source": [
    "print(\"%s%% — процент пропусков в колонке age\"%round(data.age.isna().sum() / len(data) * 100, 2))"
   ]
  },
  {
   "cell_type": "markdown",
   "id": "01184c39",
   "metadata": {},
   "source": [
    "### Исследуем природу появления пропусков"
   ]
  },
  {
   "cell_type": "code",
   "execution_count": 9,
   "id": "48cdf8fc",
   "metadata": {
    "ExecuteTime": {
     "end_time": "2023-03-23T23:51:01.944392Z",
     "start_time": "2023-03-23T23:51:01.930384Z"
    }
   },
   "outputs": [],
   "source": [
    "test = data.copy()"
   ]
  },
  {
   "cell_type": "code",
   "execution_count": 10,
   "id": "94ea6b84",
   "metadata": {
    "ExecuteTime": {
     "end_time": "2023-03-23T23:51:01.960380Z",
     "start_time": "2023-03-23T23:51:01.947380Z"
    }
   },
   "outputs": [
    {
     "data": {
      "text/plain": [
       "1.0    7705\n",
       "0.0    2295\n",
       "Name: balance_1, dtype: int64"
      ]
     },
     "execution_count": 10,
     "metadata": {},
     "output_type": "execute_result"
    }
   ],
   "source": [
    "# создадим фиктивную переменную:\n",
    "test['balance_1'] = test.balance\n",
    "test.balance_1 = test.balance_1.fillna(-1)\n",
    "test.loc[(test['balance_1'] != -1), 'balance_1'] = 1\n",
    "test.loc[(test['balance_1'] == -1), 'balance_1'] = 0\n",
    "test = test.drop('balance', axis=1)\n",
    "\n",
    "test.balance_1.value_counts()"
   ]
  },
  {
   "cell_type": "code",
   "execution_count": 11,
   "id": "512125e3",
   "metadata": {
    "ExecuteTime": {
     "end_time": "2023-03-23T23:51:02.516168Z",
     "start_time": "2023-03-23T23:51:01.961382Z"
    }
   },
   "outputs": [
    {
     "data": {
      "image/png": "[encoded data removed]",
      "text/plain": [
       "<Figure size 720x720 with 2 Axes>"
      ]
     },
     "metadata": {
      "needs_background": "light"
     },
     "output_type": "display_data"
    }
   ],
   "source": [
    "# вычислим корреляцию переменных в датасете с фиктивной:\n",
    "matrix = test.corr()\n",
    "\n",
    "mask = np.triu(np.ones_like(matrix, dtype=bool))\n",
    "\n",
    "cmap = sns.diverging_palette(250, 15, s=75, l=40,\n",
    "                            n=9, center=\"light\", as_cmap=True)\n",
    "\n",
    "plt.figure(figsize=(10, 10))\n",
    "sns.heatmap(matrix, mask=mask, center=0, annot=True,\n",
    "             cmap='Blues')\n",
    "plt.title('Треугольная корреляционная матрица', fontsize = 10)\n",
    "plt.show()"
   ]
  },
  {
   "cell_type": "markdown",
   "id": "58bdf887",
   "metadata": {
    "ExecuteTime": {
     "end_time": "2023-03-22T14:54:06.838126Z",
     "start_time": "2023-03-22T14:54:06.819152Z"
    }
   },
   "source": [
    "Между фиктивной переменной и переменной equity присутствует корреляция. Проверим ее значимость:"
   ]
  },
  {
   "cell_type": "markdown",
   "id": "4eb93c95",
   "metadata": {},
   "source": [
    "${H}_{0}$: Корреляция между фиктивной переменной баланс и оценкой собственности клиента равна нулю\n",
    "\n",
    "${H}_{1}$: Корреляция между фиктивной переменной баланс и оценкой собственности клиента неравна нулю\n",
    "\n",
    "$\\alpha = 0.05$"
   ]
  },
  {
   "cell_type": "code",
   "execution_count": 12,
   "id": "256fc0b6",
   "metadata": {
    "ExecuteTime": {
     "end_time": "2023-03-23T23:51:02.532156Z",
     "start_time": "2023-03-23T23:51:02.518130Z"
    }
   },
   "outputs": [
    {
     "name": "stdout",
     "output_type": "stream",
     "text": [
      "p-value: 0.0\n",
      "Отвергаем нулевую гипотезу\n"
     ]
    }
   ],
   "source": [
    "results = pearsonr(test.balance_1, test.equity)\n",
    "alpha = 0.05\n",
    "print(\"p-value:\", results.pvalue)\n",
    "if results.pvalue < alpha:\n",
    "    print(\"Отвергаем нулевую гипотезу\")\n",
    "else:\n",
    "    print(\"Не получилось отвергнуть нулевую гипотезу\")"
   ]
  },
  {
   "cell_type": "markdown",
   "id": "68a0e2f7",
   "metadata": {},
   "source": [
    "Построим доверительный интервал для корреляции между фиктивной переменной и оценкой собствености при 5% уровне значимости:"
   ]
  },
  {
   "cell_type": "code",
   "execution_count": 13,
   "id": "b4b50762",
   "metadata": {
    "ExecuteTime": {
     "end_time": "2023-03-23T23:51:02.547130Z",
     "start_time": "2023-03-23T23:51:02.534130Z"
    }
   },
   "outputs": [
    {
     "data": {
      "text/plain": [
       "ConfidenceInterval(low=0.7000930976769005, high=0.7195389228442507)"
      ]
     },
     "execution_count": 13,
     "metadata": {},
     "output_type": "execute_result"
    }
   ],
   "source": [
    "results.confidence_interval(confidence_level=0.95)"
   ]
  },
  {
   "cell_type": "markdown",
   "id": "035ea828",
   "metadata": {},
   "source": [
    "### Определим механизм образования пропусков (MCAR, MAR, MNAR)"
   ]
  },
  {
   "cell_type": "markdown",
   "id": "d32c68e6",
   "metadata": {},
   "source": [
    "Предположим, что механизм образования пропусков - MAR, поскольку с фиктивной переменной баланс и оценкой собственной пристуствует статистически значимая корреляция при 5% уровне значимости "
   ]
  },
  {
   "cell_type": "markdown",
   "id": "80f71ae5",
   "metadata": {
    "ExecuteTime": {
     "end_time": "2023-03-22T14:11:04.547863Z",
     "start_time": "2023-03-22T14:11:04.519371Z"
    }
   },
   "source": [
    "Заменим пропущенные значения на \"заглушку\" и добавим столбец с фиктивной переменной:"
   ]
  },
  {
   "cell_type": "code",
   "execution_count": 14,
   "id": "d2d7dacd",
   "metadata": {
    "ExecuteTime": {
     "end_time": "2023-03-23T23:51:02.563130Z",
     "start_time": "2023-03-23T23:51:02.549130Z"
    }
   },
   "outputs": [],
   "source": [
    "data.balance.fillna(0, inplace=True)\n",
    "data['balance_1'] = test.balance_1"
   ]
  },
  {
   "cell_type": "code",
   "execution_count": 15,
   "id": "389cb8cb",
   "metadata": {
    "ExecuteTime": {
     "end_time": "2023-03-23T23:51:02.593131Z",
     "start_time": "2023-03-23T23:51:02.566131Z"
    },
    "scrolled": true
   },
   "outputs": [],
   "source": [
    "data = data.dropna().reset_index(drop=True)"
   ]
  },
  {
   "cell_type": "markdown",
   "id": "b9f8c25d",
   "metadata": {},
   "source": [
    "### Проверим данные на наличие явных дубликатов в колонках, в которых они могут встречаться"
   ]
  },
  {
   "cell_type": "code",
   "execution_count": 16,
   "id": "365b2a84",
   "metadata": {
    "ExecuteTime": {
     "end_time": "2023-03-23T23:51:02.608131Z",
     "start_time": "2023-03-23T23:51:02.595139Z"
    }
   },
   "outputs": [
    {
     "name": "stdout",
     "output_type": "stream",
     "text": [
      "0.5013033888109084% — процент дубликатов в колонке user_id\n"
     ]
    }
   ],
   "source": [
    "print(\"%s%% — процент дубликатов в колонке user_id\"%(data.user_id.duplicated().sum() / len(data) * 100))"
   ]
  },
  {
   "cell_type": "code",
   "execution_count": 17,
   "id": "d6d5a0ca",
   "metadata": {
    "ExecuteTime": {
     "end_time": "2023-03-23T23:51:02.624131Z",
     "start_time": "2023-03-23T23:51:02.611132Z"
    }
   },
   "outputs": [],
   "source": [
    "data = data.drop_duplicates(subset=['user_id'])"
   ]
  },
  {
   "cell_type": "markdown",
   "id": "a9361bfc",
   "metadata": {},
   "source": [
    "### Проверим данные на наличие выбросов"
   ]
  },
  {
   "cell_type": "code",
   "execution_count": 18,
   "id": "4b86c2ed",
   "metadata": {
    "ExecuteTime": {
     "end_time": "2023-03-23T23:51:03.795874Z",
     "start_time": "2023-03-23T23:51:02.626131Z"
    }
   },
   "outputs": [
    {
     "data": {
      "image/png": "[encoded data removed]",
      "text/plain": [
       "<Figure size 1080x1080 with 12 Axes>"
      ]
     },
     "metadata": {
      "needs_background": "light"
     },
     "output_type": "display_data"
    }
   ],
   "source": [
    "with plt.style.context('seaborn-pastel'):\n",
    "    data.hist(figsize=(15,15))\n",
    "    plt.show()"
   ]
  },
  {
   "cell_type": "code",
   "execution_count": 19,
   "id": "de977b58",
   "metadata": {
    "ExecuteTime": {
     "end_time": "2023-03-23T23:51:03.827930Z",
     "start_time": "2023-03-23T23:51:03.797904Z"
    },
    "scrolled": true
   },
   "outputs": [
    {
     "data": {
      "text/html": [
       "<div>\n",
       "<style scoped>\n",
       "    .dataframe tbody tr th:only-of-type {\n",
       "        vertical-align: middle;\n",
       "    }\n",
       "\n",
       "    .dataframe tbody tr th {\n",
       "        vertical-align: top;\n",
       "    }\n",
       "\n",
       "    .dataframe thead th {\n",
       "        text-align: right;\n",
       "    }\n",
       "</style>\n",
       "<table border=\"1\" class=\"dataframe\">\n",
       "  <thead>\n",
       "    <tr style=\"text-align: right;\">\n",
       "      <th></th>\n",
       "      <th>user_id</th>\n",
       "      <th>score</th>\n",
       "      <th>age</th>\n",
       "      <th>equity</th>\n",
       "      <th>balance</th>\n",
       "      <th>products</th>\n",
       "      <th>credit_card</th>\n",
       "      <th>last_activity</th>\n",
       "      <th>est_salary</th>\n",
       "      <th>churn</th>\n",
       "      <th>balance_1</th>\n",
       "    </tr>\n",
       "  </thead>\n",
       "  <tbody>\n",
       "    <tr>\n",
       "      <th>count</th>\n",
       "      <td>9924.000000</td>\n",
       "      <td>9924.000000</td>\n",
       "      <td>9924.000000</td>\n",
       "      <td>9924.000000</td>\n",
       "      <td>9.924000e+03</td>\n",
       "      <td>9924.000000</td>\n",
       "      <td>9924.000000</td>\n",
       "      <td>9924.000000</td>\n",
       "      <td>9.924000e+03</td>\n",
       "      <td>9924.000000</td>\n",
       "      <td>9924.000000</td>\n",
       "    </tr>\n",
       "    <tr>\n",
       "      <th>mean</th>\n",
       "      <td>171737.158706</td>\n",
       "      <td>848.731358</td>\n",
       "      <td>42.728839</td>\n",
       "      <td>2.634522</td>\n",
       "      <td>6.395982e+05</td>\n",
       "      <td>1.871624</td>\n",
       "      <td>0.679968</td>\n",
       "      <td>0.523378</td>\n",
       "      <td>1.478802e+05</td>\n",
       "      <td>0.183293</td>\n",
       "      <td>0.772269</td>\n",
       "    </tr>\n",
       "    <tr>\n",
       "      <th>std</th>\n",
       "      <td>33697.419981</td>\n",
       "      <td>65.396890</td>\n",
       "      <td>12.176452</td>\n",
       "      <td>1.979371</td>\n",
       "      <td>1.777858e+06</td>\n",
       "      <td>0.793151</td>\n",
       "      <td>0.466512</td>\n",
       "      <td>0.499478</td>\n",
       "      <td>1.393583e+05</td>\n",
       "      <td>0.386926</td>\n",
       "      <td>0.419389</td>\n",
       "    </tr>\n",
       "    <tr>\n",
       "      <th>min</th>\n",
       "      <td>94561.000000</td>\n",
       "      <td>642.000000</td>\n",
       "      <td>18.000000</td>\n",
       "      <td>0.000000</td>\n",
       "      <td>0.000000e+00</td>\n",
       "      <td>0.000000</td>\n",
       "      <td>0.000000</td>\n",
       "      <td>0.000000</td>\n",
       "      <td>2.546300e+03</td>\n",
       "      <td>0.000000</td>\n",
       "      <td>0.000000</td>\n",
       "    </tr>\n",
       "    <tr>\n",
       "      <th>25%</th>\n",
       "      <td>142725.000000</td>\n",
       "      <td>802.000000</td>\n",
       "      <td>33.000000</td>\n",
       "      <td>0.000000</td>\n",
       "      <td>6.367806e+04</td>\n",
       "      <td>1.000000</td>\n",
       "      <td>0.000000</td>\n",
       "      <td>0.000000</td>\n",
       "      <td>7.525218e+04</td>\n",
       "      <td>0.000000</td>\n",
       "      <td>1.000000</td>\n",
       "    </tr>\n",
       "    <tr>\n",
       "      <th>50%</th>\n",
       "      <td>172643.000000</td>\n",
       "      <td>853.000000</td>\n",
       "      <td>40.000000</td>\n",
       "      <td>3.000000</td>\n",
       "      <td>3.767156e+05</td>\n",
       "      <td>2.000000</td>\n",
       "      <td>1.000000</td>\n",
       "      <td>1.000000</td>\n",
       "      <td>1.197154e+05</td>\n",
       "      <td>0.000000</td>\n",
       "      <td>1.000000</td>\n",
       "    </tr>\n",
       "    <tr>\n",
       "      <th>75%</th>\n",
       "      <td>201159.250000</td>\n",
       "      <td>900.000000</td>\n",
       "      <td>51.000000</td>\n",
       "      <td>4.000000</td>\n",
       "      <td>8.051574e+05</td>\n",
       "      <td>2.000000</td>\n",
       "      <td>1.000000</td>\n",
       "      <td>1.000000</td>\n",
       "      <td>1.746669e+05</td>\n",
       "      <td>0.000000</td>\n",
       "      <td>1.000000</td>\n",
       "    </tr>\n",
       "    <tr>\n",
       "      <th>max</th>\n",
       "      <td>229145.000000</td>\n",
       "      <td>1000.000000</td>\n",
       "      <td>86.000000</td>\n",
       "      <td>9.000000</td>\n",
       "      <td>1.191136e+08</td>\n",
       "      <td>5.000000</td>\n",
       "      <td>1.000000</td>\n",
       "      <td>1.000000</td>\n",
       "      <td>1.395064e+06</td>\n",
       "      <td>1.000000</td>\n",
       "      <td>1.000000</td>\n",
       "    </tr>\n",
       "  </tbody>\n",
       "</table>\n",
       "</div>"
      ],
      "text/plain": [
       "             user_id        score          age       equity       balance  \\\n",
       "count    9924.000000  9924.000000  9924.000000  9924.000000  9.924000e+03   \n",
       "mean   171737.158706   848.731358    42.728839     2.634522  6.395982e+05   \n",
       "std     33697.419981    65.396890    12.176452     1.979371  1.777858e+06   \n",
       "min     94561.000000   642.000000    18.000000     0.000000  0.000000e+00   \n",
       "25%    142725.000000   802.000000    33.000000     0.000000  6.367806e+04   \n",
       "50%    172643.000000   853.000000    40.000000     3.000000  3.767156e+05   \n",
       "75%    201159.250000   900.000000    51.000000     4.000000  8.051574e+05   \n",
       "max    229145.000000  1000.000000    86.000000     9.000000  1.191136e+08   \n",
       "\n",
       "          products  credit_card  last_activity    est_salary        churn  \\\n",
       "count  9924.000000  9924.000000    9924.000000  9.924000e+03  9924.000000   \n",
       "mean      1.871624     0.679968       0.523378  1.478802e+05     0.183293   \n",
       "std       0.793151     0.466512       0.499478  1.393583e+05     0.386926   \n",
       "min       0.000000     0.000000       0.000000  2.546300e+03     0.000000   \n",
       "25%       1.000000     0.000000       0.000000  7.525218e+04     0.000000   \n",
       "50%       2.000000     1.000000       1.000000  1.197154e+05     0.000000   \n",
       "75%       2.000000     1.000000       1.000000  1.746669e+05     0.000000   \n",
       "max       5.000000     1.000000       1.000000  1.395064e+06     1.000000   \n",
       "\n",
       "         balance_1  \n",
       "count  9924.000000  \n",
       "mean      0.772269  \n",
       "std       0.419389  \n",
       "min       0.000000  \n",
       "25%       1.000000  \n",
       "50%       1.000000  \n",
       "75%       1.000000  \n",
       "max       1.000000  "
      ]
     },
     "execution_count": 19,
     "metadata": {},
     "output_type": "execute_result"
    }
   ],
   "source": [
    "data.describe()"
   ]
  },
  {
   "cell_type": "markdown",
   "id": "33a4ad18",
   "metadata": {},
   "source": [
    "#### Рассмотрим поподробнее три переменные: возраст, предполагаемая зарплата, оценка"
   ]
  },
  {
   "cell_type": "markdown",
   "id": "7f527b98",
   "metadata": {},
   "source": [
    "#### Создадим функцию по построению 'Ящика с усами'"
   ]
  },
  {
   "cell_type": "code",
   "execution_count": 20,
   "id": "9ee668be",
   "metadata": {
    "ExecuteTime": {
     "end_time": "2023-03-23T23:51:03.843198Z",
     "start_time": "2023-03-23T23:51:03.828874Z"
    }
   },
   "outputs": [],
   "source": [
    "def box_plot(data, title, label):\n",
    "    plt.figure(figsize=(6,6))\n",
    "    plt.boxplot(data, showmeans=True,\n",
    "                     capprops=dict(linestyle='--', linewidth=3, color='darkgoldenrod', label='границы'),\n",
    "                     boxprops=dict(linestyle='--', linewidth=4, color='black', label='квартили'),\n",
    "                     flierprops = dict(marker='*', markersize=10, markerfacecolor='lightblue', markeredgecolor='lightblue', label='выбросы'),\n",
    "                     meanprops = dict(linestyle='-.', linewidth=2.5, color='yellow', label='среднее'),\n",
    "                     medianprops = dict(linestyle='-.', linewidth=3.5, color='firebrick', label='медиана'),\n",
    "                     whiskerprops=dict(linestyle='-', linewidth=2, color='green', label='Усы')) \n",
    "    plt.xlabel('')\n",
    "    plt.ylabel(label)\n",
    "    plt.title(title)\n",
    "    plt.legend()\n",
    "    plt.show()"
   ]
  },
  {
   "cell_type": "markdown",
   "id": "00d029da",
   "metadata": {},
   "source": [
    "#### Переменная age"
   ]
  },
  {
   "cell_type": "code",
   "execution_count": 21,
   "id": "705b291c",
   "metadata": {
    "ExecuteTime": {
     "end_time": "2023-03-23T23:51:04.686703Z",
     "start_time": "2023-03-23T23:51:03.844669Z"
    }
   },
   "outputs": [
    {
     "data": {
      "image/png": "[encoded data removed]",
      "text/plain": [
       "<Figure size 432x288 with 1 Axes>"
      ]
     },
     "metadata": {
      "needs_background": "light"
     },
     "output_type": "display_data"
    }
   ],
   "source": [
    "sns.kdeplot(x='age', data=data, common_norm=False);\n",
    "plt.title(\"Сглаженная функции плотности\")\n",
    "plt.xlabel('Зарплата')\n",
    "plt.ylabel('Плотность')\n",
    "plt.show()"
   ]
  },
  {
   "cell_type": "code",
   "execution_count": 22,
   "id": "b506ef66",
   "metadata": {
    "ExecuteTime": {
     "end_time": "2023-03-23T23:51:04.702779Z",
     "start_time": "2023-03-23T23:51:04.688666Z"
    }
   },
   "outputs": [
    {
     "data": {
      "text/plain": [
       "36.0    412\n",
       "37.0    400\n",
       "33.0    389\n",
       "35.0    387\n",
       "34.0    381\n",
       "       ... \n",
       "83.0      3\n",
       "82.0      2\n",
       "84.0      2\n",
       "86.0      2\n",
       "79.0      2\n",
       "Name: age, Length: 68, dtype: int64"
      ]
     },
     "execution_count": 22,
     "metadata": {},
     "output_type": "execute_result"
    }
   ],
   "source": [
    "data.age.value_counts()"
   ]
  },
  {
   "cell_type": "markdown",
   "id": "679e9071",
   "metadata": {},
   "source": [
    "#### Переменная est_salary"
   ]
  },
  {
   "cell_type": "code",
   "execution_count": 23,
   "id": "a2364504",
   "metadata": {
    "ExecuteTime": {
     "end_time": "2023-03-23T23:51:04.830668Z",
     "start_time": "2023-03-23T23:51:04.703668Z"
    }
   },
   "outputs": [
    {
     "data": {
      "image/png": "[encoded data removed]",
      "text/plain": [
       "<Figure size 432x432 with 1 Axes>"
      ]
     },
     "metadata": {
      "needs_background": "light"
     },
     "output_type": "display_data"
    }
   ],
   "source": [
    "box_plot(data.est_salary, 'Ящик с усами для переменной est_salary', 'Зарплата')"
   ]
  },
  {
   "cell_type": "code",
   "execution_count": 24,
   "id": "21e1a9ec",
   "metadata": {
    "ExecuteTime": {
     "end_time": "2023-03-23T23:51:04.973874Z",
     "start_time": "2023-03-23T23:51:04.831670Z"
    },
    "scrolled": true
   },
   "outputs": [
    {
     "data": {
      "image/png": "[encoded data removed]",
      "text/plain": [
       "<Figure size 432x288 with 1 Axes>"
      ]
     },
     "metadata": {
      "needs_background": "light"
     },
     "output_type": "display_data"
    }
   ],
   "source": [
    "with plt.style.context('seaborn-pastel'):\n",
    "    sns.scatterplot(x = data.est_salary, y = data.user_id)\n",
    "    plt.xlabel('Зарплата')\n",
    "    plt.ylabel('ID пользователя')\n",
    "    plt.title('Диаграмма рассивания')\n",
    "    plt.show()"
   ]
  },
  {
   "cell_type": "code",
   "execution_count": 25,
   "id": "ffcc917f",
   "metadata": {
    "ExecuteTime": {
     "end_time": "2023-03-23T23:51:05.226666Z",
     "start_time": "2023-03-23T23:51:04.975668Z"
    }
   },
   "outputs": [
    {
     "data": {
      "image/png": "[encoded data removed]",
      "text/plain": [
       "<Figure size 432x288 with 1 Axes>"
      ]
     },
     "metadata": {
      "needs_background": "light"
     },
     "output_type": "display_data"
    }
   ],
   "source": [
    "sns.kdeplot(x='est_salary', data=data, common_norm=False);\n",
    "plt.title(\"Сглаженная функции плотности\")\n",
    "plt.xlabel('Зарплата')\n",
    "plt.ylabel('Плотность')\n",
    "plt.show()"
   ]
  },
  {
   "cell_type": "markdown",
   "id": "fb7a653c",
   "metadata": {},
   "source": [
    "#### Переменная score"
   ]
  },
  {
   "cell_type": "code",
   "execution_count": 26,
   "id": "3f1d2619",
   "metadata": {
    "ExecuteTime": {
     "end_time": "2023-03-23T23:51:05.368705Z",
     "start_time": "2023-03-23T23:51:05.227666Z"
    }
   },
   "outputs": [
    {
     "data": {
      "image/png": "[encoded data removed]",
      "text/plain": [
       "<Figure size 432x432 with 1 Axes>"
      ]
     },
     "metadata": {
      "needs_background": "light"
     },
     "output_type": "display_data"
    }
   ],
   "source": [
    "box_plot(data.score, 'Ящик с усами для переменной score', 'Оценка')"
   ]
  },
  {
   "cell_type": "code",
   "execution_count": 27,
   "id": "868980e2",
   "metadata": {
    "ExecuteTime": {
     "end_time": "2023-03-23T23:51:05.384666Z",
     "start_time": "2023-03-23T23:51:05.370667Z"
    }
   },
   "outputs": [
    {
     "name": "stdout",
     "output_type": "stream",
     "text": [
      "0.13% — процент выбросов в колонке score\n"
     ]
    }
   ],
   "source": [
    "print(\"%s%% — процент выбросов в колонке score\"%round((len(data[data['score'] < 650]) / len(data) * 100), 2))"
   ]
  },
  {
   "cell_type": "code",
   "execution_count": 28,
   "id": "ee7b1e15",
   "metadata": {
    "ExecuteTime": {
     "end_time": "2023-03-23T23:51:05.637710Z",
     "start_time": "2023-03-23T23:51:05.389666Z"
    }
   },
   "outputs": [
    {
     "data": {
      "image/png": "[encoded data removed]",
      "text/plain": [
       "<Figure size 432x288 with 1 Axes>"
      ]
     },
     "metadata": {
      "needs_background": "light"
     },
     "output_type": "display_data"
    }
   ],
   "source": [
    "sns.kdeplot(x='score', data=data, common_norm=False);\n",
    "plt.title(\"Сглаженная функции плотности\")\n",
    "plt.xlabel('Оценка')\n",
    "plt.ylabel('Плотность')\n",
    "plt.show()"
   ]
  },
  {
   "cell_type": "markdown",
   "id": "ad9527e2",
   "metadata": {},
   "source": [
    "### Вывод"
   ]
  },
  {
   "cell_type": "markdown",
   "id": "fbbd0185",
   "metadata": {},
   "source": [
    "<p></p>\n",
    "\n",
    "<div style=\"border:solid black 1px; padding: 20px\">\n",
    "\n",
    "В ходе предобработки данных было выполнено следующее:\n",
    "\n",
    "- Названия колонок были приведены к питоновскому стилю\n",
    "- В переменной баланс было обноружено 22.95% пропусков от общего числа. Было сделано предположение о том, что данные пропуски появились в ходе некачественной выгрузки с сервера и была произведена их замена на заглушку и добавлен столбец с фиктивной переменной, поскольку пропуски имеют тип MAR\n",
    "- В переменной age процент пустых значений незначителен, поэтому они были удалены\n",
    "- В трех переменных присутствовали выбросы:\n",
    "    * В переменной age наблюдается ассиметричность распределения, но она не мешает для последующего исследования\n",
    "    * В переменной est_salary выбросы были оставлены, так как данные являются приблизительными\n",
    "    * В переменной score выбросы составили меньше половины процента, поэтому они были оставлены\n",
    "    \n",
    "    \n",
    "</div>\n",
    "\n",
    "<p></p>"
   ]
  },
  {
   "cell_type": "markdown",
   "id": "6777d70d",
   "metadata": {},
   "source": [
    "## Исследовательский анализ\n"
   ]
  },
  {
   "cell_type": "markdown",
   "id": "c4a90d18",
   "metadata": {},
   "source": [
    "### Распределения переменных"
   ]
  },
  {
   "cell_type": "markdown",
   "id": "b85ac6af",
   "metadata": {},
   "source": [
    "#### Анализ распределений "
   ]
  },
  {
   "cell_type": "code",
   "execution_count": 29,
   "id": "43542d24",
   "metadata": {
    "ExecuteTime": {
     "end_time": "2023-03-23T23:51:06.940041Z",
     "start_time": "2023-03-23T23:51:05.638678Z"
    }
   },
   "outputs": [
    {
     "data": {
      "image/png": "[encoded data removed]",
      "text/plain": [
       "<Figure size 1080x1080 with 12 Axes>"
      ]
     },
     "metadata": {
      "needs_background": "light"
     },
     "output_type": "display_data"
    }
   ],
   "source": [
    "with plt.style.context('seaborn-pastel'):\n",
    "    data.hist(figsize=(15,15))\n",
    "    plt.show()"
   ]
  },
  {
   "cell_type": "markdown",
   "id": "b6db80df",
   "metadata": {},
   "source": [
    "#### Анализ распределений  в разрезе оттока"
   ]
  },
  {
   "cell_type": "markdown",
   "id": "3dc3e522",
   "metadata": {},
   "source": [
    "##### Переменная age\n"
   ]
  },
  {
   "cell_type": "code",
   "execution_count": 30,
   "id": "6a4fdac4",
   "metadata": {
    "ExecuteTime": {
     "end_time": "2023-03-23T23:51:07.418829Z",
     "start_time": "2023-03-23T23:51:06.941838Z"
    }
   },
   "outputs": [
    {
     "data": {
      "image/png": "[encoded data removed]",
      "text/plain": [
       "<Figure size 432x288 with 1 Axes>"
      ]
     },
     "metadata": {
      "needs_background": "light"
     },
     "output_type": "display_data"
    }
   ],
   "source": [
    "fig = sns.histplot(\n",
    "    data=data,\n",
    "    hue='churn',\n",
    "    x='age',\n",
    "    stat='density',\n",
    "    common_norm=False,\n",
    "    binwidth = 1,\n",
    "    palette='flag')\n",
    "fig.legend(labels=['Уходят', 'Остаются'])\n",
    "plt.title(\"Функция плотности переменной age в разрезе\")\n",
    "plt.xlabel('Возраст')\n",
    "plt.ylabel('Плотность')\n",
    "plt.show()"
   ]
  },
  {
   "cell_type": "markdown",
   "id": "c732903d",
   "metadata": {},
   "source": [
    "##### Переменная est_salary"
   ]
  },
  {
   "cell_type": "code",
   "execution_count": 31,
   "id": "cdff79f0",
   "metadata": {
    "ExecuteTime": {
     "end_time": "2023-03-23T23:51:07.433832Z",
     "start_time": "2023-03-23T23:51:07.420833Z"
    }
   },
   "outputs": [
    {
     "data": {
      "text/plain": [
       "array([242286.407])"
      ]
     },
     "execution_count": 31,
     "metadata": {},
     "output_type": "execute_result"
    }
   ],
   "source": [
    "np.percentile(data.est_salary, [90]) # ограничим гистограмму до 90 перцентиля"
   ]
  },
  {
   "cell_type": "code",
   "execution_count": 32,
   "id": "866e8a57",
   "metadata": {
    "ExecuteTime": {
     "end_time": "2023-03-23T23:51:07.767842Z",
     "start_time": "2023-03-23T23:51:07.435830Z"
    },
    "scrolled": true
   },
   "outputs": [
    {
     "data": {
      "image/png": "[encoded data removed]",
      "text/plain": [
       "<Figure size 432x288 with 1 Axes>"
      ]
     },
     "metadata": {
      "needs_background": "light"
     },
     "output_type": "display_data"
    }
   ],
   "source": [
    "fig = sns.histplot(\n",
    "    hue=data.churn,\n",
    "    x=data.est_salary.clip(0, 242395.782),\n",
    "    stat='density',\n",
    "    common_norm=False,\n",
    "    palette='flag')\n",
    "fig.legend(labels=['Уходят', 'Остаются'])\n",
    "plt.title(\"Функция плотности переменной est_salary в разрезе\")\n",
    "plt.xlabel('Предполагаемая зарплата')\n",
    "plt.ylabel('Плотность')\n",
    "plt.show()"
   ]
  },
  {
   "cell_type": "markdown",
   "id": "7f94d7ce",
   "metadata": {},
   "source": [
    "##### Переменная score"
   ]
  },
  {
   "cell_type": "code",
   "execution_count": 33,
   "id": "415867e4",
   "metadata": {
    "ExecuteTime": {
     "end_time": "2023-03-23T23:51:08.463830Z",
     "start_time": "2023-03-23T23:51:07.770832Z"
    }
   },
   "outputs": [
    {
     "data": {
      "image/png": "[encoded data removed]",
      "text/plain": [
       "<Figure size 432x288 with 1 Axes>"
      ]
     },
     "metadata": {
      "needs_background": "light"
     },
     "output_type": "display_data"
    }
   ],
   "source": [
    "fig = sns.histplot(\n",
    "    hue=data.churn,\n",
    "    x=data.score,\n",
    "    stat='density',\n",
    "    common_norm=False,\n",
    "    palette='flag')\n",
    "fig.legend(labels=['Уходят', 'Остаются'])\n",
    "plt.title(\"Функция плотности переменной score в разрезе\")\n",
    "plt.xlabel('Баллы кредитного скоринга')\n",
    "plt.ylabel('Плотность')\n",
    "plt.show()"
   ]
  },
  {
   "cell_type": "markdown",
   "id": "f766d239",
   "metadata": {},
   "source": [
    "##### Переменная balance"
   ]
  },
  {
   "cell_type": "code",
   "execution_count": 34,
   "id": "42daedec",
   "metadata": {
    "ExecuteTime": {
     "end_time": "2023-03-23T23:51:08.479831Z",
     "start_time": "2023-03-23T23:51:08.468830Z"
    }
   },
   "outputs": [
    {
     "data": {
      "text/plain": [
       "array([805157.3825])"
      ]
     },
     "execution_count": 34,
     "metadata": {},
     "output_type": "execute_result"
    }
   ],
   "source": [
    "np.percentile(data.balance, [75]) # ограничим гистограмму до 70 перцентиля"
   ]
  },
  {
   "cell_type": "code",
   "execution_count": 35,
   "id": "e089bc20",
   "metadata": {
    "ExecuteTime": {
     "end_time": "2023-03-23T23:51:08.859831Z",
     "start_time": "2023-03-23T23:51:08.483829Z"
    }
   },
   "outputs": [
    {
     "data": {
      "image/png": "[encoded data removed]",
      "text/plain": [
       "<Figure size 432x288 with 1 Axes>"
      ]
     },
     "metadata": {
      "needs_background": "light"
     },
     "output_type": "display_data"
    }
   ],
   "source": [
    "fig = sns.histplot(\n",
    "    hue=data.churn,\n",
    "    x=data.balance.clip(0, 805000),\n",
    "    stat='density',\n",
    "    common_norm=False,\n",
    "    palette='flag')\n",
    "fig.legend(labels=['Уходят', 'Остаются'])\n",
    "plt.title(\"Функция плотности переменной balance в разрезе\")\n",
    "plt.xlabel('Баланс на счете')\n",
    "plt.ylabel('Плотность')\n",
    "plt.show()"
   ]
  },
  {
   "cell_type": "code",
   "execution_count": 36,
   "id": "b2d32b40",
   "metadata": {
    "ExecuteTime": {
     "end_time": "2023-03-23T23:51:08.875830Z",
     "start_time": "2023-03-23T23:51:08.862833Z"
    }
   },
   "outputs": [
    {
     "data": {
      "text/plain": [
       "array([1847292.4525])"
      ]
     },
     "execution_count": 36,
     "metadata": {},
     "output_type": "execute_result"
    }
   ],
   "source": [
    "np.percentile(data.balance, [95])"
   ]
  },
  {
   "cell_type": "code",
   "execution_count": 37,
   "id": "9e71e224",
   "metadata": {
    "ExecuteTime": {
     "end_time": "2023-03-23T23:51:09.222829Z",
     "start_time": "2023-03-23T23:51:08.877830Z"
    }
   },
   "outputs": [
    {
     "data": {
      "image/png": "[encoded data removed]",
      "text/plain": [
       "<Figure size 432x288 with 1 Axes>"
      ]
     },
     "metadata": {
      "needs_background": "light"
     },
     "output_type": "display_data"
    }
   ],
   "source": [
    "fig = sns.histplot(\n",
    "    hue=data.churn,\n",
    "    x=data.balance.clip(0, 1345852.876),\n",
    "    stat='density',\n",
    "    common_norm=False,\n",
    "    palette='flag')\n",
    "fig.legend(labels=['Уходят', 'Остаются'])\n",
    "plt.title(\"Функция плотности переменной balance в разрезе\")\n",
    "plt.xlabel('Баланс на счете')\n",
    "plt.ylabel('Плотность')\n",
    "plt.show()"
   ]
  },
  {
   "cell_type": "code",
   "execution_count": 38,
   "id": "37bc2eee",
   "metadata": {
    "ExecuteTime": {
     "end_time": "2023-03-23T23:51:10.092837Z",
     "start_time": "2023-03-23T23:51:09.224831Z"
    }
   },
   "outputs": [
    {
     "data": {
      "image/png": "[encoded data removed]",
      "text/plain": [
       "<Figure size 720x720 with 2 Axes>"
      ]
     },
     "metadata": {
      "needs_background": "light"
     },
     "output_type": "display_data"
    }
   ],
   "source": [
    "\n",
    "def histbox(df:pd.DataFrame, col:str='value') -> tuple:\n",
    "    '''Функция для совместного отображения гистограмм и ящиков с усами'''\n",
    "    hue = None\n",
    "    df_hist = df\n",
    "    if col not in df.columns:\n",
    "        df_hist = df.melt()\n",
    "        hue = 'variable'\n",
    "        \n",
    "    f, (ax_hist, ax_box) = plt.subplots(2, sharex=True, figsize=(10,10),\n",
    "                                        gridspec_kw={\"height_ratios\": (.9,.1)})\n",
    "    sns.boxplot(data = df, orient=\"h\", ax=ax_box, fliersize=.5)\n",
    "    hist_params = {\"data\":df_hist, \"x\":col, \"ax\":ax_hist, \"stat\":\"density\", \"common_norm\":False, \"kde\":True}\n",
    "    if len(df_hist.value.unique()) < 40:\n",
    "        hist_params = {\"binwidth\":1, **hist_params}\n",
    "    elif len(df_hist.value.unique()) < 80:\n",
    "        hist_params = {\"binwidth\":2, **hist_params}\n",
    "        \n",
    "    try:\n",
    "        sns.histplot(**hist_params, hue=hue)\n",
    "    except ValueError:\n",
    "        sns.histplot(**hist_params, hue=\"churn\")\n",
    "\n",
    "    sns.despine(ax=ax_hist)\n",
    "    sns.despine(ax=ax_box, left=True)\n",
    "    ax_box.tick_params(axis=\"y\",which=\"both\",labelleft=False)\n",
    "    return f, ax_hist, ax_box\n",
    "\n",
    "histbox(data.assign(balance = data.balance.clip(0,data.balance.quantile(.95))).pivot(columns=\"churn\",values=\"balance\"));"
   ]
  },
  {
   "cell_type": "markdown",
   "id": "7882fb46",
   "metadata": {},
   "source": [
    "### Вывод"
   ]
  },
  {
   "cell_type": "markdown",
   "id": "918f60d8",
   "metadata": {},
   "source": [
    "<p></p>\n",
    "\n",
    "<div style=\"border:solid black 1px; padding: 20px\">\n",
    "\n",
    "Исходя из гистограмм можно сделать следующие выводы:\n",
    "\n",
    "- Переменная score распределена нормально\n",
    "- Переменная age распределена нормально \n",
    "- Переменные credit_card, last_activity, churn распределены по Бернулли\n",
    "- Переменная est_salary распределена Экспоненциально\n",
    "    \n",
    "Из гистограмм в разрезе видно:\n",
    "    \n",
    "- Клиенты возраста от 25 до 35 и от 50 до 60 более склонны к уходу из банка\n",
    "- Клиенты с предполагаемой зарплатой от 100 до 200 тысяч рублей уходят чаще\n",
    "- Клиенты с высоким кредитным рейтингом от 825 до 945 склонны к уходу из банка\n",
    "- Клиенты с суммой на счете от 375000 до 1375000 чаще покидают банк, чем клиенты с более низким балансом    "
   ]
  },
  {
   "cell_type": "markdown",
   "id": "3eb9deb4",
   "metadata": {},
   "source": [
    "### Исследование корреляций между переменными"
   ]
  },
  {
   "cell_type": "markdown",
   "id": "434fda74",
   "metadata": {},
   "source": [
    "#### Расчет корреляциионной матрицы"
   ]
  },
  {
   "cell_type": "code",
   "execution_count": 39,
   "id": "caa6be31",
   "metadata": {
    "ExecuteTime": {
     "end_time": "2023-03-23T23:51:10.108830Z",
     "start_time": "2023-03-23T23:51:10.096835Z"
    }
   },
   "outputs": [],
   "source": [
    "city = pd.get_dummies(data.city)\n",
    "city['user_id'] = data.user_id"
   ]
  },
  {
   "cell_type": "code",
   "execution_count": 40,
   "id": "620357b7",
   "metadata": {
    "ExecuteTime": {
     "end_time": "2023-03-23T23:51:10.123831Z",
     "start_time": "2023-03-23T23:51:10.110830Z"
    }
   },
   "outputs": [],
   "source": [
    "gender = pd.get_dummies(data.gender)\n",
    "gender['user_id'] = data.user_id"
   ]
  },
  {
   "cell_type": "code",
   "execution_count": 41,
   "id": "efd75830",
   "metadata": {
    "ExecuteTime": {
     "end_time": "2023-03-23T23:51:10.155831Z",
     "start_time": "2023-03-23T23:51:10.127835Z"
    }
   },
   "outputs": [],
   "source": [
    "corr = pd.merge(data, city)"
   ]
  },
  {
   "cell_type": "code",
   "execution_count": 42,
   "id": "d0b9080d",
   "metadata": {
    "ExecuteTime": {
     "end_time": "2023-03-23T23:51:10.187830Z",
     "start_time": "2023-03-23T23:51:10.159835Z"
    }
   },
   "outputs": [],
   "source": [
    "corr = pd.merge(corr, gender)"
   ]
  },
  {
   "cell_type": "code",
   "execution_count": 43,
   "id": "9803ec5c",
   "metadata": {
    "ExecuteTime": {
     "end_time": "2023-03-23T23:51:11.424831Z",
     "start_time": "2023-03-23T23:51:10.190831Z"
    },
    "scrolled": false
   },
   "outputs": [
    {
     "data": {
      "image/png": "[encoded data removed]",
      "text/plain": [
       "<Figure size 1080x1080 with 2 Axes>"
      ]
     },
     "metadata": {
      "needs_background": "light"
     },
     "output_type": "display_data"
    }
   ],
   "source": [
    "matrix = corr.corr()\n",
    "\n",
    "mask = np.triu(np.ones_like(matrix, dtype=bool))\n",
    "\n",
    "cmap = sns.diverging_palette(250, 15, s=75, l=40,\n",
    "                            n=9, center=\"light\", as_cmap=True)\n",
    "\n",
    "plt.figure(figsize=(15, 15))\n",
    "sns.heatmap(matrix, mask=mask, center=0, annot=True, fmt=\".0%\", cmap='vlag')\n",
    "plt.title('Треугольная корреляционная матрица', fontsize = 10)\n",
    "plt.show()"
   ]
  },
  {
   "cell_type": "markdown",
   "id": "d5dee182",
   "metadata": {},
   "source": [
    "### Вывод"
   ]
  },
  {
   "cell_type": "markdown",
   "id": "b5b72851",
   "metadata": {},
   "source": [
    "<p></p>\n",
    "\n",
    "<div style=\"border:solid black 1px; padding: 20px\">\n",
    " \n",
    "На уход клиентов влияют следюущие показатели: \n",
    "\n",
    "- products с умеренной корреляцией 31%    \n",
    "- equity с умеренной корреляцией 28%\n",
    "- balance_1 с умеренной корреляцией 26%\n",
    "- last_activity со слабой корреляцией 17%    \n",
    "- balance со слабой корреляцией 14%  \n",
    "- М со слабой корреляцией 13%\n",
    "- score со слабой корреляцией 11% \n",
    "\n",
    "    \n",
    "Рекоммендую в первую очередь обратить внимание на такие факторы:\n",
    "- Количество продуктов, которыми пользуется клиент\n",
    "- Приблизительную оценку собственности киента\n",
    "- Баланс клиента\n",
    "  \n",
    "\n",
    "    \n",
    "    \n",
    "</div>\n",
    "\n",
    "<p></p>"
   ]
  },
  {
   "cell_type": "markdown",
   "id": "530a9b42",
   "metadata": {},
   "source": [
    "### Составление портрета срднестатистического клиента"
   ]
  },
  {
   "cell_type": "markdown",
   "id": "5baad592",
   "metadata": {},
   "source": [
    "#### Неотточные клиеты:\n"
   ]
  },
  {
   "cell_type": "code",
   "execution_count": 62,
   "id": "04c3f449",
   "metadata": {
    "ExecuteTime": {
     "end_time": "2023-03-23T23:51:13.587366Z",
     "start_time": "2023-03-23T23:51:13.542367Z"
    }
   },
   "outputs": [
    {
     "data": {
      "text/html": [
       "<div>\n",
       "<style scoped>\n",
       "    .dataframe tbody tr th:only-of-type {\n",
       "        vertical-align: middle;\n",
       "    }\n",
       "\n",
       "    .dataframe tbody tr th {\n",
       "        vertical-align: top;\n",
       "    }\n",
       "\n",
       "    .dataframe thead th {\n",
       "        text-align: right;\n",
       "    }\n",
       "</style>\n",
       "<table border=\"1\" class=\"dataframe\">\n",
       "  <thead>\n",
       "    <tr style=\"text-align: right;\">\n",
       "      <th></th>\n",
       "      <th>user_id</th>\n",
       "      <th>score</th>\n",
       "      <th>age</th>\n",
       "      <th>equity</th>\n",
       "      <th>balance</th>\n",
       "      <th>products</th>\n",
       "      <th>credit_card</th>\n",
       "      <th>last_activity</th>\n",
       "      <th>est_salary</th>\n",
       "      <th>churn</th>\n",
       "      <th>balance_1</th>\n",
       "    </tr>\n",
       "  </thead>\n",
       "  <tbody>\n",
       "    <tr>\n",
       "      <th>count</th>\n",
       "      <td>8105.000000</td>\n",
       "      <td>8105.000000</td>\n",
       "      <td>8105.000000</td>\n",
       "      <td>8105.000000</td>\n",
       "      <td>8.105000e+03</td>\n",
       "      <td>8105.000000</td>\n",
       "      <td>8105.000000</td>\n",
       "      <td>8105.000000</td>\n",
       "      <td>8.105000e+03</td>\n",
       "      <td>8105.0</td>\n",
       "      <td>8105.000000</td>\n",
       "    </tr>\n",
       "    <tr>\n",
       "      <th>mean</th>\n",
       "      <td>171907.064035</td>\n",
       "      <td>845.435657</td>\n",
       "      <td>43.015793</td>\n",
       "      <td>2.381246</td>\n",
       "      <td>5.303567e+05</td>\n",
       "      <td>1.758421</td>\n",
       "      <td>0.708822</td>\n",
       "      <td>0.483282</td>\n",
       "      <td>1.477883e+05</td>\n",
       "      <td>0.0</td>\n",
       "      <td>0.722764</td>\n",
       "    </tr>\n",
       "    <tr>\n",
       "      <th>std</th>\n",
       "      <td>33329.159923</td>\n",
       "      <td>68.007876</td>\n",
       "      <td>12.372299</td>\n",
       "      <td>1.970537</td>\n",
       "      <td>1.697410e+06</td>\n",
       "      <td>0.713447</td>\n",
       "      <td>0.454334</td>\n",
       "      <td>0.499751</td>\n",
       "      <td>1.427922e+05</td>\n",
       "      <td>0.0</td>\n",
       "      <td>0.447662</td>\n",
       "    </tr>\n",
       "    <tr>\n",
       "      <th>min</th>\n",
       "      <td>95384.000000</td>\n",
       "      <td>642.000000</td>\n",
       "      <td>18.000000</td>\n",
       "      <td>0.000000</td>\n",
       "      <td>0.000000e+00</td>\n",
       "      <td>1.000000</td>\n",
       "      <td>0.000000</td>\n",
       "      <td>0.000000</td>\n",
       "      <td>2.546300e+03</td>\n",
       "      <td>0.0</td>\n",
       "      <td>0.000000</td>\n",
       "    </tr>\n",
       "    <tr>\n",
       "      <th>25%</th>\n",
       "      <td>142981.000000</td>\n",
       "      <td>796.000000</td>\n",
       "      <td>34.000000</td>\n",
       "      <td>0.000000</td>\n",
       "      <td>0.000000e+00</td>\n",
       "      <td>1.000000</td>\n",
       "      <td>0.000000</td>\n",
       "      <td>0.000000</td>\n",
       "      <td>7.348966e+04</td>\n",
       "      <td>0.0</td>\n",
       "      <td>0.000000</td>\n",
       "    </tr>\n",
       "    <tr>\n",
       "      <th>50%</th>\n",
       "      <td>173142.000000</td>\n",
       "      <td>848.000000</td>\n",
       "      <td>40.000000</td>\n",
       "      <td>3.000000</td>\n",
       "      <td>3.217433e+05</td>\n",
       "      <td>2.000000</td>\n",
       "      <td>1.000000</td>\n",
       "      <td>0.000000</td>\n",
       "      <td>1.182472e+05</td>\n",
       "      <td>0.0</td>\n",
       "      <td>1.000000</td>\n",
       "    </tr>\n",
       "    <tr>\n",
       "      <th>75%</th>\n",
       "      <td>201157.000000</td>\n",
       "      <td>900.000000</td>\n",
       "      <td>51.000000</td>\n",
       "      <td>4.000000</td>\n",
       "      <td>6.656355e+05</td>\n",
       "      <td>2.000000</td>\n",
       "      <td>1.000000</td>\n",
       "      <td>1.000000</td>\n",
       "      <td>1.740878e+05</td>\n",
       "      <td>0.0</td>\n",
       "      <td>1.000000</td>\n",
       "    </tr>\n",
       "    <tr>\n",
       "      <th>max</th>\n",
       "      <td>229145.000000</td>\n",
       "      <td>1000.000000</td>\n",
       "      <td>86.000000</td>\n",
       "      <td>9.000000</td>\n",
       "      <td>1.191136e+08</td>\n",
       "      <td>5.000000</td>\n",
       "      <td>1.000000</td>\n",
       "      <td>1.000000</td>\n",
       "      <td>1.395064e+06</td>\n",
       "      <td>0.0</td>\n",
       "      <td>1.000000</td>\n",
       "    </tr>\n",
       "  </tbody>\n",
       "</table>\n",
       "</div>"
      ],
      "text/plain": [
       "             user_id        score          age       equity       balance  \\\n",
       "count    8105.000000  8105.000000  8105.000000  8105.000000  8.105000e+03   \n",
       "mean   171907.064035   845.435657    43.015793     2.381246  5.303567e+05   \n",
       "std     33329.159923    68.007876    12.372299     1.970537  1.697410e+06   \n",
       "min     95384.000000   642.000000    18.000000     0.000000  0.000000e+00   \n",
       "25%    142981.000000   796.000000    34.000000     0.000000  0.000000e+00   \n",
       "50%    173142.000000   848.000000    40.000000     3.000000  3.217433e+05   \n",
       "75%    201157.000000   900.000000    51.000000     4.000000  6.656355e+05   \n",
       "max    229145.000000  1000.000000    86.000000     9.000000  1.191136e+08   \n",
       "\n",
       "          products  credit_card  last_activity    est_salary   churn  \\\n",
       "count  8105.000000  8105.000000    8105.000000  8.105000e+03  8105.0   \n",
       "mean      1.758421     0.708822       0.483282  1.477883e+05     0.0   \n",
       "std       0.713447     0.454334       0.499751  1.427922e+05     0.0   \n",
       "min       1.000000     0.000000       0.000000  2.546300e+03     0.0   \n",
       "25%       1.000000     0.000000       0.000000  7.348966e+04     0.0   \n",
       "50%       2.000000     1.000000       0.000000  1.182472e+05     0.0   \n",
       "75%       2.000000     1.000000       1.000000  1.740878e+05     0.0   \n",
       "max       5.000000     1.000000       1.000000  1.395064e+06     0.0   \n",
       "\n",
       "         balance_1  \n",
       "count  8105.000000  \n",
       "mean      0.722764  \n",
       "std       0.447662  \n",
       "min       0.000000  \n",
       "25%       0.000000  \n",
       "50%       1.000000  \n",
       "75%       1.000000  \n",
       "max       1.000000  "
      ]
     },
     "execution_count": 62,
     "metadata": {},
     "output_type": "execute_result"
    }
   ],
   "source": [
    "data[data['churn'] == 0].describe()"
   ]
  },
  {
   "cell_type": "code",
   "execution_count": 63,
   "id": "9350caf2",
   "metadata": {
    "ExecuteTime": {
     "end_time": "2023-03-23T23:51:13.603367Z",
     "start_time": "2023-03-23T23:51:13.588368Z"
    }
   },
   "outputs": [
    {
     "data": {
      "text/plain": [
       "Ярославль    4737\n",
       "Рыбинск      2217\n",
       "Ростов       1151\n",
       "Name: city, dtype: int64"
      ]
     },
     "execution_count": 63,
     "metadata": {},
     "output_type": "execute_result"
    }
   ],
   "source": [
    "data[data['churn'] == 0].city.value_counts()"
   ]
  },
  {
   "cell_type": "code",
   "execution_count": 64,
   "id": "ea9d9181",
   "metadata": {
    "ExecuteTime": {
     "end_time": "2023-03-23T23:51:13.618369Z",
     "start_time": "2023-03-23T23:51:13.606369Z"
    }
   },
   "outputs": [
    {
     "data": {
      "text/plain": [
       "Ж    4317\n",
       "М    3788\n",
       "Name: gender, dtype: int64"
      ]
     },
     "execution_count": 64,
     "metadata": {},
     "output_type": "execute_result"
    }
   ],
   "source": [
    "data[data['churn'] == 0].gender.value_counts()"
   ]
  },
  {
   "cell_type": "code",
   "execution_count": 65,
   "id": "c2d75764",
   "metadata": {
    "ExecuteTime": {
     "end_time": "2023-03-23T23:51:13.633365Z",
     "start_time": "2023-03-23T23:51:13.620369Z"
    }
   },
   "outputs": [
    {
     "data": {
      "text/plain": [
       "321743.27"
      ]
     },
     "execution_count": 65,
     "metadata": {},
     "output_type": "execute_result"
    }
   ],
   "source": [
    "data[data['churn'] == 0].balance.median()"
   ]
  },
  {
   "cell_type": "code",
   "execution_count": 66,
   "id": "322fb0b5",
   "metadata": {
    "ExecuteTime": {
     "end_time": "2023-03-23T23:51:13.648369Z",
     "start_time": "2023-03-23T23:51:13.635368Z"
    }
   },
   "outputs": [
    {
     "data": {
      "text/plain": [
       "118247.25"
      ]
     },
     "execution_count": 66,
     "metadata": {},
     "output_type": "execute_result"
    }
   ],
   "source": [
    "data[data['churn'] == 0].est_salary.median()"
   ]
  },
  {
   "cell_type": "markdown",
   "id": "df7ee3bf",
   "metadata": {},
   "source": [
    "#### Отточные клиеты:"
   ]
  },
  {
   "cell_type": "code",
   "execution_count": 67,
   "id": "3cce7c6a",
   "metadata": {
    "ExecuteTime": {
     "end_time": "2023-03-23T23:51:13.664374Z",
     "start_time": "2023-03-23T23:51:13.650367Z"
    }
   },
   "outputs": [
    {
     "data": {
      "text/plain": [
       "0.7020340846619021"
      ]
     },
     "execution_count": 67,
     "metadata": {},
     "output_type": "execute_result"
    }
   ],
   "source": [
    "data[data['churn'] == 1].last_activity.mean()"
   ]
  },
  {
   "cell_type": "code",
   "execution_count": 68,
   "id": "aae9edfa",
   "metadata": {
    "ExecuteTime": {
     "end_time": "2023-03-23T23:51:13.728368Z",
     "start_time": "2023-03-23T23:51:13.667367Z"
    }
   },
   "outputs": [
    {
     "data": {
      "text/html": [
       "<div>\n",
       "<style scoped>\n",
       "    .dataframe tbody tr th:only-of-type {\n",
       "        vertical-align: middle;\n",
       "    }\n",
       "\n",
       "    .dataframe tbody tr th {\n",
       "        vertical-align: top;\n",
       "    }\n",
       "\n",
       "    .dataframe thead th {\n",
       "        text-align: right;\n",
       "    }\n",
       "</style>\n",
       "<table border=\"1\" class=\"dataframe\">\n",
       "  <thead>\n",
       "    <tr style=\"text-align: right;\">\n",
       "      <th></th>\n",
       "      <th>user_id</th>\n",
       "      <th>score</th>\n",
       "      <th>age</th>\n",
       "      <th>equity</th>\n",
       "      <th>balance</th>\n",
       "      <th>products</th>\n",
       "      <th>credit_card</th>\n",
       "      <th>last_activity</th>\n",
       "      <th>est_salary</th>\n",
       "      <th>churn</th>\n",
       "      <th>balance_1</th>\n",
       "    </tr>\n",
       "  </thead>\n",
       "  <tbody>\n",
       "    <tr>\n",
       "      <th>count</th>\n",
       "      <td>1819.000000</td>\n",
       "      <td>1819.000000</td>\n",
       "      <td>1819.000000</td>\n",
       "      <td>1819.000000</td>\n",
       "      <td>1.819000e+03</td>\n",
       "      <td>1819.000000</td>\n",
       "      <td>1819.000000</td>\n",
       "      <td>1819.000000</td>\n",
       "      <td>1.819000e+03</td>\n",
       "      <td>1819.0</td>\n",
       "      <td>1819.000000</td>\n",
       "    </tr>\n",
       "    <tr>\n",
       "      <th>mean</th>\n",
       "      <td>170980.103903</td>\n",
       "      <td>863.416163</td>\n",
       "      <td>41.450247</td>\n",
       "      <td>3.763057</td>\n",
       "      <td>1.126350e+06</td>\n",
       "      <td>2.376031</td>\n",
       "      <td>0.551402</td>\n",
       "      <td>0.702034</td>\n",
       "      <td>1.482897e+05</td>\n",
       "      <td>1.0</td>\n",
       "      <td>0.992853</td>\n",
       "    </tr>\n",
       "    <tr>\n",
       "      <th>std</th>\n",
       "      <td>35291.182757</td>\n",
       "      <td>49.620984</td>\n",
       "      <td>11.176459</td>\n",
       "      <td>1.585980</td>\n",
       "      <td>2.029411e+06</td>\n",
       "      <td>0.923592</td>\n",
       "      <td>0.497488</td>\n",
       "      <td>0.457490</td>\n",
       "      <td>1.229322e+05</td>\n",
       "      <td>0.0</td>\n",
       "      <td>0.084259</td>\n",
       "    </tr>\n",
       "    <tr>\n",
       "      <th>min</th>\n",
       "      <td>94561.000000</td>\n",
       "      <td>706.000000</td>\n",
       "      <td>18.000000</td>\n",
       "      <td>0.000000</td>\n",
       "      <td>0.000000e+00</td>\n",
       "      <td>0.000000</td>\n",
       "      <td>0.000000</td>\n",
       "      <td>0.000000</td>\n",
       "      <td>1.088027e+04</td>\n",
       "      <td>1.0</td>\n",
       "      <td>0.000000</td>\n",
       "    </tr>\n",
       "    <tr>\n",
       "      <th>25%</th>\n",
       "      <td>141304.000000</td>\n",
       "      <td>828.000000</td>\n",
       "      <td>32.000000</td>\n",
       "      <td>3.000000</td>\n",
       "      <td>3.815113e+05</td>\n",
       "      <td>2.000000</td>\n",
       "      <td>0.000000</td>\n",
       "      <td>0.000000</td>\n",
       "      <td>8.319661e+04</td>\n",
       "      <td>1.0</td>\n",
       "      <td>1.000000</td>\n",
       "    </tr>\n",
       "    <tr>\n",
       "      <th>50%</th>\n",
       "      <td>170532.000000</td>\n",
       "      <td>866.000000</td>\n",
       "      <td>39.000000</td>\n",
       "      <td>4.000000</td>\n",
       "      <td>7.753652e+05</td>\n",
       "      <td>2.000000</td>\n",
       "      <td>1.000000</td>\n",
       "      <td>1.000000</td>\n",
       "      <td>1.253952e+05</td>\n",
       "      <td>1.0</td>\n",
       "      <td>1.000000</td>\n",
       "    </tr>\n",
       "    <tr>\n",
       "      <th>75%</th>\n",
       "      <td>201399.500000</td>\n",
       "      <td>898.000000</td>\n",
       "      <td>52.000000</td>\n",
       "      <td>5.000000</td>\n",
       "      <td>1.347228e+06</td>\n",
       "      <td>3.000000</td>\n",
       "      <td>1.000000</td>\n",
       "      <td>1.000000</td>\n",
       "      <td>1.759854e+05</td>\n",
       "      <td>1.0</td>\n",
       "      <td>1.000000</td>\n",
       "    </tr>\n",
       "    <tr>\n",
       "      <th>max</th>\n",
       "      <td>229058.000000</td>\n",
       "      <td>1000.000000</td>\n",
       "      <td>79.000000</td>\n",
       "      <td>9.000000</td>\n",
       "      <td>6.486621e+07</td>\n",
       "      <td>5.000000</td>\n",
       "      <td>1.000000</td>\n",
       "      <td>1.000000</td>\n",
       "      <td>1.263028e+06</td>\n",
       "      <td>1.0</td>\n",
       "      <td>1.000000</td>\n",
       "    </tr>\n",
       "  </tbody>\n",
       "</table>\n",
       "</div>"
      ],
      "text/plain": [
       "             user_id        score          age       equity       balance  \\\n",
       "count    1819.000000  1819.000000  1819.000000  1819.000000  1.819000e+03   \n",
       "mean   170980.103903   863.416163    41.450247     3.763057  1.126350e+06   \n",
       "std     35291.182757    49.620984    11.176459     1.585980  2.029411e+06   \n",
       "min     94561.000000   706.000000    18.000000     0.000000  0.000000e+00   \n",
       "25%    141304.000000   828.000000    32.000000     3.000000  3.815113e+05   \n",
       "50%    170532.000000   866.000000    39.000000     4.000000  7.753652e+05   \n",
       "75%    201399.500000   898.000000    52.000000     5.000000  1.347228e+06   \n",
       "max    229058.000000  1000.000000    79.000000     9.000000  6.486621e+07   \n",
       "\n",
       "          products  credit_card  last_activity    est_salary   churn  \\\n",
       "count  1819.000000  1819.000000    1819.000000  1.819000e+03  1819.0   \n",
       "mean      2.376031     0.551402       0.702034  1.482897e+05     1.0   \n",
       "std       0.923592     0.497488       0.457490  1.229322e+05     0.0   \n",
       "min       0.000000     0.000000       0.000000  1.088027e+04     1.0   \n",
       "25%       2.000000     0.000000       0.000000  8.319661e+04     1.0   \n",
       "50%       2.000000     1.000000       1.000000  1.253952e+05     1.0   \n",
       "75%       3.000000     1.000000       1.000000  1.759854e+05     1.0   \n",
       "max       5.000000     1.000000       1.000000  1.263028e+06     1.0   \n",
       "\n",
       "         balance_1  \n",
       "count  1819.000000  \n",
       "mean      0.992853  \n",
       "std       0.084259  \n",
       "min       0.000000  \n",
       "25%       1.000000  \n",
       "50%       1.000000  \n",
       "75%       1.000000  \n",
       "max       1.000000  "
      ]
     },
     "execution_count": 68,
     "metadata": {},
     "output_type": "execute_result"
    }
   ],
   "source": [
    "data[data['churn'] == 1].describe()"
   ]
  },
  {
   "cell_type": "code",
   "execution_count": 69,
   "id": "7e9ed93e",
   "metadata": {
    "ExecuteTime": {
     "end_time": "2023-03-23T23:51:13.744367Z",
     "start_time": "2023-03-23T23:51:13.731369Z"
    }
   },
   "outputs": [
    {
     "data": {
      "text/plain": [
       "Ярославль    1117\n",
       "Рыбинск       437\n",
       "Ростов        265\n",
       "Name: city, dtype: int64"
      ]
     },
     "execution_count": 69,
     "metadata": {},
     "output_type": "execute_result"
    }
   ],
   "source": [
    "data[data['churn'] == 1].city.value_counts()"
   ]
  },
  {
   "cell_type": "code",
   "execution_count": 70,
   "id": "af457756",
   "metadata": {
    "ExecuteTime": {
     "end_time": "2023-03-23T23:51:13.760367Z",
     "start_time": "2023-03-23T23:51:13.747368Z"
    }
   },
   "outputs": [
    {
     "data": {
      "text/plain": [
       "М    1183\n",
       "Ж     636\n",
       "Name: gender, dtype: int64"
      ]
     },
     "execution_count": 70,
     "metadata": {},
     "output_type": "execute_result"
    }
   ],
   "source": [
    "data[data['churn'] == 1].gender.value_counts()"
   ]
  },
  {
   "cell_type": "code",
   "execution_count": 71,
   "id": "66f7e23f",
   "metadata": {
    "ExecuteTime": {
     "end_time": "2023-03-23T23:51:13.776368Z",
     "start_time": "2023-03-23T23:51:13.763368Z"
    }
   },
   "outputs": [
    {
     "data": {
      "text/plain": [
       "775365.19"
      ]
     },
     "execution_count": 71,
     "metadata": {},
     "output_type": "execute_result"
    }
   ],
   "source": [
    "data[data['churn'] == 1].balance.median()"
   ]
  },
  {
   "cell_type": "code",
   "execution_count": 72,
   "id": "f221976b",
   "metadata": {
    "ExecuteTime": {
     "end_time": "2023-03-23T23:51:13.792367Z",
     "start_time": "2023-03-23T23:51:13.778385Z"
    }
   },
   "outputs": [
    {
     "data": {
      "text/plain": [
       "125395.22"
      ]
     },
     "execution_count": 72,
     "metadata": {},
     "output_type": "execute_result"
    }
   ],
   "source": [
    "data[data['churn'] == 1].est_salary.median()"
   ]
  },
  {
   "cell_type": "markdown",
   "id": "cd81b571",
   "metadata": {},
   "source": [
    "### Вывод"
   ]
  },
  {
   "cell_type": "markdown",
   "id": "18f3b8fa",
   "metadata": {},
   "source": [
    "Среднестатичстический клиент:\n",
    "\n",
    "|Переменная|Неотточный клиент|Отточный клиент|\n",
    "|---|---|---|\n",
    "| Средняя оценка кредитного рейтинга:  | 845  |  863 |\n",
    "| Город:   | Ярославль  | Ярославль  |\n",
    "| Пол:  | Ж  | М  |\n",
    "| Средний возраст:  | 43  | 41  |\n",
    "| Средняя оценка собственности клиента:  | 2.4  | 3.8  |\n",
    "| Медаинный баланс на счете:  | 321643  | 775365 |\n",
    "| Среднее количество продутков:  | 1.8  | 2.4  |\n",
    "| Наличие кредитной карты в процентах:  | 71%  | 55%  |\n",
    "| Последняя активность в процентах:  | 48%  | 70%  |\n",
    "| Медианная приблизительная зарплата:  | 118229  | 125395  |\n",
    "\n",
    "\n",
    "Рекоммендую обратить внимание на такие факторы оттока:\n",
    "\n",
    "- Высокую среднюю оценку кредитного рейтинга 863\n",
    "- Мужской пол\n",
    "- Высокую среднюю собственности клиента 3.8\n",
    "- Высокий медианный баланс на счете 775365\n",
    "- Среднее количество продутков 2.4\n",
    "- Низкий уровень наличие кредитной карты в процентах 55%\n",
    "- Медианная приблизительная зарплата 125395\n"
   ]
  },
  {
   "cell_type": "markdown",
   "id": "e0f33d41",
   "metadata": {},
   "source": [
    "## Проверка гипотез"
   ]
  },
  {
   "cell_type": "markdown",
   "id": "9a237a57",
   "metadata": {},
   "source": [
    "### Проверим гипотезу различия дохода между теми клиентами, которые ушли и теми, которые остались"
   ]
  },
  {
   "cell_type": "code",
   "execution_count": 73,
   "id": "b2c1bbc0",
   "metadata": {
    "ExecuteTime": {
     "end_time": "2023-03-23T23:51:13.808368Z",
     "start_time": "2023-03-23T23:51:13.793367Z"
    }
   },
   "outputs": [
    {
     "data": {
      "text/plain": [
       "churn\n",
       "0    147788.268353\n",
       "1    148289.702221\n",
       "Name: est_salary, dtype: float64"
      ]
     },
     "execution_count": 73,
     "metadata": {},
     "output_type": "execute_result"
    }
   ],
   "source": [
    "data.groupby('churn')['est_salary'].mean()"
   ]
  },
  {
   "cell_type": "code",
   "execution_count": 74,
   "id": "0efdb33e",
   "metadata": {
    "ExecuteTime": {
     "end_time": "2023-03-23T23:51:13.824368Z",
     "start_time": "2023-03-23T23:51:13.809368Z"
    },
    "scrolled": true
   },
   "outputs": [
    {
     "data": {
      "text/plain": [
       "304044.812"
      ]
     },
     "execution_count": 74,
     "metadata": {},
     "output_type": "execute_result"
    }
   ],
   "source": [
    "np.percentile(data.query('churn == 1')['est_salary'], 95)"
   ]
  },
  {
   "cell_type": "code",
   "execution_count": 75,
   "id": "d653da84",
   "metadata": {
    "ExecuteTime": {
     "end_time": "2023-03-23T23:51:13.840366Z",
     "start_time": "2023-03-23T23:51:13.825366Z"
    }
   },
   "outputs": [
    {
     "data": {
      "text/plain": [
       "320940.18599999987"
      ]
     },
     "execution_count": 75,
     "metadata": {},
     "output_type": "execute_result"
    }
   ],
   "source": [
    "np.percentile(data.query('churn == 0')['est_salary'], 95)"
   ]
  },
  {
   "cell_type": "code",
   "execution_count": 76,
   "id": "1954904a",
   "metadata": {
    "ExecuteTime": {
     "end_time": "2023-03-23T23:51:14.410927Z",
     "start_time": "2023-03-23T23:51:13.841367Z"
    },
    "scrolled": true
   },
   "outputs": [
    {
     "data": {
      "image/png": "[encoded data removed]",
      "text/plain": [
       "<Figure size 432x288 with 1 Axes>"
      ]
     },
     "metadata": {
      "needs_background": "light"
     },
     "output_type": "display_data"
    }
   ],
   "source": [
    "data.query('churn == 1')['est_salary'].clip(0, 304044.812).hist(bins=100, alpha=0.5, color='orange', density = True)\n",
    "data.query('churn== 0')['est_salary'].clip(0, 320670.0019999999).hist(bins=100, alpha=0.5, color='green', density = True)\n",
    "plt.title('Распредение доходов для ушедших и оставшихся клиентов') # название графика\n",
    "plt.xlabel('Доходы клиента') # подпись оси x\n",
    "plt.show()"
   ]
  },
  {
   "cell_type": "markdown",
   "id": "6f15e311",
   "metadata": {},
   "source": [
    "#### Воспользуемся тестом Манна-Уитни"
   ]
  },
  {
   "cell_type": "markdown",
   "id": "23d505ee",
   "metadata": {},
   "source": [
    "Поскольку две выборки имеют не нормальное распределение, то воспользуемся тестом Манна-Уитни"
   ]
  },
  {
   "cell_type": "markdown",
   "id": "7c6fe2a7",
   "metadata": {},
   "source": [
    "${H}_{0}$: Средние доходы ушедших клиентов равны средним доходам оставшихся клиентам\n",
    "\n",
    "${H}_{1}$: Средние доходы ушедших клиентов неравны средним доходам оставшихся клиентам\n",
    "\n",
    "$\\alpha = 0.05$"
   ]
  },
  {
   "cell_type": "code",
   "execution_count": 77,
   "id": "5a34c70b",
   "metadata": {
    "ExecuteTime": {
     "end_time": "2023-03-23T23:51:14.441932Z",
     "start_time": "2023-03-23T23:51:14.416933Z"
    }
   },
   "outputs": [
    {
     "name": "stdout",
     "output_type": "stream",
     "text": [
      "p-value: 0.00023403935398296229\n",
      "Отвергаем нулевую гипотезу\n"
     ]
    }
   ],
   "source": [
    "results = mannwhitneyu(data.query('churn == 1')['est_salary'], \n",
    "                             data.query('churn== 0')['est_salary'], \n",
    "                             alternative='two-sided')\n",
    "\n",
    "alpha = 0.05 #задаем значение уровня значимости\n",
    "\n",
    "# вывод значения p-value на экран \n",
    "print(\"p-value:\", results.pvalue)\n",
    "if results.pvalue < alpha:\n",
    "    print(\"Отвергаем нулевую гипотезу\")\n",
    "else:\n",
    "    print(\"Не получилось отвергнуть нулевую гипотезу\")"
   ]
  },
  {
   "cell_type": "markdown",
   "id": "a9787779",
   "metadata": {},
   "source": [
    "### Сформулируем и проверим статистическую гипотезу относительно представленных данных"
   ]
  },
  {
   "cell_type": "markdown",
   "id": "d97f6809",
   "metadata": {},
   "source": [
    "${H}_{0}$: Средний рейтинг ушедших клиентов равен среднему рейтингу оставшихся клиентов\n",
    "\n",
    "${H}_{1}$: Средий рейтинг клиентов неравен среднему рейтингу оставшихся клиентов\n",
    "\n",
    "$\\alpha = 0.05$"
   ]
  },
  {
   "cell_type": "code",
   "execution_count": 78,
   "id": "b7267d31",
   "metadata": {
    "ExecuteTime": {
     "end_time": "2023-03-23T23:51:14.457931Z",
     "start_time": "2023-03-23T23:51:14.443929Z"
    }
   },
   "outputs": [
    {
     "data": {
      "text/plain": [
       "churn\n",
       "0    845.435657\n",
       "1    863.416163\n",
       "Name: score, dtype: float64"
      ]
     },
     "execution_count": 78,
     "metadata": {},
     "output_type": "execute_result"
    }
   ],
   "source": [
    "data.groupby('churn')['score'].mean()"
   ]
  },
  {
   "cell_type": "code",
   "execution_count": 79,
   "id": "783e3ff3",
   "metadata": {
    "ExecuteTime": {
     "end_time": "2023-03-23T23:51:14.472967Z",
     "start_time": "2023-03-23T23:51:14.458928Z"
    }
   },
   "outputs": [
    {
     "data": {
      "text/plain": [
       "779.9"
      ]
     },
     "execution_count": 79,
     "metadata": {},
     "output_type": "execute_result"
    }
   ],
   "source": [
    "np.percentile(data.query('churn == 1')['score'], 5)"
   ]
  },
  {
   "cell_type": "code",
   "execution_count": 80,
   "id": "5059b2e5",
   "metadata": {
    "ExecuteTime": {
     "end_time": "2023-03-23T23:51:14.488932Z",
     "start_time": "2023-03-23T23:51:14.473933Z"
    }
   },
   "outputs": [
    {
     "data": {
      "text/plain": [
       "729.0"
      ]
     },
     "execution_count": 80,
     "metadata": {},
     "output_type": "execute_result"
    }
   ],
   "source": [
    "np.percentile(data.query('churn == 0')['score'], 5)"
   ]
  },
  {
   "cell_type": "code",
   "execution_count": 81,
   "id": "0117a912",
   "metadata": {
    "ExecuteTime": {
     "end_time": "2023-03-23T23:51:14.964499Z",
     "start_time": "2023-03-23T23:51:14.490927Z"
    }
   },
   "outputs": [
    {
     "data": {
      "image/png": "[encoded data removed]",
      "text/plain": [
       "<Figure size 432x288 with 1 Axes>"
      ]
     },
     "metadata": {
      "needs_background": "light"
     },
     "output_type": "display_data"
    }
   ],
   "source": [
    "data.query('churn == 1')['score'].clip(779.9, 1000).hist(bins=100, alpha=0.5, color='orange', density=True)\n",
    "data.query('churn== 0')['score'].clip(729.0, 1000).hist(bins=100, alpha=0.5, color='green', density=True)\n",
    "plt.title('Распредение доходов для ушедших и оставшихся клиентов') # название графика\n",
    "plt.xlabel('Доходы клиента') # подпись оси x\n",
    "plt.show()"
   ]
  },
  {
   "cell_type": "code",
   "execution_count": 82,
   "id": "3899f99c",
   "metadata": {
    "ExecuteTime": {
     "end_time": "2023-03-23T23:51:14.980480Z",
     "start_time": "2023-03-23T23:51:14.967475Z"
    }
   },
   "outputs": [
    {
     "name": "stdout",
     "output_type": "stream",
     "text": [
      "p-value: 1.4273192549892334e-37\n",
      "Отвергаем нулевую гипотезу\n"
     ]
    }
   ],
   "source": [
    "results = st.ttest_ind(\n",
    "    data.query('churn == 1')['score'],\n",
    "    data.query('churn== 0')['score'],\n",
    "    equal_var = False,\n",
    "    nan_policy='omit'\n",
    ")    \n",
    "\n",
    "alpha = 0.05 #задаем значение уровня значимости\n",
    "\n",
    "# вывод значения p-value на экран \n",
    "print(\"p-value:\", results.pvalue)\n",
    "if results.pvalue < alpha:\n",
    "    print(\"Отвергаем нулевую гипотезу\")\n",
    "else:\n",
    "    print(\"Не получилось отвергнуть нулевую гипотезу\")"
   ]
  },
  {
   "cell_type": "markdown",
   "id": "fbe1eaca",
   "metadata": {},
   "source": [
    "### Вывод"
   ]
  },
  {
   "cell_type": "markdown",
   "id": "dc8c4f91",
   "metadata": {},
   "source": [
    "<p></p>\n",
    "\n",
    "<div style=\"border:solid black 1px; padding: 20px\">\n",
    "\n",
    "- При проверки гипотезы о раличии дохода между теми клиентами, которые ушли и теми, которые остались было выяснено:\n",
    "При 5% уровне значимости можно сказать, что средние доходы между теми клиентами, которые ушли и которые остались неравны. Для проверки гипотезы был использован тест Манна-Уитней, так как данные не являются нормальными\n",
    "    \n",
    "- При проверке гипотезы о различии среднего рейтинга между теми клиентами, которые ушли и теми, которые остались было выяснено:\n",
    "При 5% уровне значимости можно сказать, что средний рейтинг ушедших клиентов неравен среднему рейтингу оставшихся клиентов\n",
    "    \n",
    "    \n",
    "\n",
    "</div>\n",
    "\n",
    "<p></p>"
   ]
  },
  {
   "cell_type": "markdown",
   "id": "293cf98a",
   "metadata": {},
   "source": [
    "## Влияние признаков на отток"
   ]
  },
  {
   "cell_type": "code",
   "execution_count": 83,
   "id": "553c54cc",
   "metadata": {
    "ExecuteTime": {
     "end_time": "2023-03-23T23:51:14.996480Z",
     "start_time": "2023-03-23T23:51:14.988475Z"
    }
   },
   "outputs": [
    {
     "data": {
      "text/plain": [
       "user_id           0\n",
       "score             0\n",
       "age               0\n",
       "equity            0\n",
       "balance           0\n",
       "products          0\n",
       "credit_card       0\n",
       "last_activity     0\n",
       "est_salary        0\n",
       "churn             0\n",
       "balance_1         0\n",
       "city_Ростов       0\n",
       "city_Рыбинск      0\n",
       "city_Ярославль    0\n",
       "gender_Ж          0\n",
       "gender_М          0\n",
       "dtype: int64"
      ]
     },
     "execution_count": 83,
     "metadata": {},
     "output_type": "execute_result"
    }
   ],
   "source": [
    "data_new.isna().sum()"
   ]
  },
  {
   "cell_type": "code",
   "execution_count": 84,
   "id": "2b51037d",
   "metadata": {
    "ExecuteTime": {
     "end_time": "2023-03-23T23:51:15.012481Z",
     "start_time": "2023-03-23T23:51:14.999476Z"
    }
   },
   "outputs": [],
   "source": [
    "data_new = data.copy()\n",
    "# Произведем One-Hot encoding \n",
    "data_new = pd.get_dummies(data_new)\n",
    "\n",
    "y = np.array(data_new['churn'])\n",
    "X = data_new.drop('churn', axis = 1)\n",
    "\n",
    "X_name = list(X.columns)\n",
    "y_name = list(['churn'])\n",
    "\n",
    "X_train, X_test, y_train, y_test = train_test_split(X, y, test_size=0.2, random_state = 42)\n",
    "\n",
    "clf = DecisionTreeClassifier(random_state=42)"
   ]
  },
  {
   "cell_type": "code",
   "execution_count": 85,
   "id": "3b184366",
   "metadata": {
    "ExecuteTime": {
     "end_time": "2023-03-23T23:51:15.076493Z",
     "start_time": "2023-03-23T23:51:15.016499Z"
    }
   },
   "outputs": [
    {
     "name": "stdout",
     "output_type": "stream",
     "text": [
      "Точность модели: 0.8216624685138539\n"
     ]
    }
   ],
   "source": [
    "clf.fit(X_train, y_train)\n",
    "y_pred = clf.predict(X_test)\n",
    "accuracy = accuracy_score(y_test, y_pred)\n",
    "print(\"Точность модели:\", accuracy)"
   ]
  },
  {
   "cell_type": "code",
   "execution_count": 86,
   "id": "074fe057",
   "metadata": {
    "ExecuteTime": {
     "end_time": "2023-03-23T23:51:15.770792Z",
     "start_time": "2023-03-23T23:51:15.078476Z"
    }
   },
   "outputs": [
    {
     "name": "stdout",
     "output_type": "stream",
     "text": [
      "Параметры настроенной модели: {'criterion': 'gini', 'max_depth': 6, 'max_features': 9, 'min_samples_leaf': 1}\n",
      "Лучшая оценка 0.8566091959860243\n"
     ]
    }
   ],
   "source": [
    "# Настроим модель\n",
    "param_dist = {\"max_depth\": randint(1,10),\n",
    "              \"max_features\": randint(1, 10),\n",
    "              \"min_samples_leaf\": randint(1, 10),\n",
    "              \"criterion\": [\"gini\", \"entropy\"]}\n",
    "\n",
    "tree_cv = RandomizedSearchCV(clf, param_dist, cv=5, random_state=42)\n",
    "\n",
    "tree_cv.fit(X,y)\n",
    "\n",
    "print(\"Параметры настроенной модели: {}\".format(tree_cv.best_params_))\n",
    "print(\"Лучшая оценка {}\".format(tree_cv.best_score_))"
   ]
  },
  {
   "cell_type": "code",
   "execution_count": 87,
   "id": "87942a94",
   "metadata": {
    "ExecuteTime": {
     "end_time": "2023-03-23T23:51:16.533803Z",
     "start_time": "2023-03-23T23:51:15.772678Z"
    }
   },
   "outputs": [
    {
     "data": {
      "image/png": "[encoded data removed]",
      "text/plain": [
       "<Figure size 1800x1440 with 1 Axes>"
      ]
     },
     "metadata": {
      "needs_background": "light"
     },
     "output_type": "display_data"
    }
   ],
   "source": [
    "# Изобразим модель\n",
    "clf = DecisionTreeClassifier(random_state=42, criterion= 'gini', max_depth=6, max_features= 9, min_samples_leaf= 1)\n",
    "clf.fit(X,y)\n",
    "fig = plt.figure(figsize=(25,20))\n",
    "_ = tree.plot_tree(clf, feature_names=X_name, filled=True, max_depth = 2)"
   ]
  },
  {
   "cell_type": "markdown",
   "id": "09aaed4c",
   "metadata": {},
   "source": [
    "### Вывод"
   ]
  },
  {
   "cell_type": "markdown",
   "id": "bf975048",
   "metadata": {},
   "source": [
    "<p></p>\n",
    "\n",
    "<div style=\"border:solid black 1px; padding: 20px\">\n",
    "\n",
    "В ходе выяснения влияния признаков на отток была использована и настроена модель DecisionTreeClassifier, с помощью которой можно сделать следующие выводы о признаках влияющих на отток клиентов:\n",
    "   \n",
    "- Клиенты, у которых количество продуктов банка меньше 3,5 и нет кредитной карты и предполагаемая запрлата ниже 76683 с большей вероятностью уходят из банка\n",
    "- Клиенты, у которых количество продуктов банка меньше 3,5 и нет кредитной карты и баланс на карте меньше 1222946 с большей вероятностью уходят из банка  \n",
    "- Клиенты, у которых количество продуктов банка меньше 3,5 и оценка собственности меньше 1,5 и баланс меньше 483915 с большей вероятностью уходят из банка      \n",
    "- Клиенты, у которых количество продуктов банка меньше 3,5 и оценка собственности меньше 1,5 и баллов кредитного скоринга меньше 834,5 с большей вероятностью уходят из банка         \n",
    "</div>\n",
    "\n",
    "<p></p>"
   ]
  },
  {
   "cell_type": "markdown",
   "id": "8d7df792",
   "metadata": {},
   "source": [
    "## Сегментация на основе стратегических показателей"
   ]
  },
  {
   "cell_type": "code",
   "execution_count": 88,
   "id": "9f2298f4",
   "metadata": {
    "ExecuteTime": {
     "end_time": "2023-03-23T23:51:16.549803Z",
     "start_time": "2023-03-23T23:51:16.535764Z"
    }
   },
   "outputs": [],
   "source": [
    "df = data.copy()\n",
    "df = df.drop(['user_id', 'churn', 'city', 'gender','equity', 'last_activity', 'products',\"age\"], axis = 1)"
   ]
  },
  {
   "cell_type": "code",
   "execution_count": 89,
   "id": "049a29d8",
   "metadata": {
    "ExecuteTime": {
     "end_time": "2023-03-23T23:51:16.565766Z",
     "start_time": "2023-03-23T23:51:16.550766Z"
    }
   },
   "outputs": [],
   "source": [
    "df = pd.get_dummies(df)\n",
    "std_scaler = StandardScaler()\n",
    "df_scaled = std_scaler.fit_transform(df)"
   ]
  },
  {
   "cell_type": "code",
   "execution_count": 90,
   "id": "5d42a1b9",
   "metadata": {
    "ExecuteTime": {
     "end_time": "2023-03-23T23:51:18.375782Z",
     "start_time": "2023-03-23T23:51:16.567764Z"
    }
   },
   "outputs": [],
   "source": [
    "errors = []\n",
    "for k in range(1, 11):\n",
    "    model = KMeans(n_clusters=k, random_state=42)\n",
    "    model.fit(df_scaled)\n",
    "    errors.append(model.inertia_)\n"
   ]
  },
  {
   "cell_type": "code",
   "execution_count": 91,
   "id": "a756e873",
   "metadata": {
    "ExecuteTime": {
     "end_time": "2023-03-23T23:51:18.563352Z",
     "start_time": "2023-03-23T23:51:18.378789Z"
    }
   },
   "outputs": [
    {
     "data": {
      "image/png": "[encoded data removed]",
      "text/plain": [
       "<Figure size 432x288 with 1 Axes>"
      ]
     },
     "metadata": {
      "needs_background": "light"
     },
     "output_type": "display_data"
    }
   ],
   "source": [
    "plt.title('Метод Локтя')\n",
    "plt.xlabel('k') \n",
    "plt.ylabel('Ошибки кластера')\n",
    "sns.pointplot(x=list(range(1, 11)), y=errors)\n",
    "plt.show()"
   ]
  },
  {
   "cell_type": "code",
   "execution_count": 92,
   "id": "7668be56",
   "metadata": {
    "ExecuteTime": {
     "end_time": "2023-03-23T23:51:18.674339Z",
     "start_time": "2023-03-23T23:51:18.565342Z"
    }
   },
   "outputs": [
    {
     "data": {
      "text/plain": [
       "KMeans(n_clusters=3, random_state=42)"
      ]
     },
     "execution_count": 92,
     "metadata": {},
     "output_type": "execute_result"
    }
   ],
   "source": [
    "model = KMeans(n_clusters = 3, random_state=42)\n",
    "model.fit(df_scaled)"
   ]
  },
  {
   "cell_type": "code",
   "execution_count": 93,
   "id": "a41b0911",
   "metadata": {
    "ExecuteTime": {
     "end_time": "2023-03-23T23:51:18.690339Z",
     "start_time": "2023-03-23T23:51:18.676341Z"
    }
   },
   "outputs": [],
   "source": [
    "data = data.assign(clusterlabel = model.labels_)"
   ]
  },
  {
   "cell_type": "code",
   "execution_count": 94,
   "id": "39ad9a76",
   "metadata": {
    "ExecuteTime": {
     "end_time": "2023-03-23T23:51:18.721340Z",
     "start_time": "2023-03-23T23:51:18.692341Z"
    }
   },
   "outputs": [
    {
     "data": {
      "text/html": [
       "<div>\n",
       "<style scoped>\n",
       "    .dataframe tbody tr th:only-of-type {\n",
       "        vertical-align: middle;\n",
       "    }\n",
       "\n",
       "    .dataframe tbody tr th {\n",
       "        vertical-align: top;\n",
       "    }\n",
       "\n",
       "    .dataframe thead th {\n",
       "        text-align: right;\n",
       "    }\n",
       "</style>\n",
       "<table border=\"1\" class=\"dataframe\">\n",
       "  <thead>\n",
       "    <tr style=\"text-align: right;\">\n",
       "      <th></th>\n",
       "      <th>balance</th>\n",
       "      <th>est_salary</th>\n",
       "      <th>credit_card</th>\n",
       "      <th>score</th>\n",
       "    </tr>\n",
       "    <tr>\n",
       "      <th>clusterlabel</th>\n",
       "      <th></th>\n",
       "      <th></th>\n",
       "      <th></th>\n",
       "      <th></th>\n",
       "    </tr>\n",
       "  </thead>\n",
       "  <tbody>\n",
       "    <tr>\n",
       "      <th>0</th>\n",
       "      <td>640563.525</td>\n",
       "      <td>110900.10</td>\n",
       "      <td>0</td>\n",
       "      <td>851.0</td>\n",
       "    </tr>\n",
       "    <tr>\n",
       "      <th>1</th>\n",
       "      <td>465931.550</td>\n",
       "      <td>103964.82</td>\n",
       "      <td>1</td>\n",
       "      <td>834.0</td>\n",
       "    </tr>\n",
       "    <tr>\n",
       "      <th>2</th>\n",
       "      <td>0.000</td>\n",
       "      <td>175959.83</td>\n",
       "      <td>1</td>\n",
       "      <td>903.0</td>\n",
       "    </tr>\n",
       "  </tbody>\n",
       "</table>\n",
       "</div>"
      ],
      "text/plain": [
       "                 balance  est_salary  credit_card  score\n",
       "clusterlabel                                            \n",
       "0             640563.525   110900.10            0  851.0\n",
       "1             465931.550   103964.82            1  834.0\n",
       "2                  0.000   175959.83            1  903.0"
      ]
     },
     "execution_count": 94,
     "metadata": {},
     "output_type": "execute_result"
    }
   ],
   "source": [
    "data.groupby(\"clusterlabel\")[[\"balance\", \"est_salary\", 'credit_card', 'score']].median()"
   ]
  },
  {
   "cell_type": "code",
   "execution_count": 95,
   "id": "bc12fcf5",
   "metadata": {
    "ExecuteTime": {
     "end_time": "2023-03-23T23:51:18.752339Z",
     "start_time": "2023-03-23T23:51:18.723341Z"
    }
   },
   "outputs": [
    {
     "data": {
      "text/html": [
       "<div>\n",
       "<style scoped>\n",
       "    .dataframe tbody tr th:only-of-type {\n",
       "        vertical-align: middle;\n",
       "    }\n",
       "\n",
       "    .dataframe tbody tr th {\n",
       "        vertical-align: top;\n",
       "    }\n",
       "\n",
       "    .dataframe thead th {\n",
       "        text-align: right;\n",
       "    }\n",
       "</style>\n",
       "<table border=\"1\" class=\"dataframe\">\n",
       "  <thead>\n",
       "    <tr style=\"text-align: right;\">\n",
       "      <th></th>\n",
       "      <th>balance</th>\n",
       "      <th>est_salary</th>\n",
       "      <th>credit_card</th>\n",
       "      <th>score</th>\n",
       "    </tr>\n",
       "    <tr>\n",
       "      <th>clusterlabel</th>\n",
       "      <th></th>\n",
       "      <th></th>\n",
       "      <th></th>\n",
       "      <th></th>\n",
       "    </tr>\n",
       "  </thead>\n",
       "  <tbody>\n",
       "    <tr>\n",
       "      <th>0</th>\n",
       "      <td>1.091719e+06</td>\n",
       "      <td>130847.726190</td>\n",
       "      <td>0.003256</td>\n",
       "      <td>851.229016</td>\n",
       "    </tr>\n",
       "    <tr>\n",
       "      <th>1</th>\n",
       "      <td>6.507261e+05</td>\n",
       "      <td>114727.064542</td>\n",
       "      <td>1.000000</td>\n",
       "      <td>838.955583</td>\n",
       "    </tr>\n",
       "    <tr>\n",
       "      <th>2</th>\n",
       "      <td>7.199839e+04</td>\n",
       "      <td>238564.237388</td>\n",
       "      <td>0.816717</td>\n",
       "      <td>866.422290</td>\n",
       "    </tr>\n",
       "  </tbody>\n",
       "</table>\n",
       "</div>"
      ],
      "text/plain": [
       "                   balance     est_salary  credit_card       score\n",
       "clusterlabel                                                      \n",
       "0             1.091719e+06  130847.726190     0.003256  851.229016\n",
       "1             6.507261e+05  114727.064542     1.000000  838.955583\n",
       "2             7.199839e+04  238564.237388     0.816717  866.422290"
      ]
     },
     "execution_count": 95,
     "metadata": {},
     "output_type": "execute_result"
    }
   ],
   "source": [
    "data.groupby(\"clusterlabel\")[[\"balance\", \"est_salary\", 'credit_card', 'score']].mean()"
   ]
  },
  {
   "cell_type": "code",
   "execution_count": 96,
   "id": "84268959",
   "metadata": {
    "ExecuteTime": {
     "end_time": "2023-03-23T23:51:18.783339Z",
     "start_time": "2023-03-23T23:51:18.754341Z"
    }
   },
   "outputs": [
    {
     "data": {
      "text/html": [
       "<div>\n",
       "<style scoped>\n",
       "    .dataframe tbody tr th:only-of-type {\n",
       "        vertical-align: middle;\n",
       "    }\n",
       "\n",
       "    .dataframe tbody tr th {\n",
       "        vertical-align: top;\n",
       "    }\n",
       "\n",
       "    .dataframe thead th {\n",
       "        text-align: right;\n",
       "    }\n",
       "</style>\n",
       "<table border=\"1\" class=\"dataframe\">\n",
       "  <thead>\n",
       "    <tr style=\"text-align: right;\">\n",
       "      <th></th>\n",
       "      <th>churn</th>\n",
       "    </tr>\n",
       "    <tr>\n",
       "      <th>clusterlabel</th>\n",
       "      <th></th>\n",
       "    </tr>\n",
       "  </thead>\n",
       "  <tbody>\n",
       "    <tr>\n",
       "      <th>0</th>\n",
       "      <td>0.295586</td>\n",
       "    </tr>\n",
       "    <tr>\n",
       "      <th>1</th>\n",
       "      <td>0.201110</td>\n",
       "    </tr>\n",
       "    <tr>\n",
       "      <th>2</th>\n",
       "      <td>0.010448</td>\n",
       "    </tr>\n",
       "  </tbody>\n",
       "</table>\n",
       "</div>"
      ],
      "text/plain": [
       "                 churn\n",
       "clusterlabel          \n",
       "0             0.295586\n",
       "1             0.201110\n",
       "2             0.010448"
      ]
     },
     "execution_count": 96,
     "metadata": {},
     "output_type": "execute_result"
    }
   ],
   "source": [
    "data.groupby('clusterlabel')[['churn']].mean()"
   ]
  },
  {
   "cell_type": "code",
   "execution_count": 98,
   "id": "83166e88",
   "metadata": {
    "ExecuteTime": {
     "end_time": "2023-03-23T23:51:20.086383Z",
     "start_time": "2023-03-23T23:51:19.865343Z"
    }
   },
   "outputs": [
    {
     "data": {
      "text/html": [
       "<style  type=\"text/css\" >\n",
       "</style><table id=\"T_184df_\" ><thead>    <tr>        <th class=\"blank level0\" ></th>        <th class=\"col_heading level0 col0\" >count</th>        <th class=\"col_heading level0 col1\" >churn_suplus</th>    </tr></thead><tbody>\n",
       "                <tr>\n",
       "                        <th id=\"T_184df_level0_row0\" class=\"row_heading level0 row0\" >Клиенты, использующие больше двух продуктов</th>\n",
       "                        <td id=\"T_184df_row0_col0\" class=\"data row0 col0\" >1_522</td>\n",
       "                        <td id=\"T_184df_row0_col1\" class=\"data row0 col1\" >21.4%</td>\n",
       "            </tr>\n",
       "            <tr>\n",
       "                        <th id=\"T_184df_level0_row1\" class=\"row_heading level0 row1\" >Клиенты c оценкой собственности больше 3 и количеством продуктов больше 2</th>\n",
       "                        <td id=\"T_184df_row1_col0\" class=\"data row1 col0\" >949</td>\n",
       "                        <td id=\"T_184df_row1_col1\" class=\"data row1 col1\" >26.6%</td>\n",
       "            </tr>\n",
       "            <tr>\n",
       "                        <th id=\"T_184df_level0_row2\" class=\"row_heading level0 row2\" >Клиенты c оценкой собственности больше 3</th>\n",
       "                        <td id=\"T_184df_row2_col0\" class=\"data row2 col0\" >4_021</td>\n",
       "                        <td id=\"T_184df_row2_col1\" class=\"data row2 col1\" >10.2%</td>\n",
       "            </tr>\n",
       "            <tr>\n",
       "                        <th id=\"T_184df_level0_row3\" class=\"row_heading level0 row3\" >Жители Ярославля без кредитной карты</th>\n",
       "                        <td id=\"T_184df_row3_col0\" class=\"data row3 col0\" >1_610</td>\n",
       "                        <td id=\"T_184df_row3_col1\" class=\"data row3 col1\" >10.8%</td>\n",
       "            </tr>\n",
       "            <tr>\n",
       "                        <th id=\"T_184df_level0_row4\" class=\"row_heading level0 row4\" >Клиенты старше 50 с количеством продуктов больше 2</th>\n",
       "                        <td id=\"T_184df_row4_col0\" class=\"data row4 col0\" >452</td>\n",
       "                        <td id=\"T_184df_row4_col1\" class=\"data row4 col1\" >19.7%</td>\n",
       "            </tr>\n",
       "            <tr>\n",
       "                        <th id=\"T_184df_level0_row5\" class=\"row_heading level0 row5\" >Клиенты без кредитной карты и использующие больше двух продуктов</th>\n",
       "                        <td id=\"T_184df_row5_col0\" class=\"data row5 col0\" >818</td>\n",
       "                        <td id=\"T_184df_row5_col1\" class=\"data row5 col1\" >14.1%</td>\n",
       "            </tr>\n",
       "            <tr>\n",
       "                        <th id=\"T_184df_level0_row6\" class=\"row_heading level0 row6\" >Клиенты с высоким кредитным рейтингом </th>\n",
       "                        <td id=\"T_184df_row6_col0\" class=\"data row6 col0\" >5_180</td>\n",
       "                        <td id=\"T_184df_row6_col1\" class=\"data row6 col1\" >5.1%</td>\n",
       "            </tr>\n",
       "            <tr>\n",
       "                        <th id=\"T_184df_level0_row7\" class=\"row_heading level0 row7\" >Мужчины старше 50</th>\n",
       "                        <td id=\"T_184df_row7_col0\" class=\"data row7 col0\" >902</td>\n",
       "                        <td id=\"T_184df_row7_col1\" class=\"data row7 col1\" >12.0%</td>\n",
       "            </tr>\n",
       "            <tr>\n",
       "                        <th id=\"T_184df_level0_row8\" class=\"row_heading level0 row8\" >Клиенты активные старше 50 без кредитки</th>\n",
       "                        <td id=\"T_184df_row8_col0\" class=\"data row8 col0\" >606</td>\n",
       "                        <td id=\"T_184df_row8_col1\" class=\"data row8 col1\" >12.2%</td>\n",
       "            </tr>\n",
       "            <tr>\n",
       "                        <th id=\"T_184df_level0_row9\" class=\"row_heading level0 row9\" >Клиенты с предполагаемой зарплатой от 100000 до 200000</th>\n",
       "                        <td id=\"T_184df_row9_col0\" class=\"data row9 col0\" >4_280</td>\n",
       "                        <td id=\"T_184df_row9_col1\" class=\"data row9 col1\" >2.1%</td>\n",
       "            </tr>\n",
       "    </tbody></table>"
      ],
      "text/plain": [
       "<pandas.io.formats.style.Styler at 0x7f2cd7323760>"
      ]
     },
     "execution_count": 98,
     "metadata": {},
     "output_type": "execute_result"
    }
   ],
   "source": [
    "df_copy = data.copy()\n",
    "examples = [\n",
    "    (\"Мужчины старше 50\", 'gender == \"М\" and 50 < age'),\n",
    "    (\"Клиенты с предполагаемой зарплатой от 100000 до 200000\",'100000 < est_salary < 200000'),\n",
    "    (\"Клиенты с высоким кредитным рейтингом \", ' 825 < score < 925 '),\n",
    "    (\"Клиенты c оценкой собственности больше 3\", 'equity > 3'),\n",
    "    (\"Жители Ярославля без кредитной карты\", 'city == \"Ярославль\" and credit_card == 0'),\n",
    "    (\"Клиенты c оценкой собственности больше 3 и количеством продуктов больше 2\", 'equity > 3 and products > 2'),\n",
    "    (\"Клиенты, использующие больше двух продуктов\",'products > 2'),\n",
    "    (\"Клиенты без кредитной карты и использующие больше двух продуктов\",'credit_card == 0 and products > 2'),\n",
    "    (\"Клиенты старше 50 с количеством продуктов больше 2\",' 50 < age and products > 2'),\n",
    "    (\"Клиенты активные старше 50 без кредитки\", '50 < age and credit_card == 0 and last_activity == 1'),\n",
    "]\n",
    "\n",
    "churn_mean = data.churn.mean()\n",
    "\n",
    "# по заданным запросам делаем табличку с размерами разных групп и уровнем оттока\n",
    "dfs_temp = []\n",
    "for text, query in examples:\n",
    "    result = df_copy.query(query)\\\n",
    "              .agg({\"churn\":[\"mean\",\"count\"]}).T\n",
    "    result.index = [text]\n",
    "    dfs_temp.append(result)\n",
    "df_copy = pd.concat(dfs_temp)\n",
    "\n",
    "# считаем превышение оттока над средним\n",
    "df_copy['churn_suplus'] = df_copy['mean'] - churn_mean\n",
    "\n",
    "# считаем комбинированный коэффициент для сортировки\n",
    "# с поправкой на то, что крупные сегменты сложнее обрабатывать\n",
    "df_copy['idx'] = np.sqrt(df_copy['count']) * df_copy['churn_suplus']\n",
    "\n",
    "# ранжируем по ним и оформляем вывод\n",
    "df_copy.sort_values(\"idx\", ascending=False)\\\n",
    "       .drop([\"idx\",\"mean\"],axis=1)\\\n",
    "       .style.format(\"{:.1%}\",subset=[\"churn_suplus\"])\\\n",
    "       .format(\"{:_.0f}\",subset=[\"count\"])"
   ]
  },
  {
   "cell_type": "markdown",
   "id": "80d57b51",
   "metadata": {},
   "source": [
    "### Вывод"
   ]
  },
  {
   "cell_type": "markdown",
   "id": "1bc7978a",
   "metadata": {},
   "source": [
    "<p></p>\n",
    "\n",
    "<div style=\"border:solid black 1px; padding: 20px\">\n",
    "\n",
    "В ходе исследования при помощи метода KMeans клиенты были сегментированы в три категории:\n",
    " \n",
    "- '0' - C самым низким средним кредитным рейтингом 843,5, с кредитной картой, с медианной зарплатой 120889 и медианным балансом 524272. В среднем 15% от всех клиентов этой категории уходят из банка\n",
    "- '1' - Со средним кредитным рейтингом 856, без кредитной карты, с медианной зарплатой 119282 и медианным балансом 535230. В среднем 27% от всех клиентов этой категории уходят из банка\n",
    "- '2' - С самым высоким средним кредитным рейтингом 884, c кредитной картой, c медианной зарплатой 803358 и медианным балансом 524272. В среднем 16% от всех клиентов этой категории уходят из банка\n",
    "    \n",
    "Рекоммендую сконцентрировать внимание на категории '1' и убедить клиентов взять кредитную карту, что сможет остановить их отток, а также обратить внимание на такие категории клиентов:\n",
    "    \n",
    "- Клиенты, использующие больше двух продуктов:\t1522 человек\t21.4% превышение оттока над средним\n",
    "- Клиенты c оценкой собственности больше 3 и количеством продуктов больше 2: 949 человек\t26.6% превышение оттока над средним\n",
    "- Клиенты c оценкой собственности больше 3:\t4021 человек\t10.2% превышение оттока над средним\n",
    "- Жители Ярославля без кредитной карты:\t1610 человек\t10.8% превышение оттока над средним\n",
    "- Клиенты старше 50 с количеством продуктов больше 2:\t452 человек\t19.7% превышение оттока над средним\n",
    "- Клиенты без кредитной карты и использующие больше двух продуктов:\t818\tчеловек 14.1% превышение оттока над средним\n",
    "- Клиенты с высоким кредитным рейтингом:\t5180 человек\t5.1% превышение оттока над средним\n",
    "- Мужчины старше 50:\t902 человек\t12.0% превышение оттока над средним\n",
    "- Клиенты активные старше 50 без кредитки:\t606 человек\t12.2% превышение оттока над средним\n",
    "- Клиенты с предполагаемой зарплатой от 100000 до 200000:\t4280 человек\t2.1% превышение оттока над средним\n",
    "    \n",
    "    \n",
    "</div>\n",
    "\n",
    "<p></p>"
   ]
  },
  {
   "cell_type": "markdown",
   "id": "4289ed7c",
   "metadata": {},
   "source": [
    "## Общий вывод и рекоммендации по приоритетным сегментам"
   ]
  },
  {
   "cell_type": "markdown",
   "id": "0d37878f",
   "metadata": {},
   "source": [
    "<p></p>\n",
    "\n",
    "<div style=\"border:solid black 1px; padding: 20px\">\n",
    "    \n",
    "В итоге хочется отметить:\n",
    "    \n",
    "- Средние доходы у тех клиентов кто остался выше чем у тех кто ушел при 5% уровне значимости\n",
    "- Между количеством продуктов, которыми пользуется клиент и уходом клиентов есть умеренная корреляция   \n",
    "- Клиенты без кредитной карты более склонны к уходу\n",
    "\n",
    "Рекоммендации: \n",
    "\n",
    "- Чтобы оставить клиентов с более высоким количеством денег на балансе свышк 775365, предлагать привелегии\n",
    "- Наибольший отток замечен у пользователей без кредитной карты, следовательно необходимо предлагать этим клиентам более выгодные условия для ее оформления\n",
    "    \n",
    "Обратить особое внимание на такие факторы ухода:\n",
    "    \n",
    "- Высокую среднюю оценку кредитного рейтинга 825 до 945\n",
    "- Мужской пол\n",
    "- Высокую среднюю собственности клиента 3.8\n",
    "- Высокий баланс от 375000 до 1375000\n",
    "- Низкий уровень наличие кредитной карты в процентах 55%\n",
    "- Клиенты, использующие больше двух продуктов\n",
    "- Со средним возрастом от 25 до 35 и от 50 до 60\n",
    "\n",
    "А также обратить внимание на такие категории клиентов:\n",
    "    \n",
    "- Клиенты, использующие больше двух продуктов:\t1522 человек\t21.4% превышение оттока над средним\n",
    "- Клиенты c оценкой собственности больше 3 и количеством продуктов больше 2: 949 человек\t26.6% превышение оттока над средним\n",
    "- Клиенты c оценкой собственности больше 3:\t4021 человек\t10.2% превышение оттока над средним\n",
    "- Жители Ярославля без кредитной карты:\t1610 человек\t10.8% превышение оттока над средним\n",
    "- Клиенты старше 50 с количеством продуктов больше 2:\t452 человек\t19.7% превышение оттока над средним\n",
    "- Клиенты без кредитной карты и использующие больше двух продуктов:\t818\tчеловек 14.1% превышение оттока над средним\n",
    "- Клиенты с высоким кредитным рейтингом:\t5180 человек\t5.1% превышение оттока над средним\n",
    "- Мужчины старше 50:\t902 человек\t12.0% превышение оттока над средним\n",
    "- Клиенты активные старше 50 без кредитки:\t606 человек\t12.2% превышение оттока над средним\n",
    "- Клиенты с предполагаемой зарплатой от 100000 до 200000:\t4280 человек\t2.1% превышение оттока над средним\n",
    "     \n",
    "    \n",
    "</div>\n",
    "\n",
    "<p></p>"
   ]
  },
  {
   "cell_type": "markdown",
   "id": "225879c1",
   "metadata": {},
   "source": [
    "## Презентация"
   ]
  },
  {
   "cell_type": "markdown",
   "id": "ec4fad0b",
   "metadata": {},
   "source": [
    "https://drive.google.com/file/d/1oWwal90PVQaNN9zipk-TRzXZ3chaKr9U/view?usp=sharing"
   ]
  }
 ],
 "metadata": {
  "ExecuteTimeLog": [
   {
    "duration": 3593,
    "start_time": "2023-03-21T17:10:29.789Z"
   },
   {
    "duration": 1377,
    "start_time": "2023-03-21T17:10:33.385Z"
   },
   {
    "duration": 13,
    "start_time": "2023-03-21T17:10:34.764Z"
   },
   {
    "duration": 12,
    "start_time": "2023-03-21T17:10:34.778Z"
   },
   {
    "duration": 5,
    "start_time": "2023-03-21T17:10:34.792Z"
   },
   {
    "duration": 7,
    "start_time": "2023-03-21T17:10:34.799Z"
   },
   {
    "duration": 35,
    "start_time": "2023-03-21T17:10:34.807Z"
   },
   {
    "duration": 18,
    "start_time": "2023-03-21T17:10:34.858Z"
   },
   {
    "duration": 2,
    "start_time": "2023-03-21T17:10:34.878Z"
   },
   {
    "duration": 12,
    "start_time": "2023-03-21T17:10:34.881Z"
   },
   {
    "duration": 4,
    "start_time": "2023-03-21T17:10:34.894Z"
   },
   {
    "duration": 5,
    "start_time": "2023-03-21T17:10:34.899Z"
   },
   {
    "duration": 6,
    "start_time": "2023-03-21T17:10:34.906Z"
   },
   {
    "duration": 1288,
    "start_time": "2023-03-21T17:10:34.915Z"
   },
   {
    "duration": 55,
    "start_time": "2023-03-21T17:10:36.205Z"
   },
   {
    "duration": 114,
    "start_time": "2023-03-21T17:10:36.262Z"
   },
   {
    "duration": 194,
    "start_time": "2023-03-21T17:10:36.378Z"
   },
   {
    "duration": 5,
    "start_time": "2023-03-21T17:10:36.575Z"
   },
   {
    "duration": 72,
    "start_time": "2023-03-21T17:56:24.026Z"
   },
   {
    "duration": 2085,
    "start_time": "2023-03-21T18:02:42.443Z"
   },
   {
    "duration": 2311,
    "start_time": "2023-03-21T18:02:44.529Z"
   },
   {
    "duration": 13,
    "start_time": "2023-03-21T18:02:46.842Z"
   },
   {
    "duration": 12,
    "start_time": "2023-03-21T18:02:46.857Z"
   },
   {
    "duration": 6,
    "start_time": "2023-03-21T18:02:46.870Z"
   },
   {
    "duration": 8,
    "start_time": "2023-03-21T18:02:46.877Z"
   },
   {
    "duration": 3,
    "start_time": "2023-03-21T18:02:46.887Z"
   },
   {
    "duration": 17,
    "start_time": "2023-03-21T18:02:46.891Z"
   },
   {
    "duration": 2,
    "start_time": "2023-03-21T18:02:46.909Z"
   },
   {
    "duration": 8,
    "start_time": "2023-03-21T18:02:46.939Z"
   },
   {
    "duration": 3,
    "start_time": "2023-03-21T18:02:46.949Z"
   },
   {
    "duration": 9,
    "start_time": "2023-03-21T18:02:46.953Z"
   },
   {
    "duration": 19,
    "start_time": "2023-03-21T18:02:46.964Z"
   },
   {
    "duration": 1082,
    "start_time": "2023-03-21T18:02:46.984Z"
   },
   {
    "duration": 32,
    "start_time": "2023-03-21T18:02:48.068Z"
   },
   {
    "duration": 4,
    "start_time": "2023-03-21T18:02:48.102Z"
   },
   {
    "duration": 157,
    "start_time": "2023-03-21T18:02:48.107Z"
   },
   {
    "duration": 4,
    "start_time": "2023-03-21T18:02:48.265Z"
   },
   {
    "duration": 9,
    "start_time": "2023-03-21T18:02:48.270Z"
   },
   {
    "duration": 235,
    "start_time": "2023-03-21T18:02:48.280Z"
   },
   {
    "duration": 161,
    "start_time": "2023-03-21T18:02:48.516Z"
   },
   {
    "duration": 163,
    "start_time": "2023-03-21T18:02:48.678Z"
   },
   {
    "duration": 162,
    "start_time": "2023-03-21T18:02:48.842Z"
   },
   {
    "duration": 162,
    "start_time": "2023-03-21T18:02:49.005Z"
   },
   {
    "duration": 4,
    "start_time": "2023-03-21T18:02:49.169Z"
   },
   {
    "duration": 143,
    "start_time": "2023-03-21T18:02:49.174Z"
   },
   {
    "duration": 1157,
    "start_time": "2023-03-21T18:02:49.318Z"
   },
   {
    "duration": 604,
    "start_time": "2023-03-21T18:02:50.478Z"
   },
   {
    "duration": 58,
    "start_time": "2023-03-21T18:02:51.083Z"
   },
   {
    "duration": 114,
    "start_time": "2023-03-21T18:02:51.143Z"
   },
   {
    "duration": 6,
    "start_time": "2023-03-21T18:02:51.258Z"
   },
   {
    "duration": 6,
    "start_time": "2023-03-21T18:02:51.265Z"
   },
   {
    "duration": 6,
    "start_time": "2023-03-21T18:02:51.272Z"
   },
   {
    "duration": 345,
    "start_time": "2023-03-21T18:02:51.280Z"
   },
   {
    "duration": 2,
    "start_time": "2023-03-21T18:02:51.626Z"
   },
   {
    "duration": 167,
    "start_time": "2023-03-21T18:02:51.630Z"
   },
   {
    "duration": 4,
    "start_time": "2023-03-21T18:02:51.798Z"
   },
   {
    "duration": 11,
    "start_time": "2023-03-21T18:02:51.803Z"
   },
   {
    "duration": 20,
    "start_time": "2023-03-21T18:02:51.816Z"
   },
   {
    "duration": 12,
    "start_time": "2023-03-21T18:02:51.837Z"
   },
   {
    "duration": 32,
    "start_time": "2023-03-21T18:02:51.850Z"
   },
   {
    "duration": 25,
    "start_time": "2023-03-21T18:02:51.884Z"
   },
   {
    "duration": 340,
    "start_time": "2023-03-21T18:02:51.911Z"
   },
   {
    "duration": 9,
    "start_time": "2023-03-21T18:02:52.252Z"
   },
   {
    "duration": 14,
    "start_time": "2023-03-21T18:02:52.262Z"
   },
   {
    "duration": 68,
    "start_time": "2023-03-21T18:02:52.277Z"
   },
   {
    "duration": 656,
    "start_time": "2023-03-21T18:02:52.346Z"
   },
   {
    "duration": 635,
    "start_time": "2023-03-21T18:02:53.003Z"
   },
   {
    "duration": 4,
    "start_time": "2023-03-21T18:02:53.640Z"
   },
   {
    "duration": 14,
    "start_time": "2023-03-21T18:02:53.645Z"
   },
   {
    "duration": 10279,
    "start_time": "2023-03-21T18:02:53.661Z"
   },
   {
    "duration": 143,
    "start_time": "2023-03-21T18:03:03.942Z"
   },
   {
    "duration": 754,
    "start_time": "2023-03-21T18:03:04.086Z"
   },
   {
    "duration": 5,
    "start_time": "2023-03-21T18:03:04.842Z"
   },
   {
    "duration": 107,
    "start_time": "2023-03-21T18:03:04.849Z"
   },
   {
    "duration": 9,
    "start_time": "2023-03-21T18:03:04.957Z"
   },
   {
    "duration": 9,
    "start_time": "2023-03-21T18:03:04.968Z"
   },
   {
    "duration": 593,
    "start_time": "2023-03-21T18:03:04.978Z"
   },
   {
    "duration": 12,
    "start_time": "2023-03-21T18:11:00.262Z"
   },
   {
    "duration": 5717,
    "start_time": "2023-03-23T19:17:41.176Z"
   },
   {
    "duration": 1726,
    "start_time": "2023-03-23T19:17:46.895Z"
   },
   {
    "duration": 12,
    "start_time": "2023-03-23T19:17:48.623Z"
   },
   {
    "duration": 21,
    "start_time": "2023-03-23T19:17:48.637Z"
   },
   {
    "duration": 6,
    "start_time": "2023-03-23T19:17:48.660Z"
   },
   {
    "duration": 8,
    "start_time": "2023-03-23T19:17:48.667Z"
   },
   {
    "duration": 4,
    "start_time": "2023-03-23T19:17:48.676Z"
   },
   {
    "duration": 4,
    "start_time": "2023-03-23T19:17:48.682Z"
   },
   {
    "duration": 8,
    "start_time": "2023-03-23T19:17:48.688Z"
   },
   {
    "duration": 15,
    "start_time": "2023-03-23T19:17:48.698Z"
   },
   {
    "duration": 694,
    "start_time": "2023-03-23T19:17:48.715Z"
   },
   {
    "duration": 8,
    "start_time": "2023-03-23T19:17:49.411Z"
   },
   {
    "duration": 5,
    "start_time": "2023-03-23T19:17:49.420Z"
   },
   {
    "duration": 4,
    "start_time": "2023-03-23T19:17:49.427Z"
   },
   {
    "duration": 25,
    "start_time": "2023-03-23T19:17:49.433Z"
   },
   {
    "duration": 10,
    "start_time": "2023-03-23T19:17:49.459Z"
   },
   {
    "duration": 6,
    "start_time": "2023-03-23T19:17:49.471Z"
   },
   {
    "duration": 1516,
    "start_time": "2023-03-23T19:17:49.478Z"
   },
   {
    "duration": 64,
    "start_time": "2023-03-23T19:17:50.996Z"
   },
   {
    "duration": 10,
    "start_time": "2023-03-23T19:17:51.061Z"
   },
   {
    "duration": 215,
    "start_time": "2023-03-23T19:17:51.073Z"
   },
   {
    "duration": 8,
    "start_time": "2023-03-23T19:17:51.289Z"
   },
   {
    "duration": 187,
    "start_time": "2023-03-23T19:17:51.298Z"
   },
   {
    "duration": 221,
    "start_time": "2023-03-23T19:17:51.487Z"
   },
   {
    "duration": 209,
    "start_time": "2023-03-23T19:17:51.710Z"
   },
   {
    "duration": 187,
    "start_time": "2023-03-23T19:17:51.921Z"
   },
   {
    "duration": 4,
    "start_time": "2023-03-23T19:17:52.110Z"
   },
   {
    "duration": 186,
    "start_time": "2023-03-23T19:17:52.116Z"
   },
   {
    "duration": 1526,
    "start_time": "2023-03-23T19:17:52.304Z"
   },
   {
    "duration": 295,
    "start_time": "2023-03-23T19:17:53.831Z"
   },
   {
    "duration": 5,
    "start_time": "2023-03-23T19:17:54.128Z"
   },
   {
    "duration": 279,
    "start_time": "2023-03-23T19:17:54.153Z"
   },
   {
    "duration": 323,
    "start_time": "2023-03-23T19:17:54.434Z"
   },
   {
    "duration": 6,
    "start_time": "2023-03-23T19:17:54.758Z"
   },
   {
    "duration": 282,
    "start_time": "2023-03-23T19:17:54.766Z"
   },
   {
    "duration": 200,
    "start_time": "2023-03-23T19:17:55.050Z"
   },
   {
    "duration": 35,
    "start_time": "2023-03-23T19:18:04.457Z"
   },
   {
    "duration": 499,
    "start_time": "2023-03-23T19:18:17.722Z"
   },
   {
    "duration": 259,
    "start_time": "2023-03-23T19:18:44.613Z"
   },
   {
    "duration": 9091,
    "start_time": "2023-03-23T19:19:17.262Z"
   },
   {
    "duration": 6222,
    "start_time": "2023-03-23T19:19:30.723Z"
   },
   {
    "duration": 307,
    "start_time": "2023-03-23T19:21:29.459Z"
   },
   {
    "duration": 1080,
    "start_time": "2023-03-23T19:21:40.386Z"
   },
   {
    "duration": 349,
    "start_time": "2023-03-23T19:23:37.189Z"
   },
   {
    "duration": 385,
    "start_time": "2023-03-23T19:23:43.464Z"
   },
   {
    "duration": 377,
    "start_time": "2023-03-23T19:23:58.063Z"
   },
   {
    "duration": 493,
    "start_time": "2023-03-23T19:24:55.121Z"
   },
   {
    "duration": 380,
    "start_time": "2023-03-23T19:25:14.779Z"
   },
   {
    "duration": 377,
    "start_time": "2023-03-23T19:25:21.878Z"
   },
   {
    "duration": 2357,
    "start_time": "2023-03-23T19:26:01.826Z"
   },
   {
    "duration": 1467,
    "start_time": "2023-03-23T19:26:04.185Z"
   },
   {
    "duration": 11,
    "start_time": "2023-03-23T19:26:05.654Z"
   },
   {
    "duration": 12,
    "start_time": "2023-03-23T19:26:05.667Z"
   },
   {
    "duration": 15,
    "start_time": "2023-03-23T19:26:05.681Z"
   },
   {
    "duration": 13,
    "start_time": "2023-03-23T19:26:05.698Z"
   },
   {
    "duration": 8,
    "start_time": "2023-03-23T19:26:05.713Z"
   },
   {
    "duration": 32,
    "start_time": "2023-03-23T19:26:05.722Z"
   },
   {
    "duration": 4,
    "start_time": "2023-03-23T19:26:05.755Z"
   },
   {
    "duration": 31,
    "start_time": "2023-03-23T19:26:05.761Z"
   },
   {
    "duration": 677,
    "start_time": "2023-03-23T19:26:05.794Z"
   },
   {
    "duration": 6,
    "start_time": "2023-03-23T19:26:06.472Z"
   },
   {
    "duration": 4,
    "start_time": "2023-03-23T19:26:06.480Z"
   },
   {
    "duration": 5,
    "start_time": "2023-03-23T19:26:06.486Z"
   },
   {
    "duration": 36,
    "start_time": "2023-03-23T19:26:06.493Z"
   },
   {
    "duration": 6,
    "start_time": "2023-03-23T19:26:06.530Z"
   },
   {
    "duration": 12,
    "start_time": "2023-03-23T19:26:06.546Z"
   },
   {
    "duration": 1485,
    "start_time": "2023-03-23T19:26:06.560Z"
   },
   {
    "duration": 39,
    "start_time": "2023-03-23T19:26:08.046Z"
   },
   {
    "duration": 6,
    "start_time": "2023-03-23T19:26:08.086Z"
   },
   {
    "duration": 200,
    "start_time": "2023-03-23T19:26:08.093Z"
   },
   {
    "duration": 7,
    "start_time": "2023-03-23T19:26:08.294Z"
   },
   {
    "duration": 185,
    "start_time": "2023-03-23T19:26:08.303Z"
   },
   {
    "duration": 193,
    "start_time": "2023-03-23T19:26:08.489Z"
   },
   {
    "duration": 188,
    "start_time": "2023-03-23T19:26:08.684Z"
   },
   {
    "duration": 187,
    "start_time": "2023-03-23T19:26:08.874Z"
   },
   {
    "duration": 4,
    "start_time": "2023-03-23T19:26:09.063Z"
   },
   {
    "duration": 159,
    "start_time": "2023-03-23T19:26:09.071Z"
   },
   {
    "duration": 1426,
    "start_time": "2023-03-23T19:26:09.231Z"
   },
   {
    "duration": 309,
    "start_time": "2023-03-23T19:26:10.659Z"
   },
   {
    "duration": 6,
    "start_time": "2023-03-23T19:26:10.970Z"
   },
   {
    "duration": 276,
    "start_time": "2023-03-23T19:26:10.978Z"
   },
   {
    "duration": 281,
    "start_time": "2023-03-23T19:26:11.256Z"
   },
   {
    "duration": 15,
    "start_time": "2023-03-23T19:26:11.540Z"
   },
   {
    "duration": 220,
    "start_time": "2023-03-23T19:26:11.556Z"
   },
   {
    "duration": 395,
    "start_time": "2023-03-23T19:26:11.778Z"
   },
   {
    "duration": 6,
    "start_time": "2023-03-23T19:26:12.174Z"
   },
   {
    "duration": 8,
    "start_time": "2023-03-23T19:26:12.181Z"
   },
   {
    "duration": 14,
    "start_time": "2023-03-23T19:26:12.190Z"
   },
   {
    "duration": 9,
    "start_time": "2023-03-23T19:26:12.205Z"
   },
   {
    "duration": 1286,
    "start_time": "2023-03-23T19:26:12.215Z"
   },
   {
    "duration": 62,
    "start_time": "2023-03-23T19:26:13.503Z"
   },
   {
    "duration": 28,
    "start_time": "2023-03-23T19:26:13.640Z"
   },
   {
    "duration": 709,
    "start_time": "2023-03-23T19:26:13.740Z"
   },
   {
    "duration": 14,
    "start_time": "2023-03-23T19:26:14.451Z"
   },
   {
    "duration": 688,
    "start_time": "2023-03-23T19:26:14.542Z"
   },
   {
    "duration": 0,
    "start_time": "2023-03-23T19:26:15.232Z"
   },
   {
    "duration": 0,
    "start_time": "2023-03-23T19:26:15.233Z"
   },
   {
    "duration": 0,
    "start_time": "2023-03-23T19:26:15.233Z"
   },
   {
    "duration": 0,
    "start_time": "2023-03-23T19:26:15.240Z"
   },
   {
    "duration": 0,
    "start_time": "2023-03-23T19:26:15.250Z"
   },
   {
    "duration": 0,
    "start_time": "2023-03-23T19:26:15.253Z"
   },
   {
    "duration": 0,
    "start_time": "2023-03-23T19:26:15.255Z"
   },
   {
    "duration": 0,
    "start_time": "2023-03-23T19:26:15.256Z"
   },
   {
    "duration": 0,
    "start_time": "2023-03-23T19:26:15.257Z"
   },
   {
    "duration": 0,
    "start_time": "2023-03-23T19:26:15.259Z"
   },
   {
    "duration": 0,
    "start_time": "2023-03-23T19:26:15.260Z"
   },
   {
    "duration": 0,
    "start_time": "2023-03-23T19:26:15.261Z"
   },
   {
    "duration": 0,
    "start_time": "2023-03-23T19:26:15.262Z"
   },
   {
    "duration": 0,
    "start_time": "2023-03-23T19:26:15.262Z"
   },
   {
    "duration": 0,
    "start_time": "2023-03-23T19:26:15.264Z"
   },
   {
    "duration": 0,
    "start_time": "2023-03-23T19:26:15.265Z"
   },
   {
    "duration": 0,
    "start_time": "2023-03-23T19:26:15.265Z"
   },
   {
    "duration": 0,
    "start_time": "2023-03-23T19:26:15.266Z"
   },
   {
    "duration": 0,
    "start_time": "2023-03-23T19:26:15.267Z"
   },
   {
    "duration": 0,
    "start_time": "2023-03-23T19:26:15.268Z"
   },
   {
    "duration": 0,
    "start_time": "2023-03-23T19:26:15.269Z"
   },
   {
    "duration": 1,
    "start_time": "2023-03-23T19:26:15.269Z"
   },
   {
    "duration": 0,
    "start_time": "2023-03-23T19:26:15.270Z"
   },
   {
    "duration": 0,
    "start_time": "2023-03-23T19:26:15.271Z"
   },
   {
    "duration": 0,
    "start_time": "2023-03-23T19:26:15.272Z"
   },
   {
    "duration": 0,
    "start_time": "2023-03-23T19:26:15.273Z"
   },
   {
    "duration": 0,
    "start_time": "2023-03-23T19:26:15.274Z"
   },
   {
    "duration": 0,
    "start_time": "2023-03-23T19:26:15.275Z"
   },
   {
    "duration": 0,
    "start_time": "2023-03-23T19:26:15.276Z"
   },
   {
    "duration": 0,
    "start_time": "2023-03-23T19:26:15.277Z"
   },
   {
    "duration": 0,
    "start_time": "2023-03-23T19:26:15.278Z"
   },
   {
    "duration": 0,
    "start_time": "2023-03-23T19:26:15.279Z"
   },
   {
    "duration": 0,
    "start_time": "2023-03-23T19:26:15.280Z"
   },
   {
    "duration": 0,
    "start_time": "2023-03-23T19:26:15.281Z"
   },
   {
    "duration": 0,
    "start_time": "2023-03-23T19:26:15.282Z"
   },
   {
    "duration": 0,
    "start_time": "2023-03-23T19:26:15.283Z"
   },
   {
    "duration": 0,
    "start_time": "2023-03-23T19:26:15.284Z"
   },
   {
    "duration": 0,
    "start_time": "2023-03-23T19:26:15.285Z"
   },
   {
    "duration": 0,
    "start_time": "2023-03-23T19:26:15.286Z"
   },
   {
    "duration": 0,
    "start_time": "2023-03-23T19:26:15.341Z"
   },
   {
    "duration": 0,
    "start_time": "2023-03-23T19:26:15.342Z"
   },
   {
    "duration": 0,
    "start_time": "2023-03-23T19:26:15.343Z"
   },
   {
    "duration": 0,
    "start_time": "2023-03-23T19:26:15.343Z"
   },
   {
    "duration": 102,
    "start_time": "2023-03-23T19:34:17.621Z"
   },
   {
    "duration": 243,
    "start_time": "2023-03-23T19:37:08.222Z"
   },
   {
    "duration": 2385,
    "start_time": "2023-03-23T19:38:14.612Z"
   },
   {
    "duration": 1254,
    "start_time": "2023-03-23T19:38:16.999Z"
   },
   {
    "duration": 15,
    "start_time": "2023-03-23T19:38:18.255Z"
   },
   {
    "duration": 19,
    "start_time": "2023-03-23T19:38:18.272Z"
   },
   {
    "duration": 5,
    "start_time": "2023-03-23T19:38:18.293Z"
   },
   {
    "duration": 6,
    "start_time": "2023-03-23T19:38:18.300Z"
   },
   {
    "duration": 10,
    "start_time": "2023-03-23T19:38:18.307Z"
   },
   {
    "duration": 5,
    "start_time": "2023-03-23T19:38:18.318Z"
   },
   {
    "duration": 12,
    "start_time": "2023-03-23T19:38:18.345Z"
   },
   {
    "duration": 13,
    "start_time": "2023-03-23T19:38:18.360Z"
   },
   {
    "duration": 603,
    "start_time": "2023-03-23T19:38:18.375Z"
   },
   {
    "duration": 6,
    "start_time": "2023-03-23T19:38:18.979Z"
   },
   {
    "duration": 7,
    "start_time": "2023-03-23T19:38:18.986Z"
   },
   {
    "duration": 6,
    "start_time": "2023-03-23T19:38:18.994Z"
   },
   {
    "duration": 9,
    "start_time": "2023-03-23T19:38:19.002Z"
   },
   {
    "duration": 41,
    "start_time": "2023-03-23T19:38:19.012Z"
   },
   {
    "duration": 7,
    "start_time": "2023-03-23T19:38:19.058Z"
   },
   {
    "duration": 1351,
    "start_time": "2023-03-23T19:38:19.067Z"
   },
   {
    "duration": 49,
    "start_time": "2023-03-23T19:38:20.420Z"
   },
   {
    "duration": 5,
    "start_time": "2023-03-23T19:38:20.471Z"
   },
   {
    "duration": 188,
    "start_time": "2023-03-23T19:38:20.478Z"
   },
   {
    "duration": 7,
    "start_time": "2023-03-23T19:38:20.667Z"
   },
   {
    "duration": 184,
    "start_time": "2023-03-23T19:38:20.676Z"
   },
   {
    "duration": 182,
    "start_time": "2023-03-23T19:38:20.863Z"
   },
   {
    "duration": 164,
    "start_time": "2023-03-23T19:38:21.046Z"
   },
   {
    "duration": 180,
    "start_time": "2023-03-23T19:38:21.212Z"
   },
   {
    "duration": 4,
    "start_time": "2023-03-23T19:38:21.393Z"
   },
   {
    "duration": 167,
    "start_time": "2023-03-23T19:38:21.401Z"
   },
   {
    "duration": 1497,
    "start_time": "2023-03-23T19:38:21.569Z"
   },
   {
    "duration": 282,
    "start_time": "2023-03-23T19:38:23.067Z"
   },
   {
    "duration": 7,
    "start_time": "2023-03-23T19:38:23.350Z"
   },
   {
    "duration": 235,
    "start_time": "2023-03-23T19:38:23.359Z"
   },
   {
    "duration": 274,
    "start_time": "2023-03-23T19:38:23.595Z"
   },
   {
    "duration": 4,
    "start_time": "2023-03-23T19:38:23.871Z"
   },
   {
    "duration": 235,
    "start_time": "2023-03-23T19:38:23.876Z"
   },
   {
    "duration": 397,
    "start_time": "2023-03-23T19:38:24.113Z"
   },
   {
    "duration": 6,
    "start_time": "2023-03-23T19:38:24.512Z"
   },
   {
    "duration": 9,
    "start_time": "2023-03-23T19:38:24.519Z"
   },
   {
    "duration": 29,
    "start_time": "2023-03-23T19:38:24.539Z"
   },
   {
    "duration": 25,
    "start_time": "2023-03-23T19:38:24.570Z"
   },
   {
    "duration": 1279,
    "start_time": "2023-03-23T19:38:24.598Z"
   },
   {
    "duration": 175,
    "start_time": "2023-03-23T19:38:25.878Z"
   },
   {
    "duration": 17,
    "start_time": "2023-03-23T19:38:26.055Z"
   },
   {
    "duration": 781,
    "start_time": "2023-03-23T19:38:26.073Z"
   },
   {
    "duration": 24,
    "start_time": "2023-03-23T19:38:26.856Z"
   },
   {
    "duration": 688,
    "start_time": "2023-03-23T19:38:26.881Z"
   },
   {
    "duration": 0,
    "start_time": "2023-03-23T19:38:27.571Z"
   },
   {
    "duration": 0,
    "start_time": "2023-03-23T19:38:27.572Z"
   },
   {
    "duration": 0,
    "start_time": "2023-03-23T19:38:27.573Z"
   },
   {
    "duration": 0,
    "start_time": "2023-03-23T19:38:27.574Z"
   },
   {
    "duration": 0,
    "start_time": "2023-03-23T19:38:27.575Z"
   },
   {
    "duration": 0,
    "start_time": "2023-03-23T19:38:27.576Z"
   },
   {
    "duration": 0,
    "start_time": "2023-03-23T19:38:27.577Z"
   },
   {
    "duration": 0,
    "start_time": "2023-03-23T19:38:27.578Z"
   },
   {
    "duration": 0,
    "start_time": "2023-03-23T19:38:27.579Z"
   },
   {
    "duration": 0,
    "start_time": "2023-03-23T19:38:27.580Z"
   },
   {
    "duration": 0,
    "start_time": "2023-03-23T19:38:27.581Z"
   },
   {
    "duration": 0,
    "start_time": "2023-03-23T19:38:27.582Z"
   },
   {
    "duration": 0,
    "start_time": "2023-03-23T19:38:27.583Z"
   },
   {
    "duration": 0,
    "start_time": "2023-03-23T19:38:27.584Z"
   },
   {
    "duration": 0,
    "start_time": "2023-03-23T19:38:27.585Z"
   },
   {
    "duration": 0,
    "start_time": "2023-03-23T19:38:27.586Z"
   },
   {
    "duration": 0,
    "start_time": "2023-03-23T19:38:27.587Z"
   },
   {
    "duration": 0,
    "start_time": "2023-03-23T19:38:27.588Z"
   },
   {
    "duration": 0,
    "start_time": "2023-03-23T19:38:27.589Z"
   },
   {
    "duration": 0,
    "start_time": "2023-03-23T19:38:27.590Z"
   },
   {
    "duration": 0,
    "start_time": "2023-03-23T19:38:27.591Z"
   },
   {
    "duration": 0,
    "start_time": "2023-03-23T19:38:27.592Z"
   },
   {
    "duration": 0,
    "start_time": "2023-03-23T19:38:27.593Z"
   },
   {
    "duration": 1,
    "start_time": "2023-03-23T19:38:27.593Z"
   },
   {
    "duration": 0,
    "start_time": "2023-03-23T19:38:27.595Z"
   },
   {
    "duration": 0,
    "start_time": "2023-03-23T19:38:27.595Z"
   },
   {
    "duration": 0,
    "start_time": "2023-03-23T19:38:27.596Z"
   },
   {
    "duration": 0,
    "start_time": "2023-03-23T19:38:27.597Z"
   },
   {
    "duration": 0,
    "start_time": "2023-03-23T19:38:27.640Z"
   },
   {
    "duration": 0,
    "start_time": "2023-03-23T19:38:27.640Z"
   },
   {
    "duration": 0,
    "start_time": "2023-03-23T19:38:27.641Z"
   },
   {
    "duration": 0,
    "start_time": "2023-03-23T19:38:27.641Z"
   },
   {
    "duration": 0,
    "start_time": "2023-03-23T19:38:27.642Z"
   },
   {
    "duration": 0,
    "start_time": "2023-03-23T19:38:27.642Z"
   },
   {
    "duration": 0,
    "start_time": "2023-03-23T19:38:27.643Z"
   },
   {
    "duration": 0,
    "start_time": "2023-03-23T19:38:27.643Z"
   },
   {
    "duration": 0,
    "start_time": "2023-03-23T19:38:27.644Z"
   },
   {
    "duration": 0,
    "start_time": "2023-03-23T19:38:27.644Z"
   },
   {
    "duration": 0,
    "start_time": "2023-03-23T19:38:27.649Z"
   },
   {
    "duration": 1,
    "start_time": "2023-03-23T19:38:27.649Z"
   },
   {
    "duration": 0,
    "start_time": "2023-03-23T19:38:27.650Z"
   },
   {
    "duration": 0,
    "start_time": "2023-03-23T19:38:27.651Z"
   },
   {
    "duration": 0,
    "start_time": "2023-03-23T19:38:27.651Z"
   },
   {
    "duration": 0,
    "start_time": "2023-03-23T19:38:27.652Z"
   },
   {
    "duration": 39,
    "start_time": "2023-03-23T19:39:09.696Z"
   },
   {
    "duration": 8,
    "start_time": "2023-03-23T19:39:09.837Z"
   },
   {
    "duration": 7,
    "start_time": "2023-03-23T19:39:09.986Z"
   },
   {
    "duration": 7,
    "start_time": "2023-03-23T19:39:10.121Z"
   },
   {
    "duration": 7,
    "start_time": "2023-03-23T19:39:10.266Z"
   },
   {
    "duration": 6,
    "start_time": "2023-03-23T19:39:10.566Z"
   },
   {
    "duration": 44,
    "start_time": "2023-03-23T19:39:10.719Z"
   },
   {
    "duration": 7,
    "start_time": "2023-03-23T19:39:10.877Z"
   },
   {
    "duration": 7,
    "start_time": "2023-03-23T19:39:11.028Z"
   },
   {
    "duration": 7,
    "start_time": "2023-03-23T19:39:11.177Z"
   },
   {
    "duration": 7,
    "start_time": "2023-03-23T19:39:11.331Z"
   },
   {
    "duration": 6,
    "start_time": "2023-03-23T19:39:12.421Z"
   },
   {
    "duration": 7,
    "start_time": "2023-03-23T19:39:12.573Z"
   },
   {
    "duration": 8,
    "start_time": "2023-03-23T19:39:12.726Z"
   },
   {
    "duration": 369,
    "start_time": "2023-03-23T19:39:12.881Z"
   },
   {
    "duration": 3,
    "start_time": "2023-03-23T19:39:13.252Z"
   },
   {
    "duration": 163,
    "start_time": "2023-03-23T19:39:13.363Z"
   },
   {
    "duration": 4,
    "start_time": "2023-03-23T19:39:13.528Z"
   },
   {
    "duration": 2,
    "start_time": "2023-03-23T19:39:13.666Z"
   },
   {
    "duration": 4,
    "start_time": "2023-03-23T19:39:13.826Z"
   },
   {
    "duration": 8,
    "start_time": "2023-03-23T19:39:14.289Z"
   },
   {
    "duration": 8,
    "start_time": "2023-03-23T19:39:14.467Z"
   },
   {
    "duration": 23,
    "start_time": "2023-03-23T19:39:15.560Z"
   },
   {
    "duration": 7,
    "start_time": "2023-03-23T19:39:16.355Z"
   },
   {
    "duration": 9,
    "start_time": "2023-03-23T19:39:16.507Z"
   },
   {
    "duration": 8,
    "start_time": "2023-03-23T19:39:16.666Z"
   },
   {
    "duration": 381,
    "start_time": "2023-03-23T19:39:16.836Z"
   },
   {
    "duration": 13,
    "start_time": "2023-03-23T19:39:17.310Z"
   },
   {
    "duration": 7,
    "start_time": "2023-03-23T19:39:18.457Z"
   },
   {
    "duration": 27,
    "start_time": "2023-03-23T19:39:18.625Z"
   },
   {
    "duration": 74,
    "start_time": "2023-03-23T19:39:18.780Z"
   },
   {
    "duration": 845,
    "start_time": "2023-03-23T19:39:18.950Z"
   },
   {
    "duration": 661,
    "start_time": "2023-03-23T19:39:19.797Z"
   },
   {
    "duration": 5,
    "start_time": "2023-03-23T19:39:20.460Z"
   },
   {
    "duration": 13,
    "start_time": "2023-03-23T19:39:20.467Z"
   },
   {
    "duration": 11362,
    "start_time": "2023-03-23T19:39:20.482Z"
   },
   {
    "duration": 192,
    "start_time": "2023-03-23T19:39:31.846Z"
   },
   {
    "duration": 519,
    "start_time": "2023-03-23T19:39:32.040Z"
   },
   {
    "duration": 83,
    "start_time": "2023-03-23T19:39:32.562Z"
   },
   {
    "duration": 17,
    "start_time": "2023-03-23T19:39:32.647Z"
   },
   {
    "duration": 10,
    "start_time": "2023-03-23T19:39:32.666Z"
   },
   {
    "duration": 8,
    "start_time": "2023-03-23T19:39:32.678Z"
   },
   {
    "duration": 692,
    "start_time": "2023-03-23T19:39:32.687Z"
   },
   {
    "duration": 188,
    "start_time": "2023-03-23T19:39:33.381Z"
   },
   {
    "duration": 3250,
    "start_time": "2023-03-24T19:12:47.264Z"
   },
   {
    "duration": 1254,
    "start_time": "2023-03-24T19:12:50.516Z"
   },
   {
    "duration": 12,
    "start_time": "2023-03-24T19:12:51.772Z"
   },
   {
    "duration": 14,
    "start_time": "2023-03-24T19:12:51.786Z"
   },
   {
    "duration": 11,
    "start_time": "2023-03-24T19:12:51.801Z"
   },
   {
    "duration": 21,
    "start_time": "2023-03-24T19:12:51.813Z"
   },
   {
    "duration": 14,
    "start_time": "2023-03-24T19:12:51.836Z"
   },
   {
    "duration": 6,
    "start_time": "2023-03-24T19:12:51.851Z"
   },
   {
    "duration": 8,
    "start_time": "2023-03-24T19:12:51.859Z"
   },
   {
    "duration": 17,
    "start_time": "2023-03-24T19:12:51.869Z"
   },
   {
    "duration": 666,
    "start_time": "2023-03-24T19:12:51.887Z"
   },
   {
    "duration": 15,
    "start_time": "2023-03-24T19:12:52.555Z"
   },
   {
    "duration": 11,
    "start_time": "2023-03-24T19:12:52.571Z"
   },
   {
    "duration": 12,
    "start_time": "2023-03-24T19:12:52.584Z"
   },
   {
    "duration": 13,
    "start_time": "2023-03-24T19:12:52.598Z"
   },
   {
    "duration": 5,
    "start_time": "2023-03-24T19:12:52.613Z"
   },
   {
    "duration": 15,
    "start_time": "2023-03-24T19:12:52.619Z"
   },
   {
    "duration": 1368,
    "start_time": "2023-03-24T19:12:52.636Z"
   },
   {
    "duration": 187,
    "start_time": "2023-03-24T19:12:54.005Z"
   },
   {
    "duration": 5,
    "start_time": "2023-03-24T19:12:54.195Z"
   },
   {
    "duration": 211,
    "start_time": "2023-03-24T19:12:54.202Z"
   },
   {
    "duration": 8,
    "start_time": "2023-03-24T19:12:54.414Z"
   },
   {
    "duration": 195,
    "start_time": "2023-03-24T19:12:54.424Z"
   },
   {
    "duration": 187,
    "start_time": "2023-03-24T19:12:54.621Z"
   },
   {
    "duration": 181,
    "start_time": "2023-03-24T19:12:54.809Z"
   },
   {
    "duration": 194,
    "start_time": "2023-03-24T19:12:54.992Z"
   },
   {
    "duration": 5,
    "start_time": "2023-03-24T19:12:55.188Z"
   },
   {
    "duration": 170,
    "start_time": "2023-03-24T19:12:55.197Z"
   },
   {
    "duration": 1522,
    "start_time": "2023-03-24T19:12:55.369Z"
   },
   {
    "duration": 383,
    "start_time": "2023-03-24T19:12:56.893Z"
   },
   {
    "duration": 5,
    "start_time": "2023-03-24T19:12:57.278Z"
   },
   {
    "duration": 274,
    "start_time": "2023-03-24T19:12:57.284Z"
   },
   {
    "duration": 303,
    "start_time": "2023-03-24T19:12:57.559Z"
   },
   {
    "duration": 5,
    "start_time": "2023-03-24T19:12:57.864Z"
   },
   {
    "duration": 266,
    "start_time": "2023-03-24T19:12:57.870Z"
   },
   {
    "duration": 5,
    "start_time": "2023-03-24T19:12:58.137Z"
   },
   {
    "duration": 245,
    "start_time": "2023-03-24T19:12:58.144Z"
   },
   {
    "duration": 547,
    "start_time": "2023-03-24T19:12:58.391Z"
   },
   {
    "duration": 6,
    "start_time": "2023-03-24T19:12:58.940Z"
   },
   {
    "duration": 7,
    "start_time": "2023-03-24T19:12:58.947Z"
   },
   {
    "duration": 11,
    "start_time": "2023-03-24T19:12:58.956Z"
   },
   {
    "duration": 13,
    "start_time": "2023-03-24T19:12:58.969Z"
   },
   {
    "duration": 1178,
    "start_time": "2023-03-24T19:12:58.984Z"
   },
   {
    "duration": 74,
    "start_time": "2023-03-24T19:13:00.163Z"
   },
   {
    "duration": 107,
    "start_time": "2023-03-24T19:13:00.240Z"
   },
   {
    "duration": 587,
    "start_time": "2023-03-24T19:13:00.348Z"
   },
   {
    "duration": 98,
    "start_time": "2023-03-24T19:13:00.937Z"
   },
   {
    "duration": 444,
    "start_time": "2023-03-24T19:13:01.043Z"
   },
   {
    "duration": 4,
    "start_time": "2023-03-24T19:13:01.489Z"
   },
   {
    "duration": 50,
    "start_time": "2023-03-24T19:13:01.494Z"
   },
   {
    "duration": 48,
    "start_time": "2023-03-24T19:13:01.546Z"
   },
   {
    "duration": 70,
    "start_time": "2023-03-24T19:13:01.595Z"
   },
   {
    "duration": 127,
    "start_time": "2023-03-24T19:13:01.732Z"
   },
   {
    "duration": 211,
    "start_time": "2023-03-24T19:13:01.862Z"
   },
   {
    "duration": 5121,
    "start_time": "2023-03-24T19:13:02.076Z"
   },
   {
    "duration": 745,
    "start_time": "2023-03-24T19:13:07.198Z"
   },
   {
    "duration": 93,
    "start_time": "2023-03-24T19:13:07.946Z"
   },
   {
    "duration": 107,
    "start_time": "2023-03-24T19:13:08.042Z"
   },
   {
    "duration": 185,
    "start_time": "2023-03-24T19:13:08.151Z"
   },
   {
    "duration": 15,
    "start_time": "2023-03-24T19:13:08.338Z"
   },
   {
    "duration": 158,
    "start_time": "2023-03-24T19:13:42.463Z"
   },
   {
    "duration": 20,
    "start_time": "2023-03-24T19:13:53.058Z"
   },
   {
    "duration": 4,
    "start_time": "2023-03-24T19:13:59.443Z"
   },
   {
    "duration": 6,
    "start_time": "2023-03-24T19:14:04.331Z"
   },
   {
    "duration": 6,
    "start_time": "2023-03-24T19:14:15.494Z"
   },
   {
    "duration": 7,
    "start_time": "2023-03-24T19:14:28.131Z"
   },
   {
    "duration": 7,
    "start_time": "2023-03-24T19:14:51.004Z"
   },
   {
    "duration": 15,
    "start_time": "2023-03-24T19:16:40.843Z"
   },
   {
    "duration": 298,
    "start_time": "2023-03-24T19:16:56.135Z"
   },
   {
    "duration": 301,
    "start_time": "2023-03-24T19:17:09.315Z"
   },
   {
    "duration": 331,
    "start_time": "2023-03-24T19:17:40.115Z"
   },
   {
    "duration": 506,
    "start_time": "2023-03-24T19:17:54.403Z"
   },
   {
    "duration": 445,
    "start_time": "2023-03-24T19:19:01.629Z"
   },
   {
    "duration": 394,
    "start_time": "2023-03-24T19:19:05.358Z"
   },
   {
    "duration": 2305,
    "start_time": "2023-03-24T19:23:31.281Z"
   },
   {
    "duration": 1221,
    "start_time": "2023-03-24T19:23:33.588Z"
   },
   {
    "duration": 12,
    "start_time": "2023-03-24T19:23:34.810Z"
   },
   {
    "duration": 20,
    "start_time": "2023-03-24T19:23:34.824Z"
   },
   {
    "duration": 11,
    "start_time": "2023-03-24T19:23:34.845Z"
   },
   {
    "duration": 10,
    "start_time": "2023-03-24T19:23:34.857Z"
   },
   {
    "duration": 8,
    "start_time": "2023-03-24T19:23:34.869Z"
   },
   {
    "duration": 30,
    "start_time": "2023-03-24T19:23:34.879Z"
   },
   {
    "duration": 13,
    "start_time": "2023-03-24T19:23:34.910Z"
   },
   {
    "duration": 13,
    "start_time": "2023-03-24T19:23:34.926Z"
   },
   {
    "duration": 655,
    "start_time": "2023-03-24T19:23:34.941Z"
   },
   {
    "duration": 6,
    "start_time": "2023-03-24T19:23:35.598Z"
   },
   {
    "duration": 18,
    "start_time": "2023-03-24T19:23:35.606Z"
   },
   {
    "duration": 12,
    "start_time": "2023-03-24T19:23:35.625Z"
   },
   {
    "duration": 11,
    "start_time": "2023-03-24T19:23:35.639Z"
   },
   {
    "duration": 5,
    "start_time": "2023-03-24T19:23:35.652Z"
   },
   {
    "duration": 14,
    "start_time": "2023-03-24T19:23:35.658Z"
   },
   {
    "duration": 1389,
    "start_time": "2023-03-24T19:23:35.674Z"
   },
   {
    "duration": 157,
    "start_time": "2023-03-24T19:23:37.065Z"
   },
   {
    "duration": 10,
    "start_time": "2023-03-24T19:23:37.224Z"
   },
   {
    "duration": 179,
    "start_time": "2023-03-24T19:23:37.237Z"
   },
   {
    "duration": 17,
    "start_time": "2023-03-24T19:23:37.418Z"
   },
   {
    "duration": 175,
    "start_time": "2023-03-24T19:23:37.437Z"
   },
   {
    "duration": 185,
    "start_time": "2023-03-24T19:23:37.614Z"
   },
   {
    "duration": 187,
    "start_time": "2023-03-24T19:23:37.801Z"
   },
   {
    "duration": 198,
    "start_time": "2023-03-24T19:23:37.989Z"
   },
   {
    "duration": 5,
    "start_time": "2023-03-24T19:23:38.188Z"
   },
   {
    "duration": 170,
    "start_time": "2023-03-24T19:23:38.197Z"
   },
   {
    "duration": 1389,
    "start_time": "2023-03-24T19:23:38.368Z"
   },
   {
    "duration": 384,
    "start_time": "2023-03-24T19:23:39.759Z"
   },
   {
    "duration": 5,
    "start_time": "2023-03-24T19:23:40.144Z"
   },
   {
    "duration": 265,
    "start_time": "2023-03-24T19:23:40.151Z"
   },
   {
    "duration": 291,
    "start_time": "2023-03-24T19:23:40.418Z"
   },
   {
    "duration": 9,
    "start_time": "2023-03-24T19:23:40.711Z"
   },
   {
    "duration": 236,
    "start_time": "2023-03-24T19:23:40.721Z"
   },
   {
    "duration": 5,
    "start_time": "2023-03-24T19:23:40.959Z"
   },
   {
    "duration": 252,
    "start_time": "2023-03-24T19:23:40.965Z"
   },
   {
    "duration": 526,
    "start_time": "2023-03-24T19:23:41.219Z"
   },
   {
    "duration": 5,
    "start_time": "2023-03-24T19:23:41.747Z"
   },
   {
    "duration": 9,
    "start_time": "2023-03-24T19:23:41.754Z"
   },
   {
    "duration": 13,
    "start_time": "2023-03-24T19:23:41.764Z"
   },
   {
    "duration": 9,
    "start_time": "2023-03-24T19:23:41.779Z"
   },
   {
    "duration": 1159,
    "start_time": "2023-03-24T19:23:41.790Z"
   },
   {
    "duration": 184,
    "start_time": "2023-03-24T19:23:42.951Z"
   },
   {
    "duration": 16,
    "start_time": "2023-03-24T19:23:43.139Z"
   },
   {
    "duration": 480,
    "start_time": "2023-03-24T19:23:43.157Z"
   },
   {
    "duration": 99,
    "start_time": "2023-03-24T19:23:43.639Z"
   },
   {
    "duration": 526,
    "start_time": "2023-03-24T19:23:43.741Z"
   },
   {
    "duration": 4,
    "start_time": "2023-03-24T19:23:44.269Z"
   },
   {
    "duration": 8,
    "start_time": "2023-03-24T19:23:44.274Z"
   },
   {
    "duration": 30,
    "start_time": "2023-03-24T19:23:44.283Z"
   },
   {
    "duration": 23,
    "start_time": "2023-03-24T19:23:44.315Z"
   },
   {
    "duration": 196,
    "start_time": "2023-03-24T19:23:44.341Z"
   },
   {
    "duration": 104,
    "start_time": "2023-03-24T19:23:44.539Z"
   },
   {
    "duration": 4674,
    "start_time": "2023-03-24T19:23:44.646Z"
   },
   {
    "duration": 922,
    "start_time": "2023-03-24T19:23:49.323Z"
   },
   {
    "duration": 91,
    "start_time": "2023-03-24T19:23:50.247Z"
   },
   {
    "duration": 102,
    "start_time": "2023-03-24T19:23:50.432Z"
   },
   {
    "duration": 102,
    "start_time": "2023-03-24T19:23:50.536Z"
   },
   {
    "duration": 16,
    "start_time": "2023-03-24T19:23:50.641Z"
   },
   {
    "duration": 658,
    "start_time": "2023-03-24T19:23:50.734Z"
   },
   {
    "duration": 48,
    "start_time": "2023-03-24T19:23:51.394Z"
   },
   {
    "duration": 7,
    "start_time": "2023-03-24T19:23:51.444Z"
   },
   {
    "duration": 7,
    "start_time": "2023-03-24T19:23:51.452Z"
   },
   {
    "duration": 9,
    "start_time": "2023-03-24T19:23:51.461Z"
   },
   {
    "duration": 9,
    "start_time": "2023-03-24T19:23:51.472Z"
   },
   {
    "duration": 18,
    "start_time": "2023-03-24T19:23:51.483Z"
   },
   {
    "duration": 61,
    "start_time": "2023-03-24T19:23:51.503Z"
   },
   {
    "duration": 7,
    "start_time": "2023-03-24T19:23:51.566Z"
   },
   {
    "duration": 9,
    "start_time": "2023-03-24T19:23:51.575Z"
   },
   {
    "duration": 15,
    "start_time": "2023-03-24T19:23:51.585Z"
   },
   {
    "duration": 16,
    "start_time": "2023-03-24T19:23:51.601Z"
   },
   {
    "duration": 21,
    "start_time": "2023-03-24T19:23:51.619Z"
   },
   {
    "duration": 18,
    "start_time": "2023-03-24T19:23:51.642Z"
   },
   {
    "duration": 7,
    "start_time": "2023-03-24T19:23:51.662Z"
   },
   {
    "duration": 431,
    "start_time": "2023-03-24T19:23:51.671Z"
   },
   {
    "duration": 18,
    "start_time": "2023-03-24T19:23:52.103Z"
   },
   {
    "duration": 6,
    "start_time": "2023-03-24T19:23:52.134Z"
   },
   {
    "duration": 14,
    "start_time": "2023-03-24T19:23:52.142Z"
   },
   {
    "duration": 7,
    "start_time": "2023-03-24T19:23:52.158Z"
   },
   {
    "duration": 396,
    "start_time": "2023-03-24T19:23:52.167Z"
   },
   {
    "duration": 10,
    "start_time": "2023-03-24T19:23:52.568Z"
   },
   {
    "duration": 10,
    "start_time": "2023-03-24T19:23:52.580Z"
   },
   {
    "duration": 16,
    "start_time": "2023-03-24T19:23:52.591Z"
   },
   {
    "duration": 69,
    "start_time": "2023-03-24T19:23:52.608Z"
   },
   {
    "duration": 712,
    "start_time": "2023-03-24T19:23:52.679Z"
   },
   {
    "duration": 665,
    "start_time": "2023-03-24T19:23:53.393Z"
   },
   {
    "duration": 5,
    "start_time": "2023-03-24T19:23:54.060Z"
   },
   {
    "duration": 16,
    "start_time": "2023-03-24T19:23:54.066Z"
   },
   {
    "duration": 13073,
    "start_time": "2023-03-24T19:23:54.084Z"
   },
   {
    "duration": 161,
    "start_time": "2023-03-24T19:24:07.159Z"
   },
   {
    "duration": 1115,
    "start_time": "2023-03-24T19:24:07.322Z"
   },
   {
    "duration": 5,
    "start_time": "2023-03-24T19:24:08.439Z"
   },
   {
    "duration": 31,
    "start_time": "2023-03-24T19:24:08.445Z"
   },
   {
    "duration": 14,
    "start_time": "2023-03-24T19:24:08.477Z"
   },
   {
    "duration": 17,
    "start_time": "2023-03-24T19:24:08.493Z"
   },
   {
    "duration": 1725,
    "start_time": "2023-03-24T19:24:08.512Z"
   },
   {
    "duration": 123,
    "start_time": "2023-03-24T19:24:10.239Z"
   },
   {
    "duration": 3,
    "start_time": "2023-03-24T19:24:10.365Z"
   },
   {
    "duration": 57,
    "start_time": "2023-03-24T20:45:47.935Z"
   },
   {
    "duration": 2354,
    "start_time": "2023-03-24T20:45:53.485Z"
   },
   {
    "duration": 1248,
    "start_time": "2023-03-24T20:45:55.842Z"
   },
   {
    "duration": 14,
    "start_time": "2023-03-24T20:45:57.091Z"
   },
   {
    "duration": 16,
    "start_time": "2023-03-24T20:45:57.108Z"
   },
   {
    "duration": 7,
    "start_time": "2023-03-24T20:45:57.125Z"
   },
   {
    "duration": 7,
    "start_time": "2023-03-24T20:45:57.134Z"
   },
   {
    "duration": 4,
    "start_time": "2023-03-24T20:45:57.143Z"
   },
   {
    "duration": 4,
    "start_time": "2023-03-24T20:45:57.149Z"
   },
   {
    "duration": 5,
    "start_time": "2023-03-24T20:45:57.155Z"
   },
   {
    "duration": 50,
    "start_time": "2023-03-24T20:45:57.163Z"
   },
   {
    "duration": 724,
    "start_time": "2023-03-24T20:45:57.215Z"
   },
   {
    "duration": 9,
    "start_time": "2023-03-24T20:45:57.941Z"
   },
   {
    "duration": 9,
    "start_time": "2023-03-24T20:45:57.952Z"
   },
   {
    "duration": 6,
    "start_time": "2023-03-24T20:45:57.963Z"
   },
   {
    "duration": 10,
    "start_time": "2023-03-24T20:45:57.971Z"
   },
   {
    "duration": 21,
    "start_time": "2023-03-24T20:45:57.983Z"
   },
   {
    "duration": 8,
    "start_time": "2023-03-24T20:45:58.006Z"
   },
   {
    "duration": 1484,
    "start_time": "2023-03-24T20:45:58.016Z"
   },
   {
    "duration": 49,
    "start_time": "2023-03-24T20:45:59.503Z"
   },
   {
    "duration": 6,
    "start_time": "2023-03-24T20:45:59.554Z"
   },
   {
    "duration": 202,
    "start_time": "2023-03-24T20:45:59.562Z"
   },
   {
    "duration": 6,
    "start_time": "2023-03-24T20:45:59.766Z"
   },
   {
    "duration": 192,
    "start_time": "2023-03-24T20:45:59.774Z"
   },
   {
    "duration": 193,
    "start_time": "2023-03-24T20:45:59.968Z"
   },
   {
    "duration": 175,
    "start_time": "2023-03-24T20:46:00.162Z"
   },
   {
    "duration": 192,
    "start_time": "2023-03-24T20:46:00.339Z"
   },
   {
    "duration": 5,
    "start_time": "2023-03-24T20:46:00.533Z"
   },
   {
    "duration": 203,
    "start_time": "2023-03-24T20:46:00.542Z"
   },
   {
    "duration": 1564,
    "start_time": "2023-03-24T20:46:00.747Z"
   },
   {
    "duration": 401,
    "start_time": "2023-03-24T20:46:02.313Z"
   },
   {
    "duration": 6,
    "start_time": "2023-03-24T20:46:02.716Z"
   },
   {
    "duration": 265,
    "start_time": "2023-03-24T20:46:02.724Z"
   },
   {
    "duration": 294,
    "start_time": "2023-03-24T20:46:02.991Z"
   },
   {
    "duration": 5,
    "start_time": "2023-03-24T20:46:03.287Z"
   },
   {
    "duration": 231,
    "start_time": "2023-03-24T20:46:03.303Z"
   },
   {
    "duration": 6,
    "start_time": "2023-03-24T20:46:03.536Z"
   },
   {
    "duration": 246,
    "start_time": "2023-03-24T20:46:03.544Z"
   },
   {
    "duration": 535,
    "start_time": "2023-03-24T20:46:03.792Z"
   },
   {
    "duration": 5,
    "start_time": "2023-03-24T20:46:04.328Z"
   },
   {
    "duration": 19,
    "start_time": "2023-03-24T20:46:04.335Z"
   },
   {
    "duration": 26,
    "start_time": "2023-03-24T20:46:04.356Z"
   },
   {
    "duration": 9,
    "start_time": "2023-03-24T20:46:04.384Z"
   },
   {
    "duration": 1160,
    "start_time": "2023-03-24T20:46:04.395Z"
   },
   {
    "duration": 252,
    "start_time": "2023-03-24T20:46:05.557Z"
   },
   {
    "duration": 103,
    "start_time": "2023-03-24T20:46:05.812Z"
   },
   {
    "duration": 1487,
    "start_time": "2023-03-24T20:46:05.916Z"
   },
   {
    "duration": 10,
    "start_time": "2023-03-24T20:46:07.405Z"
   },
   {
    "duration": 517,
    "start_time": "2023-03-24T20:46:07.417Z"
   },
   {
    "duration": 15,
    "start_time": "2023-03-24T20:46:07.936Z"
   },
   {
    "duration": 4,
    "start_time": "2023-03-24T20:46:07.953Z"
   },
   {
    "duration": 23,
    "start_time": "2023-03-24T20:46:07.959Z"
   },
   {
    "duration": 124,
    "start_time": "2023-03-24T20:46:07.983Z"
   },
   {
    "duration": 200,
    "start_time": "2023-03-24T20:46:08.109Z"
   },
   {
    "duration": 93,
    "start_time": "2023-03-24T20:46:08.317Z"
   },
   {
    "duration": 3903,
    "start_time": "2023-03-24T20:46:08.413Z"
   },
   {
    "duration": 1091,
    "start_time": "2023-03-24T20:46:12.318Z"
   },
   {
    "duration": 91,
    "start_time": "2023-03-24T20:46:13.413Z"
   },
   {
    "duration": 14,
    "start_time": "2023-03-24T20:46:13.505Z"
   },
   {
    "duration": 7,
    "start_time": "2023-03-24T20:46:13.520Z"
   },
   {
    "duration": 114,
    "start_time": "2023-03-24T20:46:13.604Z"
   },
   {
    "duration": 997,
    "start_time": "2023-03-24T20:46:13.721Z"
   },
   {
    "duration": 104,
    "start_time": "2023-03-24T20:46:14.721Z"
   },
   {
    "duration": 8,
    "start_time": "2023-03-24T20:46:14.827Z"
   },
   {
    "duration": 9,
    "start_time": "2023-03-24T20:46:14.837Z"
   },
   {
    "duration": 9,
    "start_time": "2023-03-24T20:46:14.904Z"
   },
   {
    "duration": 7,
    "start_time": "2023-03-24T20:46:14.915Z"
   },
   {
    "duration": 6,
    "start_time": "2023-03-24T20:46:14.924Z"
   },
   {
    "duration": 109,
    "start_time": "2023-03-24T20:46:14.932Z"
   },
   {
    "duration": 61,
    "start_time": "2023-03-24T20:46:15.042Z"
   },
   {
    "duration": 11,
    "start_time": "2023-03-24T20:46:15.105Z"
   },
   {
    "duration": 8,
    "start_time": "2023-03-24T20:46:15.118Z"
   },
   {
    "duration": 6,
    "start_time": "2023-03-24T20:46:15.128Z"
   },
   {
    "duration": 7,
    "start_time": "2023-03-24T20:46:15.136Z"
   },
   {
    "duration": 62,
    "start_time": "2023-03-24T20:46:15.144Z"
   },
   {
    "duration": 10,
    "start_time": "2023-03-24T20:46:15.208Z"
   },
   {
    "duration": 488,
    "start_time": "2023-03-24T20:46:15.221Z"
   },
   {
    "duration": 19,
    "start_time": "2023-03-24T20:46:15.712Z"
   },
   {
    "duration": 6,
    "start_time": "2023-03-24T20:46:15.733Z"
   },
   {
    "duration": 8,
    "start_time": "2023-03-24T20:46:15.741Z"
   },
   {
    "duration": 10,
    "start_time": "2023-03-24T20:46:15.750Z"
   },
   {
    "duration": 471,
    "start_time": "2023-03-24T20:46:15.762Z"
   },
   {
    "duration": 12,
    "start_time": "2023-03-24T20:46:16.239Z"
   },
   {
    "duration": 9,
    "start_time": "2023-03-24T20:46:16.253Z"
   },
   {
    "duration": 59,
    "start_time": "2023-03-24T20:46:16.264Z"
   },
   {
    "duration": 105,
    "start_time": "2023-03-24T20:46:16.325Z"
   },
   {
    "duration": 1310,
    "start_time": "2023-03-24T20:46:16.432Z"
   },
   {
    "duration": 809,
    "start_time": "2023-03-24T20:46:17.744Z"
   },
   {
    "duration": 6,
    "start_time": "2023-03-24T20:46:18.556Z"
   },
   {
    "duration": 28,
    "start_time": "2023-03-24T20:46:18.564Z"
   },
   {
    "duration": 9941,
    "start_time": "2023-03-24T20:46:18.594Z"
   },
   {
    "duration": 175,
    "start_time": "2023-03-24T20:46:28.537Z"
   },
   {
    "duration": 696,
    "start_time": "2023-03-24T20:46:28.713Z"
   },
   {
    "duration": 5,
    "start_time": "2023-03-24T20:46:29.411Z"
   },
   {
    "duration": 17,
    "start_time": "2023-03-24T20:46:29.504Z"
   },
   {
    "duration": 14,
    "start_time": "2023-03-24T20:46:29.523Z"
   },
   {
    "duration": 11,
    "start_time": "2023-03-24T20:46:29.539Z"
   },
   {
    "duration": 694,
    "start_time": "2023-03-24T20:46:29.552Z"
   },
   {
    "duration": 168,
    "start_time": "2023-03-24T20:46:30.248Z"
   },
   {
    "duration": 4,
    "start_time": "2023-03-24T20:46:30.419Z"
   },
   {
    "duration": 42,
    "start_time": "2023-03-24T20:46:30.425Z"
   },
   {
    "duration": 8,
    "start_time": "2023-03-24T20:46:53.414Z"
   }
  ],
  "kernelspec": {
   "display_name": "Python 3 (ipykernel)",
   "language": "python",
   "name": "python3"
  },
  "language_info": {
   "codemirror_mode": {
    "name": "ipython",
    "version": 3
   },
   "file_extension": ".py",
   "mimetype": "text/x-python",
   "name": "python",
   "nbconvert_exporter": "python",
   "pygments_lexer": "ipython3",
   "version": "3.10.9"
  },
  "toc": {
   "base_numbering": 1,
   "nav_menu": {},
   "number_sections": true,
   "sideBar": true,
   "skip_h1_title": false,
   "title_cell": "Table of Contents",
   "title_sidebar": "Contents",
   "toc_cell": false,
   "toc_position": {
    "height": "calc(100% - 180px)",
    "left": "10px",
    "top": "150px",
    "width": "362.025px"
   },
   "toc_section_display": true,
   "toc_window_display": true
  }
 },
 "nbformat": 4,
 "nbformat_minor": 5
}
