{
 "cells": [
  {
   "cell_type": "markdown",
   "id": "74becd61",
   "metadata": {},
   "source": [
    "# Проект по математической статистике"
   ]
  },
  {
   "cell_type": "markdown",
   "id": "a3f49419",
   "metadata": {},
   "source": [
    "**Цели проекта:**\n",
    "1. Исследовать данные из файла: EurovisionDZ.xlsx\n",
    "2. Определить распределения переменных\n",
    "3. Выяснить корреляционные отношения между переменными\n",
    "4. Проверить ряд гипотез и сделать выводы\n",
    "5. Обосновать использование тестов для проверки гипотез о переменных:"
   ]
  },
  {
   "cell_type": "markdown",
   "id": "db3b7328",
   "metadata": {},
   "source": [
    "## Подготовка к проведению исследования"
   ]
  },
  {
   "cell_type": "markdown",
   "id": "2a08ed88",
   "metadata": {},
   "source": [
    "### Импортируем необходимый набор библиотек"
   ]
  },
  {
   "cell_type": "code",
   "execution_count": 1,
   "id": "5600d226",
   "metadata": {
    "ExecuteTime": {
     "end_time": "2022-12-23T12:55:24.167657Z",
     "start_time": "2022-12-23T12:55:19.482376Z"
    }
   },
   "outputs": [],
   "source": [
    "#библитеки необходимые для загрузки данных с гугл диска:\n",
    "from io import BytesIO #Эта библиотека необходима вместе с 'requests' для доступа к файлу с данными из гугл диска\n",
    "import requests\n",
    "\n",
    "#библиотеки для работы с данными:\n",
    "import pandas as pd\n",
    "import numpy as np\n",
    "import warnings #чтобы не всплывали ненужные предупреждения\n",
    "\n",
    "#библиотеки для статистического анализа данных:\n",
    "from scipy import stats as st \n",
    "\n",
    "from scipy.stats import kstest # тест Колмогорова-Смирнова\n",
    "from scipy.stats import chisquare # критерий Пирсона (Хи-квадрат)\n",
    "\n",
    "from scipy.stats import expon # Экспоненциальное распределение\n",
    "from scipy.stats import uniform # Равномерное распределение\n",
    "\n",
    "from scipy.stats import t # Критическая точка распределения Стьюдента\n",
    "from scipy.stats import chi2 # Критическая точка распределения Хи-квадрат\n",
    "\n",
    "#библиотеки для визуализации данных:\n",
    "import matplotlib.pyplot as plt\n",
    "import seaborn as sns\n",
    "import plotly.express as px\n",
    "\n",
    "#библиотеки необходимые для рассчетов:\n",
    "import math\n",
    "from statistics import mode\n",
    "from statistics import median\n",
    "from statistics import variance\n",
    "\n",
    "#библиотеки для красивого отображения \n",
    "from IPython.display import display, Math, Latex\n",
    "from IPython.display import Image"
   ]
  },
  {
   "cell_type": "code",
   "execution_count": 2,
   "id": "3897d06c",
   "metadata": {
    "ExecuteTime": {
     "end_time": "2022-12-23T12:55:24.183617Z",
     "start_time": "2022-12-23T12:55:24.172646Z"
    }
   },
   "outputs": [],
   "source": [
    "pd.options.display.float_format = '{: .2f}'.format #отобразим данные с двумя числами после запятой\n",
    "warnings.filterwarnings('ignore') #выключим ненужные предупреждения"
   ]
  },
  {
   "cell_type": "code",
   "execution_count": null,
   "id": "cf0025d7",
   "metadata": {
    "ExecuteTime": {
     "end_time": "2022-12-23T12:55:24.199573Z",
     "start_time": "2022-12-23T12:55:24.186636Z"
    }
   },
   "outputs": [],
   "source": [
    "np.random.seed(0) #зададим сид, чтобы генерируемые данные можно было бы воспроизвести"
   ]
  },
  {
   "cell_type": "markdown",
   "id": "a5954533",
   "metadata": {},
   "source": [
    "### Откроем файл с данными"
   ]
  },
  {
   "cell_type": "code",
   "execution_count": null,
   "id": "884781fc",
   "metadata": {
    "ExecuteTime": {
     "end_time": "2022-12-23T12:55:25.405290Z",
     "start_time": "2022-12-23T12:55:24.202567Z"
    }
   },
   "outputs": [],
   "source": [
    "#создадим датафрейм \n",
    "try:\n",
    "    spreadsheet_id = '15szJs7ma7ZpY1RHPw3eYKwa1witie4qsCbR91mntHGo'\n",
    "    file_name = 'https://docs.google.com/spreadsheets/d/{}/export?format=csv'.format(spreadsheet_id)\n",
    "    r = requests.get(file_name)\n",
    "    data = pd.read_csv(BytesIO(r.content))    \n",
    "\n",
    "except:\n",
    "    data = pd.read_excel('EurovisionDZ.xlsx')\n",
    "\n",
    "data.head(5)"
   ]
  },
  {
   "cell_type": "code",
   "execution_count": null,
   "id": "87bc127c",
   "metadata": {
    "ExecuteTime": {
     "end_time": "2022-12-23T12:55:25.436200Z",
     "start_time": "2022-12-23T12:55:25.407274Z"
    }
   },
   "outputs": [],
   "source": [
    "data.info()"
   ]
  },
  {
   "cell_type": "markdown",
   "id": "76a948d7",
   "metadata": {},
   "source": [
    "### Приведем названия колонок в датасете к нижнему регистру для последующего удобства пользования ими"
   ]
  },
  {
   "cell_type": "code",
   "execution_count": null,
   "id": "98dd740e",
   "metadata": {
    "ExecuteTime": {
     "end_time": "2022-12-23T12:55:25.468113Z",
     "start_time": "2022-12-23T12:55:25.440187Z"
    },
    "scrolled": true
   },
   "outputs": [],
   "source": [
    "data.columns = map(str.lower, data.columns)\n",
    "data.head(5)"
   ]
  },
  {
   "cell_type": "markdown",
   "id": "8eca5d8f",
   "metadata": {},
   "source": [
    "### Проверим на наличие пропусков в данных"
   ]
  },
  {
   "cell_type": "code",
   "execution_count": null,
   "id": "be83b089",
   "metadata": {
    "ExecuteTime": {
     "end_time": "2022-12-23T12:55:25.483071Z",
     "start_time": "2022-12-23T12:55:25.474142Z"
    }
   },
   "outputs": [],
   "source": [
    "data.isna().sum()"
   ]
  },
  {
   "cell_type": "markdown",
   "id": "3d6f2cf2",
   "metadata": {
    "ExecuteTime": {
     "end_time": "2022-12-13T15:47:41.942256Z",
     "start_time": "2022-12-13T15:47:41.928284Z"
    }
   },
   "source": [
    "### Вывод"
   ]
  },
  {
   "cell_type": "markdown",
   "id": "a3f44eac",
   "metadata": {},
   "source": [
    "<p></p>\n",
    "\n",
    "<div style=\"border:solid black 1px; padding: 20px\">\n",
    "Данные были загружены в Jupyter Notebook и готовы к последующей работе. Дубликаты не были обнаружены\n",
    "\n",
    "</div>\n",
    "\n",
    "<p></p>"
   ]
  },
  {
   "cell_type": "markdown",
   "id": "bfb3e98d",
   "metadata": {},
   "source": [
    "## Исследование"
   ]
  },
  {
   "cell_type": "markdown",
   "id": "31672a7f",
   "metadata": {},
   "source": [
    "### Ограничьте выборку, оставив только данные за 2018 год"
   ]
  },
  {
   "cell_type": "code",
   "execution_count": null,
   "id": "4317b41b",
   "metadata": {
    "ExecuteTime": {
     "end_time": "2022-12-23T12:55:25.512991Z",
     "start_time": "2022-12-23T12:55:25.488061Z"
    }
   },
   "outputs": [],
   "source": [
    "data"
   ]
  },
  {
   "cell_type": "code",
   "execution_count": null,
   "id": "5457df07",
   "metadata": {
    "ExecuteTime": {
     "end_time": "2022-12-23T12:55:25.544907Z",
     "start_time": "2022-12-23T12:55:25.515983Z"
    },
    "scrolled": true
   },
   "outputs": [],
   "source": [
    "data = data[data['year'] == 2018]\n",
    "data = data.reset_index(drop=True)\n",
    "data.head(5)"
   ]
  },
  {
   "cell_type": "markdown",
   "id": "0ff5f542",
   "metadata": {},
   "source": [
    "#### Вывод"
   ]
  },
  {
   "cell_type": "markdown",
   "id": "ea417c49",
   "metadata": {
    "ExecuteTime": {
     "end_time": "2022-12-20T16:48:54.017594Z",
     "start_time": "2022-12-20T16:48:53.993617Z"
    }
   },
   "source": [
    "<p></p>\n",
    "\n",
    "<div style=\"border:solid black 1px; padding: 20px\">\n",
    "Были оставлены данные только за 2018 год и была изменена индексация датафрейма. Приступим к основной части исследования\n",
    "\n",
    "</div>\n",
    "\n",
    "<p></p>"
   ]
  },
  {
   "cell_type": "markdown",
   "id": "bc09139a",
   "metadata": {},
   "source": [
    "### Постройте описательные статистики переменных age, points, number, male (используйте те выборочные характеристики, которые мы изучали, не забудьте о моде, медиане, эксцессе, асимметрии, гистограмме, ЭФР). Дайте развернутый комментарий о предполагаемый рас-пределениях этих показателей"
   ]
  },
  {
   "cell_type": "markdown",
   "id": "ca19ded0",
   "metadata": {},
   "source": [
    "#### age"
   ]
  },
  {
   "cell_type": "markdown",
   "id": "3ec043a8",
   "metadata": {},
   "source": [
    "##### age с выбросами"
   ]
  },
  {
   "cell_type": "code",
   "execution_count": null,
   "id": "72e64563",
   "metadata": {
    "ExecuteTime": {
     "end_time": "2022-12-23T12:55:25.576822Z",
     "start_time": "2022-12-23T12:55:25.547899Z"
    }
   },
   "outputs": [],
   "source": [
    "data.age.describe()"
   ]
  },
  {
   "cell_type": "markdown",
   "id": "96ef14d9",
   "metadata": {},
   "source": [
    "- mean - выборочное среднее\n",
    "\n",
    "- 50% - выборочная медиана\n",
    "\n",
    "- std - выборочное несмещенное стандартное отклонение"
   ]
  },
  {
   "cell_type": "code",
   "execution_count": null,
   "id": "8e2ba4ad",
   "metadata": {
    "ExecuteTime": {
     "end_time": "2022-12-23T12:55:25.592781Z",
     "start_time": "2022-12-23T12:55:25.579815Z"
    }
   },
   "outputs": [],
   "source": [
    "mode(data.age) #выборочная мода"
   ]
  },
  {
   "cell_type": "code",
   "execution_count": null,
   "id": "3f2ec47d",
   "metadata": {
    "ExecuteTime": {
     "end_time": "2022-12-23T12:55:25.608736Z",
     "start_time": "2022-12-23T12:55:25.594772Z"
    }
   },
   "outputs": [],
   "source": [
    "avg = sum(data.age) / len(data.age)\n",
    "sigma_squared = sum((x-avg)**2 for x in data.age) / len(data.age) \n",
    "sigma_squared #выборочная смещенная дисперсия"
   ]
  },
  {
   "cell_type": "code",
   "execution_count": null,
   "id": "c326d107",
   "metadata": {
    "ExecuteTime": {
     "end_time": "2022-12-23T12:55:25.624695Z",
     "start_time": "2022-12-23T12:55:25.609734Z"
    }
   },
   "outputs": [],
   "source": [
    "math.sqrt(sigma_squared) #выборочное смещенное стандартное отклонение"
   ]
  },
  {
   "cell_type": "code",
   "execution_count": null,
   "id": "1502e0c7",
   "metadata": {
    "ExecuteTime": {
     "end_time": "2022-12-23T12:55:25.640652Z",
     "start_time": "2022-12-23T12:55:25.626688Z"
    }
   },
   "outputs": [],
   "source": [
    "s_squared = sum((x-avg)**2 for x in data.age) / (len(data.age) - 1)\n",
    "s_squared #выборочная несмещенная дисперсия"
   ]
  },
  {
   "cell_type": "code",
   "execution_count": null,
   "id": "6b4a6c42",
   "metadata": {
    "ExecuteTime": {
     "end_time": "2022-12-23T12:55:25.656608Z",
     "start_time": "2022-12-23T12:55:25.642646Z"
    }
   },
   "outputs": [],
   "source": [
    "st.kurtosis(data.age) #выборочный коэффициент эксцесса"
   ]
  },
  {
   "cell_type": "code",
   "execution_count": null,
   "id": "304f7e66",
   "metadata": {
    "ExecuteTime": {
     "end_time": "2022-12-23T12:55:25.671576Z",
     "start_time": "2022-12-23T12:55:25.657605Z"
    }
   },
   "outputs": [],
   "source": [
    "st.skew(data.age) #выборочный коэффициент ассиметрии"
   ]
  },
  {
   "cell_type": "code",
   "execution_count": null,
   "id": "72484f3c",
   "metadata": {
    "ExecuteTime": {
     "end_time": "2022-12-23T12:55:25.687529Z",
     "start_time": "2022-12-23T12:55:25.674560Z"
    }
   },
   "outputs": [],
   "source": [
    "math.sqrt(s_squared)/data.age.mean() #выборочный коэффициент вариации"
   ]
  },
  {
   "cell_type": "code",
   "execution_count": null,
   "id": "443cfc67",
   "metadata": {
    "ExecuteTime": {
     "end_time": "2022-12-23T12:55:25.935860Z",
     "start_time": "2022-12-23T12:55:25.690528Z"
    },
    "scrolled": true
   },
   "outputs": [],
   "source": [
    "#гистограмма\n",
    "\n",
    "data.age.hist() \n",
    "plt.show()"
   ]
  },
  {
   "cell_type": "markdown",
   "id": "bb2b0be2",
   "metadata": {},
   "source": [
    "##### Дополнительная обработка"
   ]
  },
  {
   "cell_type": "markdown",
   "id": "13f5b67a",
   "metadata": {},
   "source": [
    "По гистограмме и по описанию данных можно заподозрить переменную в наличие выбросов, проверим данное предположение"
   ]
  },
  {
   "cell_type": "code",
   "execution_count": null,
   "id": "ed3ddaf1",
   "metadata": {
    "ExecuteTime": {
     "end_time": "2022-12-23T12:55:26.092444Z",
     "start_time": "2022-12-23T12:55:25.938855Z"
    },
    "scrolled": false
   },
   "outputs": [],
   "source": [
    "#Построим boxplot, чтобы посмотреть, как выглядят квартили, медиана, среднее и есть ли выбросы\n",
    "plt.figure(figsize=(8,10))\n",
    "plt.boxplot(data.age, showmeans=True,\n",
    "                 capprops=dict(linestyle='--', linewidth=3, color='darkgoldenrod', label='границы'),\n",
    "                 boxprops=dict(linestyle='--', linewidth=4, color='black', label='квартили'),\n",
    "                 flierprops = dict(marker='*', markersize=10, markerfacecolor='lightblue', markeredgecolor='lightblue', label='выбросы'),\n",
    "                 meanprops = dict(linestyle='-.', linewidth=2.5, color='yellow', label='среднее'),\n",
    "                 medianprops = dict(linestyle='-.', linewidth=3.5, color='firebrick', label='медиана'),\n",
    "                 whiskerprops=dict(linestyle='-', linewidth=2, color='green', label='Усы')) \n",
    "plt.legend()\n",
    "plt.show()\n",
    "#видны выбросы"
   ]
  },
  {
   "cell_type": "code",
   "execution_count": null,
   "id": "17b1fc1c",
   "metadata": {
    "ExecuteTime": {
     "end_time": "2022-12-23T12:55:27.778543Z",
     "start_time": "2022-12-23T12:55:26.095433Z"
    },
    "scrolled": false
   },
   "outputs": [],
   "source": [
    "# построим ЭФР, чтобы удостоверится в том, что присутствуют точки выбивающиеся из основной части данных\n",
    "df = px.data.tips()\n",
    "fig = px.ecdf(df, x=data.age, markers=True, width=700, height=400)\n",
    "fig.show()\n",
    "# видна большая разница между точкой 38 и 67"
   ]
  },
  {
   "cell_type": "markdown",
   "id": "e46a2c82",
   "metadata": {},
   "source": [
    "##### age без выбросов"
   ]
  },
  {
   "cell_type": "code",
   "execution_count": null,
   "id": "5d1389ed",
   "metadata": {
    "ExecuteTime": {
     "end_time": "2022-12-23T12:55:27.794498Z",
     "start_time": "2022-12-23T12:55:27.779539Z"
    }
   },
   "outputs": [],
   "source": [
    "#удалим выброс\n",
    "data_new = pd.DataFrame()\n",
    "data_new = data[data.age <= 38]"
   ]
  },
  {
   "cell_type": "code",
   "execution_count": null,
   "id": "b5bf13af",
   "metadata": {
    "ExecuteTime": {
     "end_time": "2022-12-23T12:55:27.949617Z",
     "start_time": "2022-12-23T12:55:27.795496Z"
    }
   },
   "outputs": [],
   "source": [
    "#посмотрим на то как изменились данные\n",
    "plt.figure(figsize=(10,10))\n",
    "plt.boxplot(data_new.age, showmeans=True,\n",
    "                 capprops=dict(linestyle='--', linewidth=3, color='darkgoldenrod', label='границы'),\n",
    "                 boxprops=dict(linestyle='--', linewidth=4, color='black', label='квартили'),\n",
    "                 flierprops = dict(marker='*', markersize=10, markerfacecolor='lightblue', markeredgecolor='lightblue', label='выбросы'),\n",
    "                 meanprops = dict(linestyle='-.', linewidth=2.5, color='yellow', label='среднее'),\n",
    "                 medianprops = dict(linestyle='-.', linewidth=3.5, color='firebrick', label='медиана'),\n",
    "                 whiskerprops=dict(linestyle='-', linewidth=2, color='green', label='Усы')) \n",
    "plt.legend()\n",
    "plt.show()\n"
   ]
  },
  {
   "cell_type": "code",
   "execution_count": null,
   "id": "07973eff",
   "metadata": {
    "ExecuteTime": {
     "end_time": "2022-12-23T12:55:28.108194Z",
     "start_time": "2022-12-23T12:55:27.951612Z"
    }
   },
   "outputs": [],
   "source": [
    "data_new.age.hist()\n",
    "plt.show()"
   ]
  },
  {
   "cell_type": "markdown",
   "id": "e4b0c698",
   "metadata": {},
   "source": [
    "##### выборочные характеристики"
   ]
  },
  {
   "cell_type": "code",
   "execution_count": null,
   "id": "7c553c84",
   "metadata": {
    "ExecuteTime": {
     "end_time": "2022-12-23T12:55:28.124149Z",
     "start_time": "2022-12-23T12:55:28.109192Z"
    }
   },
   "outputs": [],
   "source": [
    "data_new.age.describe()"
   ]
  },
  {
   "cell_type": "code",
   "execution_count": null,
   "id": "d16c33dc",
   "metadata": {
    "ExecuteTime": {
     "end_time": "2022-12-23T12:55:28.139118Z",
     "start_time": "2022-12-23T12:55:28.126144Z"
    }
   },
   "outputs": [],
   "source": [
    "mode(data_new.age) #выборочная мода"
   ]
  },
  {
   "cell_type": "code",
   "execution_count": null,
   "id": "50f011cf",
   "metadata": {
    "ExecuteTime": {
     "end_time": "2022-12-23T12:55:28.154080Z",
     "start_time": "2022-12-23T12:55:28.141106Z"
    }
   },
   "outputs": [],
   "source": [
    "avg = sum(data_new.age) / len(data_new.age)\n",
    "sigma_squared = sum((x-avg)**2 for x in data_new.age) / len(data_new.age) \n",
    "sigma_squared #выборочная смещенная дисперсия"
   ]
  },
  {
   "cell_type": "code",
   "execution_count": null,
   "id": "e8e1c636",
   "metadata": {
    "ExecuteTime": {
     "end_time": "2022-12-23T12:55:28.170030Z",
     "start_time": "2022-12-23T12:55:28.156067Z"
    }
   },
   "outputs": [],
   "source": [
    "math.sqrt(sigma_squared) #выборочное смещенное стандартное отклонение"
   ]
  },
  {
   "cell_type": "code",
   "execution_count": null,
   "id": "0c5a80f5",
   "metadata": {
    "ExecuteTime": {
     "end_time": "2022-12-23T12:55:28.200947Z",
     "start_time": "2022-12-23T12:55:28.180005Z"
    }
   },
   "outputs": [],
   "source": [
    "s_squared = sum((x-avg)**2 for x in data.age) / (len(data_new.age) - 1)\n",
    "s_squared #выборочная несмещенная дисперсия"
   ]
  },
  {
   "cell_type": "code",
   "execution_count": null,
   "id": "060afd39",
   "metadata": {
    "ExecuteTime": {
     "end_time": "2022-12-23T12:55:28.215908Z",
     "start_time": "2022-12-23T12:55:28.204935Z"
    }
   },
   "outputs": [],
   "source": [
    "st.kurtosis(data_new.age) #выборочный коэффициент эксцесса"
   ]
  },
  {
   "cell_type": "code",
   "execution_count": null,
   "id": "53dbfd4c",
   "metadata": {
    "ExecuteTime": {
     "end_time": "2022-12-23T12:55:28.231863Z",
     "start_time": "2022-12-23T12:55:28.218897Z"
    }
   },
   "outputs": [],
   "source": [
    "st.skew(data_new.age) #выборочный коэффициент ассиметрии"
   ]
  },
  {
   "cell_type": "code",
   "execution_count": null,
   "id": "c06055ef",
   "metadata": {
    "ExecuteTime": {
     "end_time": "2022-12-23T12:55:28.247820Z",
     "start_time": "2022-12-23T12:55:28.232861Z"
    }
   },
   "outputs": [],
   "source": [
    "math.sqrt(s_squared)/data_new.age.mean() #выборочный коэффициент вариации"
   ]
  },
  {
   "cell_type": "code",
   "execution_count": null,
   "id": "0e7c2ff6",
   "metadata": {
    "ExecuteTime": {
     "end_time": "2022-12-23T12:55:28.326118Z",
     "start_time": "2022-12-23T12:55:28.252812Z"
    }
   },
   "outputs": [],
   "source": [
    "df = px.data.tips()\n",
    "fig = px.ecdf(df, x=data_new.age, markers=True, width=700, height=400)\n",
    "fig.show()"
   ]
  },
  {
   "cell_type": "code",
   "execution_count": null,
   "id": "e9835d77",
   "metadata": {
    "ExecuteTime": {
     "end_time": "2022-12-23T12:55:28.341078Z",
     "start_time": "2022-12-23T12:55:28.327116Z"
    }
   },
   "outputs": [],
   "source": [
    "#сгенерируем данные из нормального распределения\n",
    "mu, sigma = data_new.age.mean(), math.sqrt(variance(data_new.age))\n",
    "data_normal = np.random.normal(mu, sigma, 26)"
   ]
  },
  {
   "cell_type": "code",
   "execution_count": null,
   "id": "ece3165c",
   "metadata": {
    "ExecuteTime": {
     "end_time": "2022-12-23T12:55:28.402917Z",
     "start_time": "2022-12-23T12:55:28.342078Z"
    }
   },
   "outputs": [],
   "source": [
    "df = px.data.tips()\n",
    "fig = px.ecdf(data_normal, x=data_normal, markers=True, width=700, height=400)\n",
    "fig.show()"
   ]
  },
  {
   "cell_type": "code",
   "execution_count": null,
   "id": "df2e8a4d",
   "metadata": {
    "ExecuteTime": {
     "end_time": "2022-12-23T12:55:29.393054Z",
     "start_time": "2022-12-23T12:55:28.405907Z"
    },
    "scrolled": true
   },
   "outputs": [],
   "source": [
    "ax = sns.distplot(data_new.age,\n",
    "                  bins=10,\n",
    "                  kde=True,\n",
    "                  color='skyblue',\n",
    "                  hist_kws={\"linewidth\": 15,'alpha':1})\n",
    "ax.set(xlabel='Normal Distribution', ylabel='Frequency')"
   ]
  },
  {
   "cell_type": "markdown",
   "id": "ad7d424e",
   "metadata": {},
   "source": [
    "Проверим гипотезу о нормальности распределения данной переменной избавленной от выбросов"
   ]
  },
  {
   "cell_type": "markdown",
   "id": "9fd563a9",
   "metadata": {},
   "source": [
    "${H}_{0}$: Переменная age без выбросов распределена нормально\n",
    "\n",
    "${H}_{1}$: Переменная age без выбросов распределена ненормально\n",
    "\n",
    "$\\alpha = 0.05$\n",
    "\n",
    "Воспользуемся тестом Шапиро-Уилка для проверки распределения переменной age на нормальность"
   ]
  },
  {
   "cell_type": "code",
   "execution_count": null,
   "id": "b0855f1a",
   "metadata": {
    "ExecuteTime": {
     "end_time": "2022-12-23T12:55:29.408980Z",
     "start_time": "2022-12-23T12:55:29.395017Z"
    },
    "scrolled": true
   },
   "outputs": [],
   "source": [
    "results = st.shapiro(data_new.age) \n",
    "\n",
    "alpha = 0.05\n",
    "\n",
    "print(results.pvalue)\n",
    "if results.pvalue < alpha:\n",
    "    print(\"Отвергаем нулевую гипотезу\")\n",
    "else:\n",
    "    print(\"Не получилось отвергнуть нулевую гипотезу\")"
   ]
  },
  {
   "cell_type": "markdown",
   "id": "3a98f077",
   "metadata": {},
   "source": [
    "#### points"
   ]
  },
  {
   "cell_type": "code",
   "execution_count": null,
   "id": "dc49be2c",
   "metadata": {
    "ExecuteTime": {
     "end_time": "2022-12-23T12:55:29.424975Z",
     "start_time": "2022-12-23T12:55:29.409978Z"
    }
   },
   "outputs": [],
   "source": [
    "data.points.describe()"
   ]
  },
  {
   "cell_type": "markdown",
   "id": "38a9453b",
   "metadata": {},
   "source": [
    "- mean - выборочное среднее\n",
    "\n",
    "- 50% - выборочная медиана\n",
    "\n",
    "- std - выборочное несмещенное стандартное отклонение"
   ]
  },
  {
   "cell_type": "code",
   "execution_count": null,
   "id": "e2da333f",
   "metadata": {
    "ExecuteTime": {
     "end_time": "2022-12-23T12:55:29.440895Z",
     "start_time": "2022-12-23T12:55:29.425936Z"
    }
   },
   "outputs": [],
   "source": [
    "mode(data.points) #выборочная мода"
   ]
  },
  {
   "cell_type": "code",
   "execution_count": null,
   "id": "b80b8575",
   "metadata": {
    "ExecuteTime": {
     "end_time": "2022-12-23T12:55:29.456852Z",
     "start_time": "2022-12-23T12:55:29.441891Z"
    },
    "scrolled": true
   },
   "outputs": [],
   "source": [
    "avg = sum(data.points) / len(data.points)\n",
    "sigma_squared = sum((x-avg)**2 for x in data.points) / len(data.points)\n",
    "sigma_squared #выборочная смещенная дисперсия"
   ]
  },
  {
   "cell_type": "code",
   "execution_count": null,
   "id": "b26c641e",
   "metadata": {
    "ExecuteTime": {
     "end_time": "2022-12-23T12:55:29.472811Z",
     "start_time": "2022-12-23T12:55:29.457849Z"
    }
   },
   "outputs": [],
   "source": [
    "math.sqrt(sigma_squared) #выборочное смещенное стандартное отклонение"
   ]
  },
  {
   "cell_type": "code",
   "execution_count": null,
   "id": "19b683a3",
   "metadata": {
    "ExecuteTime": {
     "end_time": "2022-12-23T12:55:29.488766Z",
     "start_time": "2022-12-23T12:55:29.476800Z"
    }
   },
   "outputs": [],
   "source": [
    "s_squared = sum((x-avg)**2 for x in data.points) / (len(data.points) - 1)\n",
    "s_squared #выборочная несмещенная дисперсия"
   ]
  },
  {
   "cell_type": "code",
   "execution_count": null,
   "id": "b4bcc871",
   "metadata": {
    "ExecuteTime": {
     "end_time": "2022-12-23T12:55:29.504747Z",
     "start_time": "2022-12-23T12:55:29.491774Z"
    }
   },
   "outputs": [],
   "source": [
    "st.kurtosis(data.points)"
   ]
  },
  {
   "cell_type": "code",
   "execution_count": null,
   "id": "92d4fb0d",
   "metadata": {
    "ExecuteTime": {
     "end_time": "2022-12-23T12:55:29.520682Z",
     "start_time": "2022-12-23T12:55:29.505722Z"
    }
   },
   "outputs": [],
   "source": [
    "st.skew(data.points) "
   ]
  },
  {
   "cell_type": "code",
   "execution_count": null,
   "id": "e1baed1f",
   "metadata": {
    "ExecuteTime": {
     "end_time": "2022-12-23T12:55:29.535640Z",
     "start_time": "2022-12-23T12:55:29.521678Z"
    }
   },
   "outputs": [],
   "source": [
    "math.sqrt(s_squared)/data.points.mean() #выборочный коэффициент вариации"
   ]
  },
  {
   "cell_type": "code",
   "execution_count": null,
   "id": "56d3da8b",
   "metadata": {
    "ExecuteTime": {
     "end_time": "2022-12-23T12:55:29.679293Z",
     "start_time": "2022-12-23T12:55:29.536638Z"
    },
    "scrolled": true
   },
   "outputs": [],
   "source": [
    "#гистограмма\n",
    "data.points.hist()\n",
    "plt.show()\n",
    "\n",
    "#заметна положительная ассиметрия + + -> экспоненциальное"
   ]
  },
  {
   "cell_type": "code",
   "execution_count": null,
   "id": "7bf65462",
   "metadata": {
    "ExecuteTime": {
     "end_time": "2022-12-23T12:55:29.885775Z",
     "start_time": "2022-12-23T12:55:29.681252Z"
    },
    "scrolled": true
   },
   "outputs": [],
   "source": [
    "ax = sns.distplot(data.points,\n",
    "                  kde=True,\n",
    "                  bins=10,\n",
    "                  color='skyblue',\n",
    "                  hist_kws={\"linewidth\": 15,'alpha':1})\n",
    "ax.set(xlabel='Exponential Distribution', ylabel='Frequency')"
   ]
  },
  {
   "cell_type": "code",
   "execution_count": null,
   "id": "2f9a6862",
   "metadata": {
    "ExecuteTime": {
     "end_time": "2022-12-23T12:55:29.949105Z",
     "start_time": "2022-12-23T12:55:29.887760Z"
    },
    "scrolled": true
   },
   "outputs": [],
   "source": [
    "df = px.data.tips()\n",
    "fig = px.ecdf(data, x=data.points, markers=True, width=700, height=400)\n",
    "fig.show()"
   ]
  },
  {
   "cell_type": "code",
   "execution_count": null,
   "id": "0caff8f3",
   "metadata": {
    "ExecuteTime": {
     "end_time": "2022-12-23T12:55:30.025899Z",
     "start_time": "2022-12-23T12:55:29.955092Z"
    },
    "scrolled": true
   },
   "outputs": [],
   "source": [
    "data_expon = expon.rvs(scale=data.points.mean(),loc=math.sqrt(variance(data.points)), size=26, random_state=0)\n",
    "fig = px.ecdf(data_expon, x=data_expon, markers=True, width=700, height=400)\n",
    "fig.show()"
   ]
  },
  {
   "cell_type": "markdown",
   "id": "8f3bacc4",
   "metadata": {},
   "source": [
    "Проверим гипотезу о том, что переменная распределена Экспоненциально"
   ]
  },
  {
   "cell_type": "markdown",
   "id": "a2f009a3",
   "metadata": {},
   "source": [
    "${H}_{0}$: Переменная points распределена экспоненциально\n",
    "\n",
    "${H}_{1}$: Переменная points распределена иначе\n",
    "\n",
    "$\\alpha = 0.05$\n",
    "\n",
    "Применим тест Колмогорова-Смирнова"
   ]
  },
  {
   "attachments": {
    "rZT65RaFQQM%20%282%29.jpg": {
     "image/jpeg": "[encoded data removed]"
    }
   },
   "cell_type": "markdown",
   "id": "52e7db30",
   "metadata": {},
   "source": [
    "![rZT65RaFQQM%20%282%29.jpg](attachment:rZT65RaFQQM%20%282%29.jpg)"
   ]
  },
  {
   "cell_type": "code",
   "execution_count": null,
   "id": "f68aee16",
   "metadata": {
    "ExecuteTime": {
     "end_time": "2022-12-23T12:55:30.041858Z",
     "start_time": "2022-12-23T12:55:30.027894Z"
    }
   },
   "outputs": [],
   "source": [
    "stat, p_value = kstest(data.number, 'expon')\n",
    "\n",
    "\n",
    "alpha = 0.05\n",
    "print(results.pvalue)\n",
    "if results.pvalue < alpha:\n",
    "    print(\"Отвергаем нулевую гипотезу\")\n",
    "else:\n",
    "    print(\"Не получилось отвергнуть нулевую гипотезу\")\n",
    "    \n",
    "    "
   ]
  },
  {
   "cell_type": "markdown",
   "id": "663815b5",
   "metadata": {},
   "source": [
    "#### number "
   ]
  },
  {
   "cell_type": "code",
   "execution_count": null,
   "id": "e015b6fa",
   "metadata": {
    "ExecuteTime": {
     "end_time": "2022-12-23T12:55:30.072775Z",
     "start_time": "2022-12-23T12:55:30.044851Z"
    },
    "scrolled": true
   },
   "outputs": [],
   "source": [
    "data.number.describe()"
   ]
  },
  {
   "cell_type": "markdown",
   "id": "103a8bd2",
   "metadata": {},
   "source": [
    "- mean - выборочное среднее\n",
    "\n",
    "- 50% - выборочная медиана\n",
    "\n",
    "- std - выборочное несмещенное стандартное отклонение"
   ]
  },
  {
   "cell_type": "code",
   "execution_count": null,
   "id": "4c850c82",
   "metadata": {
    "ExecuteTime": {
     "end_time": "2022-12-23T12:55:30.088733Z",
     "start_time": "2022-12-23T12:55:30.074770Z"
    }
   },
   "outputs": [],
   "source": [
    "mode(data.number) #выборочная мода"
   ]
  },
  {
   "cell_type": "code",
   "execution_count": null,
   "id": "3b44e8c7",
   "metadata": {
    "ExecuteTime": {
     "end_time": "2022-12-23T12:55:30.104692Z",
     "start_time": "2022-12-23T12:55:30.090726Z"
    }
   },
   "outputs": [],
   "source": [
    "avg = sum(data.number) / len(data.number)\n",
    "sigma_squared = sum((x-avg)**2 for x in data.number) / len(data.number)\n",
    "sigma_squared #выборочная смещенная дисперсия"
   ]
  },
  {
   "cell_type": "code",
   "execution_count": null,
   "id": "16dd273b",
   "metadata": {
    "ExecuteTime": {
     "end_time": "2022-12-23T12:55:30.120651Z",
     "start_time": "2022-12-23T12:55:30.107680Z"
    }
   },
   "outputs": [],
   "source": [
    "math.sqrt(sigma_squared) #выборочное смещенное стандартное отклонение"
   ]
  },
  {
   "cell_type": "code",
   "execution_count": null,
   "id": "a5a6622f",
   "metadata": {
    "ExecuteTime": {
     "end_time": "2022-12-23T12:55:30.136608Z",
     "start_time": "2022-12-23T12:55:30.124635Z"
    }
   },
   "outputs": [],
   "source": [
    "s_squared = sum((x-avg)**2 for x in data.number) / (len(data.number) - 1)\n",
    "s_squared #выборочная несмещенная дисперсия"
   ]
  },
  {
   "cell_type": "code",
   "execution_count": null,
   "id": "f70b6f12",
   "metadata": {
    "ExecuteTime": {
     "end_time": "2022-12-23T12:55:30.152578Z",
     "start_time": "2022-12-23T12:55:30.139611Z"
    }
   },
   "outputs": [],
   "source": [
    "st.kurtosis(data.number)"
   ]
  },
  {
   "cell_type": "code",
   "execution_count": null,
   "id": "d31ec49c",
   "metadata": {
    "ExecuteTime": {
     "end_time": "2022-12-23T12:55:30.168527Z",
     "start_time": "2022-12-23T12:55:30.157547Z"
    }
   },
   "outputs": [],
   "source": [
    "st.skew(data.number) "
   ]
  },
  {
   "cell_type": "code",
   "execution_count": null,
   "id": "a70e34b5",
   "metadata": {
    "ExecuteTime": {
     "end_time": "2022-12-23T12:55:30.184476Z",
     "start_time": "2022-12-23T12:55:30.171526Z"
    }
   },
   "outputs": [],
   "source": [
    "math.sqrt(s_squared)/data.number.mean() #выборочный коэффициент вариации"
   ]
  },
  {
   "cell_type": "code",
   "execution_count": null,
   "id": "40c4ae13",
   "metadata": {
    "ExecuteTime": {
     "end_time": "2022-12-23T12:55:30.358012Z",
     "start_time": "2022-12-23T12:55:30.188464Z"
    }
   },
   "outputs": [],
   "source": [
    "#гистограмма\n",
    "data.number.hist()\n",
    "plt.show()"
   ]
  },
  {
   "cell_type": "code",
   "execution_count": null,
   "id": "a10077d6",
   "metadata": {
    "ExecuteTime": {
     "end_time": "2022-12-23T12:55:30.624300Z",
     "start_time": "2022-12-23T12:55:30.359009Z"
    }
   },
   "outputs": [],
   "source": [
    "ax = sns.distplot(data.number,\n",
    "                  bins=10,\n",
    "                  kde=True,\n",
    "                  color='skyblue',\n",
    "                  hist_kws={\"linewidth\": 15,'alpha':1})\n",
    "ax.set(xlabel='Uniform Distribution ', ylabel='Frequency')"
   ]
  },
  {
   "cell_type": "code",
   "execution_count": null,
   "id": "dee6023c",
   "metadata": {
    "ExecuteTime": {
     "end_time": "2022-12-23T12:55:30.701648Z",
     "start_time": "2022-12-23T12:55:30.626298Z"
    },
    "scrolled": true
   },
   "outputs": [],
   "source": [
    "df = px.data.tips()\n",
    "fig = px.ecdf(data, x=data.number, markers=True, width=700, height=400)\n",
    "fig.show()"
   ]
  },
  {
   "cell_type": "code",
   "execution_count": null,
   "id": "1397fe5f",
   "metadata": {
    "ExecuteTime": {
     "end_time": "2022-12-23T13:23:35.596070Z",
     "start_time": "2022-12-23T13:23:35.238564Z"
    }
   },
   "outputs": [],
   "source": [
    "data_uniform = uniform.rvs(size=1000, loc = math.sqrt(variance(data.number)), scale=data.number.mean(), random_state=0) \n",
    "fig = px.ecdf(data_uniform, x=data_uniform, markers=True, width=700, height=400)\n",
    "fig.show()"
   ]
  },
  {
   "cell_type": "markdown",
   "id": "f2bb2786",
   "metadata": {},
   "source": [
    "${H}_{0}$: Переменная number распределена равномерно\n",
    "\n",
    "${H}_{1}$: Переменная number распределена иначе\n",
    "\n",
    "$\\alpha = 0.05$\n",
    "\n",
    "Применим тест Колмогорова-Смирнова"
   ]
  },
  {
   "cell_type": "code",
   "execution_count": null,
   "id": "85eb602a",
   "metadata": {
    "ExecuteTime": {
     "end_time": "2022-12-23T12:55:30.781433Z",
     "start_time": "2022-12-23T12:55:30.767473Z"
    }
   },
   "outputs": [],
   "source": [
    "stat, p_value = kstest(data.number, 'uniform')\n",
    "\n",
    "\n",
    "alpha = 0.05\n",
    "print(results.pvalue)\n",
    "if results.pvalue < alpha:\n",
    "    print(\"Отвергаем нулевую гипотезу\")\n",
    "else:\n",
    "    print(\"Не получилось отвергнуть нулевую гипотезу\")\n",
    "    \n",
    "    "
   ]
  },
  {
   "cell_type": "markdown",
   "id": "0586a41a",
   "metadata": {},
   "source": [
    "#### male"
   ]
  },
  {
   "cell_type": "code",
   "execution_count": null,
   "id": "b73f50b8",
   "metadata": {
    "ExecuteTime": {
     "end_time": "2022-12-23T12:55:30.797428Z",
     "start_time": "2022-12-23T12:55:30.786432Z"
    }
   },
   "outputs": [],
   "source": [
    "data.male.describe()"
   ]
  },
  {
   "cell_type": "markdown",
   "id": "bbd28e25",
   "metadata": {},
   "source": [
    "- mean - выборочное среднее\n",
    "\n",
    "- 50% - выборочная медиана\n",
    "\n",
    "- std - выборочное несмещенное стандартное отклонение"
   ]
  },
  {
   "cell_type": "code",
   "execution_count": null,
   "id": "0db2482a",
   "metadata": {
    "ExecuteTime": {
     "end_time": "2022-12-23T12:55:30.813384Z",
     "start_time": "2022-12-23T12:55:30.798392Z"
    }
   },
   "outputs": [],
   "source": [
    "avg = sum(data.male) / len(data.male)\n",
    "sigma_squared = sum((x-avg)**2 for x in data.male) / len(data.male)\n",
    "sigma_squared #выборочная смещенная дисперсия"
   ]
  },
  {
   "cell_type": "code",
   "execution_count": null,
   "id": "a844507d",
   "metadata": {
    "ExecuteTime": {
     "end_time": "2022-12-23T12:55:30.829305Z",
     "start_time": "2022-12-23T12:55:30.816349Z"
    }
   },
   "outputs": [],
   "source": [
    "math.sqrt(sigma_squared) #выборочное смещенное стандартное отклонение"
   ]
  },
  {
   "cell_type": "code",
   "execution_count": null,
   "id": "ba10f402",
   "metadata": {
    "ExecuteTime": {
     "end_time": "2022-12-23T12:55:30.845295Z",
     "start_time": "2022-12-23T12:55:30.830305Z"
    }
   },
   "outputs": [],
   "source": [
    "s_squared = sum((x-avg)**2 for x in data.male) / (len(data.male) - 1)\n",
    "s_squared #выборочная несмещенная дисперсия"
   ]
  },
  {
   "cell_type": "code",
   "execution_count": null,
   "id": "f0c2900e",
   "metadata": {
    "ExecuteTime": {
     "end_time": "2022-12-23T12:55:30.861249Z",
     "start_time": "2022-12-23T12:55:30.846260Z"
    }
   },
   "outputs": [],
   "source": [
    "mode(data.male) #выборочная мода"
   ]
  },
  {
   "cell_type": "code",
   "execution_count": null,
   "id": "27c9a011",
   "metadata": {
    "ExecuteTime": {
     "end_time": "2022-12-23T12:55:30.877177Z",
     "start_time": "2022-12-23T12:55:30.863216Z"
    }
   },
   "outputs": [],
   "source": [
    "st.kurtosis(data.male)"
   ]
  },
  {
   "cell_type": "code",
   "execution_count": null,
   "id": "c3944f9b",
   "metadata": {
    "ExecuteTime": {
     "end_time": "2022-12-23T12:55:30.893136Z",
     "start_time": "2022-12-23T12:55:30.878174Z"
    }
   },
   "outputs": [],
   "source": [
    "st.skew(data.male)"
   ]
  },
  {
   "cell_type": "code",
   "execution_count": null,
   "id": "cd6b5c87",
   "metadata": {
    "ExecuteTime": {
     "end_time": "2022-12-23T12:55:30.909091Z",
     "start_time": "2022-12-23T12:55:30.895161Z"
    }
   },
   "outputs": [],
   "source": [
    "math.sqrt(s_squared)/data.male.mean() #выборочный коэффициент вариации"
   ]
  },
  {
   "cell_type": "code",
   "execution_count": null,
   "id": "1ef1d801",
   "metadata": {
    "ExecuteTime": {
     "end_time": "2022-12-23T12:55:31.050226Z",
     "start_time": "2022-12-23T12:55:30.911092Z"
    },
    "scrolled": true
   },
   "outputs": [],
   "source": [
    "#гистограмма\n",
    "ax= sns.distplot(data.male,\n",
    "                 kde=False,\n",
    "                 bins=10,\n",
    "                 color=\"skyblue\",\n",
    "                 hist_kws={\"linewidth\": 15,'alpha':1})\n",
    "ax.set(xlabel='Bernoulli Distribution', ylabel='Frequency')\n"
   ]
  },
  {
   "cell_type": "code",
   "execution_count": null,
   "id": "8f18f291",
   "metadata": {
    "ExecuteTime": {
     "end_time": "2022-12-23T12:55:31.114062Z",
     "start_time": "2022-12-23T12:55:31.052220Z"
    },
    "scrolled": true
   },
   "outputs": [],
   "source": [
    "df = px.data.tips()\n",
    "fig = px.ecdf(df, x=data.male, markers=True, width=700, height=400)\n",
    "fig.show()"
   ]
  },
  {
   "cell_type": "code",
   "execution_count": null,
   "id": "0caf1943",
   "metadata": {
    "ExecuteTime": {
     "end_time": "2022-12-23T12:55:31.130012Z",
     "start_time": "2022-12-23T12:55:31.115053Z"
    }
   },
   "outputs": [],
   "source": [
    "data.male.value_counts() #как мы видим из данных 17 мужчин и 9 женщин"
   ]
  },
  {
   "cell_type": "code",
   "execution_count": null,
   "id": "628718e7",
   "metadata": {
    "ExecuteTime": {
     "end_time": "2022-12-23T12:55:31.144977Z",
     "start_time": "2022-12-23T12:55:31.131010Z"
    }
   },
   "outputs": [],
   "source": [
    "p = data.male.sum()/len(data.male) #вероятность успеха в схеме берунлии\n",
    "p"
   ]
  },
  {
   "cell_type": "code",
   "execution_count": null,
   "id": "2d80f348",
   "metadata": {
    "ExecuteTime": {
     "end_time": "2022-12-23T12:55:31.206842Z",
     "start_time": "2022-12-23T12:55:31.145974Z"
    },
    "scrolled": true
   },
   "outputs": [],
   "source": [
    "from scipy.stats import bernoulli\n",
    "data_bern = bernoulli.rvs(size=26, p = data.male.sum()/len(data.male), random_state = 0)\n",
    "fig = px.ecdf(data_bern, x=data_bern, markers=True, width=700, height=400)\n",
    "fig.show()"
   ]
  },
  {
   "cell_type": "markdown",
   "id": "2bb6f9bc",
   "metadata": {},
   "source": [
    "#### Вывод"
   ]
  },
  {
   "cell_type": "markdown",
   "id": "64d5f109",
   "metadata": {},
   "source": [
    "##### выборочные характеристики:"
   ]
  },
  {
   "cell_type": "markdown",
   "id": "874e6385",
   "metadata": {},
   "source": [
    "<p></p>\n",
    "\n",
    "<div style=\"border:solid black 1px; padding: 20px\">\n",
    "\n",
    "| Выборочные характеристики | Age с выбросами | Points | Number | Male | Age без выбросов |\n",
    "|-----------------------------------------------|-----------------|----------|--------|-------|------------------|\n",
    "| Выборочная медиана | 29 | 169.5 | 13.5 | 1 | 25 |\n",
    "| Выборочное среднее | 30.23 | 191.85 | 13.5 | 0.65 | 28.76 |\n",
    "| Выборочная мода | 29 | 184 | 12 | 1 | 29 |\n",
    "| Выборочная несмещённая дисперсия | 80.58 | 15564.3 | 58.5 | 0.24 | 86.29 |\n",
    "| Выборочная смещенная дисперсия | 77.49 | 14965.67 | 56.25 | 0.23 | 24.34 |\n",
    "| Коэффициент вариации | 29.69% | 65.03% | 56.66% | 74.2% | 32.3% |\n",
    "| Выборочное смещённое стандартное отклонение | 8.8 | 122.33 | 7.5 | 0.48 | 4.93 |\n",
    "| Выборочное несмещённое стандартное отклонение | 8.98 | 124.76 | 7.65 | 0.49 | 5.04 |\n",
    "| Выборочный коэффициент эксцесса | 8.99 | 0.44 | -1.2 | -1.58 | -0.71 |\n",
    "| Выборочный коэффициент асимметрия | 2.63 | 0.95 | 0 | -0.65 | -0.12 |\n",
    "| Минимум | 19 | 39 | 1 | 0 | 19 |\n",
    "| Максимум | 67 | 529 | 26 | 1 | 38 |\n",
    "    \n",
    "    \n",
    "</div>\n",
    "\n",
    "<p></p>"
   ]
  },
  {
   "cell_type": "markdown",
   "id": "a7389919",
   "metadata": {},
   "source": [
    "##### графики:"
   ]
  },
  {
   "cell_type": "markdown",
   "id": "ac73b470",
   "metadata": {},
   "source": [
    "![Google Drive Image](https://drive.google.com/uc?id=1xRHVrVjM731T3NAO9jfXiB76GADutnTN)"
   ]
  },
  {
   "cell_type": "markdown",
   "id": "94f36073",
   "metadata": {},
   "source": [
    "<p></p>\n",
    "\n",
    "<div style=\"border:solid black 1px; padding: 20px\">\n",
    "\n",
    "Первые 2 графика в строке - получившиеся; вторые 2 - предпологаемого распределения.\n",
    "\n",
    "\n",
    "Age с выбросами:\n",
    "По получившимся графикам мы можем предположить, что переменная Age распределена с помощью треугольного распределения. \n",
    "\n",
    "\n",
    "Points:\n",
    "Предпологаем, что переменная points распределена с помощью экспоненциального распределения.\n",
    "Также был проведен тест Колмогорова-Смирнова на проверку экспоненциального распределения. В результате которого, было выведено, что points с некоторой долей вероятности имеет экспоненциальное распределение.\n",
    "\n",
    "\n",
    "Number:\n",
    "Предполагаем, что переменная Number распределена с помощью равномерного распределения.\n",
    "С помощью проведенного теста Колмогорова-Смирнова по проверки на равномерное распределение - выяснилось, что Number имеет с некоторой долей вероятности равномерное распределение. \n",
    "\n",
    "\n",
    "Male:\n",
    "Предполагаем, что переменная male распределена с помощью распределения Бернулли. \n",
    "Тут же берется вероятность, что мужчина - как успех (то есть 1), а вероятность , что женщина - 0. По графику отчетливо видно видно распределение значений на 0 и 1. \n",
    "Также был построен график по распределению бернулли из выборки male и он совпадает с изначальным графиком. \n",
    "\n",
    "Age без выбросов:\n",
    "Предполагаем, что пременная распределена с помощью нормального распределения. \n",
    "Также для убеждения в этом утверждении - был проведен тест Шапиро-Уилка : для чего использовали alpha=0.05. В результате получили p.value = 0.93, что явлется больше альфа, поэтому принимаем гипотезу, что age без выбросов распределена нормально с определенной долей вероятности.  \n",
    "\n",
    "</div>\n",
    "\n",
    "<p></p>"
   ]
  },
  {
   "cell_type": "markdown",
   "id": "cfd28b60",
   "metadata": {},
   "source": [
    "###\tНайдите выборочные коэффициенты корреляции между переменными пункта 2. Соответ-ствуют ли они Вашим интуитивным представлениям?"
   ]
  },
  {
   "attachments": {
    "%D0%A1%D0%BD%D0%B8%D0%BC%D0%BE%D0%BA.PNG": {
     "image/png": "[encoded data removed]"
    }
   },
   "cell_type": "markdown",
   "id": "2c88f363",
   "metadata": {},
   "source": [
    "![%D0%A1%D0%BD%D0%B8%D0%BC%D0%BE%D0%BA.PNG](attachment:%D0%A1%D0%BD%D0%B8%D0%BC%D0%BE%D0%BA.PNG)"
   ]
  },
  {
   "cell_type": "markdown",
   "id": "0160f19c",
   "metadata": {},
   "source": [
    "#### Построим корреляционную матрицу из коэффициентов коррляции Пирсона"
   ]
  },
  {
   "cell_type": "code",
   "execution_count": null,
   "id": "2c91d2ce",
   "metadata": {
    "ExecuteTime": {
     "end_time": "2022-12-23T12:55:31.268647Z",
     "start_time": "2022-12-23T12:55:31.207810Z"
    }
   },
   "outputs": [],
   "source": [
    "matrix = data[['age', 'points', 'number', 'male']].corr()\n",
    "matrix.style.background_gradient(cmap='magma')"
   ]
  },
  {
   "cell_type": "markdown",
   "id": "674e7ac9",
   "metadata": {},
   "source": [
    "#### Построим треугольную корреляционную матрицу из коэффициентов коррляции Пирсона"
   ]
  },
  {
   "cell_type": "code",
   "execution_count": null,
   "id": "d2725010",
   "metadata": {
    "ExecuteTime": {
     "end_time": "2022-12-23T12:55:31.476142Z",
     "start_time": "2022-12-23T12:55:31.270640Z"
    },
    "scrolled": true
   },
   "outputs": [],
   "source": [
    "matrix = data[['age', 'points', 'number', 'male']].corr()\n",
    "\n",
    "mask = np.triu(np.ones_like(matrix, dtype=bool))\n",
    "\n",
    "cmap = sns.diverging_palette(250, 15, s=75, l=40,\n",
    "                            n=9, center=\"light\", as_cmap=True)\n",
    "\n",
    "plt.figure(figsize=(5, 5))\n",
    "sns.heatmap(matrix, mask=mask, center=0, annot=True,\n",
    "            square=True, cmap='magma')\n",
    "plt.title('Треугольная корреляционная матрица', fontsize = 10)\n",
    "plt.show()"
   ]
  },
  {
   "cell_type": "markdown",
   "id": "1496e755",
   "metadata": {},
   "source": [
    "#### Построим треугольную корреляционную матрицу для очищенных данных из коэффициентов коррляции Пирсона"
   ]
  },
  {
   "cell_type": "code",
   "execution_count": null,
   "id": "6b4b0022",
   "metadata": {
    "ExecuteTime": {
     "end_time": "2022-12-23T12:55:31.693521Z",
     "start_time": "2022-12-23T12:55:31.478099Z"
    }
   },
   "outputs": [],
   "source": [
    "matrix = data_new[['age', 'points', 'number', 'male']].corr()\n",
    "\n",
    "mask = np.triu(np.ones_like(matrix, dtype=bool))\n",
    "\n",
    "cmap = sns.diverging_palette(250, 15, s=75, l=40,\n",
    "                            n=9, center=\"light\", as_cmap=True)\n",
    "\n",
    "plt.figure(figsize=(5, 5))\n",
    "sns.heatmap(matrix, mask=mask, center=0, annot=True,\n",
    "            square=True, cmap='magma')\n",
    "plt.title('Треугольная корреляционная матрица', fontsize = 10)\n",
    "plt.show()"
   ]
  },
  {
   "cell_type": "markdown",
   "id": "68ac8bfe",
   "metadata": {},
   "source": [
    "#### Вывод"
   ]
  },
  {
   "cell_type": "markdown",
   "id": "a244c894",
   "metadata": {
    "ExecuteTime": {
     "end_time": "2022-12-13T15:46:56.718720Z",
     "start_time": "2022-12-13T15:46:56.701790Z"
    }
   },
   "source": [
    "<p></p>\n",
    "\n",
    "<div style=\"border:solid black 1px; padding: 20px\">\n",
    "\n",
    "- Исходя из корреляционной матрицы можно сделать вывод, что между переменными number и points существует слабая взаимосвзяь, между остальными переменными корреляция мала настолько, что зависимость прослеживается очень слабо или ее нет.\n",
    "- При рассмотрении очищенной от выбросов треугольной матрицы наблюдается линейная зависимость между переменными number и age, так как корреляция Пирсона не устойчива к выбросам\n",
    "\n",
    "    \n",
    "Полученные данные соответствуют ожиданиям, поскольку можно предположить, что жюри могут уставать при прослушивании выступлений и ставить завышенные оценки или заниженные участникам, выступающим под определенными номерами, а также члены жюри могут симпотизировать выступаюшим определенного возраста, но полностью быть уверенным в этом нельзя, посольку предоставленно слишком мало данных для анализа, так как только при n>30 корреляция является показательным\n",
    "    \n",
    "</div>\n",
    "\n",
    "<p></p>"
   ]
  },
  {
   "cell_type": "markdown",
   "id": "80d763f4",
   "metadata": {},
   "source": [
    "### Предполагая, что переменная age имеет треугольное распределение (почитайте о нем тут https://en.wikipedia.org/wiki/Triangular_distribution), найдите оценки параметров a, b и c"
   ]
  },
  {
   "cell_type": "code",
   "execution_count": null,
   "id": "ebb1f12c",
   "metadata": {
    "ExecuteTime": {
     "end_time": "2022-12-23T12:55:31.850105Z",
     "start_time": "2022-12-23T12:55:31.694564Z"
    }
   },
   "outputs": [],
   "source": [
    "data.age.hist()\n",
    "plt.title('гистограмма переменной age с выбросами')\n",
    "plt.show()"
   ]
  },
  {
   "cell_type": "code",
   "execution_count": null,
   "id": "78c67dee",
   "metadata": {
    "ExecuteTime": {
     "end_time": "2022-12-23T12:55:31.866095Z",
     "start_time": "2022-12-23T12:55:31.855089Z"
    }
   },
   "outputs": [],
   "source": [
    "data.age.describe()"
   ]
  },
  {
   "cell_type": "markdown",
   "id": "55037ab8",
   "metadata": {
    "ExecuteTime": {
     "end_time": "2022-12-21T16:08:44.670387Z",
     "start_time": "2022-12-21T16:08:44.662427Z"
    }
   },
   "source": [
    "мода - 29.00"
   ]
  },
  {
   "cell_type": "markdown",
   "id": "1f0a78e8",
   "metadata": {},
   "source": [
    "#### Оценим по методу моментов параметры треугольного распределения:"
   ]
  },
  {
   "cell_type": "markdown",
   "id": "ef76aabf",
   "metadata": {
    "ExecuteTime": {
     "end_time": "2022-12-21T16:30:17.530215Z",
     "start_time": "2022-12-21T16:30:17.481361Z"
    }
   },
   "source": [
    "![Google Drive Image](https://drive.google.com/uc?id=1qAyZe60LqdlxdhZ2xFZbPuIhP2FH6sXp)"
   ]
  },
  {
   "cell_type": "code",
   "execution_count": null,
   "id": "a87c836c",
   "metadata": {
    "ExecuteTime": {
     "end_time": "2022-12-23T12:55:31.882041Z",
     "start_time": "2022-12-23T12:55:31.868057Z"
    },
    "scrolled": true
   },
   "outputs": [],
   "source": [
    "mean = data.age.mean()\n",
    "mode = mode(data.age)\n",
    "var = variance(data.age)\n",
    "\n",
    "\n",
    "a = 1.5 * mean - 0.5 * mode - (math.sqrt(18 * var - (9 * (mean ** 2) + 9 * (mode **2) - 18 * mean * mode)/4)/math.sqrt(3))\n",
    "b = 1.5 * mean - 0.5 * mode + (math.sqrt(18 * var - (9 * (mean ** 2) + 9 * (mode **2) - 18 * mean * mode)/4)/math.sqrt(3))\n",
    "c = mode"
   ]
  },
  {
   "cell_type": "code",
   "execution_count": null,
   "id": "e731d581",
   "metadata": {
    "ExecuteTime": {
     "end_time": "2022-12-23T12:55:31.897975Z",
     "start_time": "2022-12-23T12:55:31.892989Z"
    }
   },
   "outputs": [],
   "source": [
    "#оценка методом моментов a:\n",
    "a"
   ]
  },
  {
   "cell_type": "code",
   "execution_count": null,
   "id": "6c55d9c4",
   "metadata": {
    "ExecuteTime": {
     "end_time": "2022-12-23T12:55:31.913967Z",
     "start_time": "2022-12-23T12:55:31.900992Z"
    }
   },
   "outputs": [],
   "source": [
    "#оценка методом моментов b:\n",
    "b"
   ]
  },
  {
   "cell_type": "code",
   "execution_count": null,
   "id": "684325a2",
   "metadata": {
    "ExecuteTime": {
     "end_time": "2022-12-23T12:55:31.929889Z",
     "start_time": "2022-12-23T12:55:31.915929Z"
    }
   },
   "outputs": [],
   "source": [
    "#оценка методом моментов c:\n",
    "c"
   ]
  },
  {
   "cell_type": "markdown",
   "id": "45601b38",
   "metadata": {},
   "source": [
    "#### Вывод"
   ]
  },
  {
   "cell_type": "markdown",
   "id": "702e2232",
   "metadata": {},
   "source": [
    "<p></p>\n",
    "\n",
    "<div style=\"border:solid black 1px; padding: 20px\">\n",
    "\n",
    "С помощью метода моментов ыли найдены оценки параметров a,b,c:\n",
    "\n",
    "- a = 9\n",
    "\n",
    "- b = 53\n",
    "    \n",
    "- c = 29\n",
    "\n",
    "\n",
    "</div>\n",
    "\n",
    "<p></p>"
   ]
  },
  {
   "cell_type": "markdown",
   "id": "7537763c",
   "metadata": {},
   "source": [
    "### Предполагая, что переменная age распределена нормально, постройте для ее среднего значения и дисперсии доверительные интервалы надежности 90%"
   ]
  },
  {
   "cell_type": "markdown",
   "id": "90711ec7",
   "metadata": {},
   "source": [
    "Так как доверительные интервалы строятся на предположении о нормальности данных вощьмем переменную age без выбросов, так как она с определенной долей вероятности распределена нормально согласно тесту Манна-Уитни"
   ]
  },
  {
   "cell_type": "code",
   "execution_count": null,
   "id": "95d2146a",
   "metadata": {
    "ExecuteTime": {
     "end_time": "2022-12-23T12:55:31.945847Z",
     "start_time": "2022-12-23T12:55:31.931885Z"
    }
   },
   "outputs": [],
   "source": [
    "p = 0.9 # Зададим надежность\n",
    "df = len(data_new.age) - 1 # Зададим степени свободы"
   ]
  },
  {
   "cell_type": "markdown",
   "id": "c7021476",
   "metadata": {},
   "source": [
    "#### Построим доверительный интервал для среднего"
   ]
  },
  {
   "cell_type": "markdown",
   "id": "f1189fc1",
   "metadata": {},
   "source": [
    "![Google Drive Image](https://drive.google.com/uc?id=1hYp-wIPB0c8kEPvoF3yWvEe6_wh5fwv5)\n",
    "\n"
   ]
  },
  {
   "cell_type": "code",
   "execution_count": null,
   "id": "a57515e2",
   "metadata": {
    "ExecuteTime": {
     "end_time": "2022-12-23T12:55:31.961804Z",
     "start_time": "2022-12-23T12:55:31.947843Z"
    }
   },
   "outputs": [],
   "source": [
    "value = abs(t.ppf((1-p)/2, df)) # Посчитаем значение критической точки. \n",
    "# Делим на два 1-p, поскольку двустороння критическая точка\n",
    "value"
   ]
  },
  {
   "cell_type": "code",
   "execution_count": null,
   "id": "37a30df8",
   "metadata": {
    "ExecuteTime": {
     "end_time": "2022-12-23T12:55:31.976764Z",
     "start_time": "2022-12-23T12:55:31.963800Z"
    }
   },
   "outputs": [],
   "source": [
    "left_border = data_new.age.mean() - math.sqrt(variance(data_new.age)) * value/math.sqrt(len(data_new.age))\n",
    "right_border = data_new.age.mean() + math.sqrt(variance(data_new.age)) * value/math.sqrt(len(data_new.age))\n",
    "display(Latex(r'Доверительный интервал для среднего значения переменной age без выбросов:'))\n",
    "display(Math('%(left)s < a < %(right)s' % {'left': left_border, 'right': right_border}))"
   ]
  },
  {
   "cell_type": "markdown",
   "id": "03c13de5",
   "metadata": {},
   "source": [
    "#### Построим доверительный интервал для дисперсии "
   ]
  },
  {
   "cell_type": "markdown",
   "id": "176e56be",
   "metadata": {},
   "source": [
    "![Google Drive Image](https://drive.google.com/uc?id=1syuCtA4Lk5QXMtZqf5h5IbwUlCQ0B5fo)\n"
   ]
  },
  {
   "cell_type": "code",
   "execution_count": null,
   "id": "bb324749",
   "metadata": {
    "ExecuteTime": {
     "end_time": "2022-12-23T12:55:31.991725Z",
     "start_time": "2022-12-23T12:55:31.978760Z"
    }
   },
   "outputs": [],
   "source": [
    "value_left = chi2.ppf(1 - (1-p)/2, df=len(data_new.age)-1) \n",
    "value_right = chi2.ppf((1-p)/2, df=len(data_new.age)-1) "
   ]
  },
  {
   "cell_type": "code",
   "execution_count": null,
   "id": "457dd630",
   "metadata": {
    "ExecuteTime": {
     "end_time": "2022-12-23T12:55:32.007681Z",
     "start_time": "2022-12-23T12:55:31.992722Z"
    },
    "scrolled": true
   },
   "outputs": [],
   "source": [
    "left_border = (len(data_new.age) - 1) * (variance(data_new.age))/ value_left\n",
    "right_border = (len(data_new.age) - 1) * (variance(data_new.age))/ value_right\n",
    "display(Latex(r'Доверительный интервал для дисперсии переменной age без выбросов:'))\n",
    "display(Math(r'%(left)s < {\\sigma}^{2} < %(right)s' % {'left': left_border, 'right': right_border}))"
   ]
  },
  {
   "cell_type": "markdown",
   "id": "eaac57d8",
   "metadata": {},
   "source": [
    "#### Вывод"
   ]
  },
  {
   "cell_type": "markdown",
   "id": "e5fdee7d",
   "metadata": {},
   "source": [
    "<p></p>\n",
    "\n",
    "<div style=\"border:solid black 1px; padding: 20px\">\n",
    "\n",
    "В ходе исследования было выяснено, что доверительный интервал с надежностью 90% для очищенной от выбросов переменной age равняется:\n",
    "    \n",
    "- Для среднего значения: 27.04 < ${a}$ < 30.48\n",
    "    \n",
    "- Для дисперсии: 16.71 < ${\\sigma}^{2}$ < 43.94\n",
    "    \n",
    "    \n",
    "\n",
    "</div>\n",
    "\n",
    "<p></p>"
   ]
  },
  {
   "cell_type": "markdown",
   "id": "96222cc3",
   "metadata": {},
   "source": [
    "### Проверьте гипотезу о том, что средний возраст участников равен выборочному медианно-му значению возраста"
   ]
  },
  {
   "cell_type": "markdown",
   "id": "1171f11b",
   "metadata": {},
   "source": [
    "#### Тест Стьюдента"
   ]
  },
  {
   "cell_type": "markdown",
   "id": "20062c83",
   "metadata": {},
   "source": [
    "${H}_{0}: a = {a}_{0} = median$\n",
    "\n",
    "${H}_{1}: a \\neq {a}_{0} = median$\n",
    "\n",
    "$\\alpha = 0.05$\n",
    "\n",
    "Поскольку мы предполагаем, что исправленная data_new.age распределена нормально, то применим T-тест"
   ]
  },
  {
   "cell_type": "markdown",
   "id": "f658e4e6",
   "metadata": {
    "ExecuteTime": {
     "end_time": "2022-12-21T16:08:13.390208Z",
     "start_time": "2022-12-21T16:08:13.353306Z"
    }
   },
   "source": [
    "![Google Drive Image](https://drive.google.com/uc?id=1eFFbJhtTTEUdBin0-EniXhgEYAJ061QY)\n",
    "\n"
   ]
  },
  {
   "cell_type": "code",
   "execution_count": null,
   "id": "f1e2d6aa",
   "metadata": {
    "ExecuteTime": {
     "end_time": "2022-12-23T12:55:32.023644Z",
     "start_time": "2022-12-23T12:55:32.009676Z"
    }
   },
   "outputs": [],
   "source": [
    "p = 0.05\n",
    "df = len(data_new.age) - 1\n",
    "t_critical= abs(t.ppf(p/2, df))\n",
    "t_critical"
   ]
  },
  {
   "cell_type": "code",
   "execution_count": null,
   "id": "266cc512",
   "metadata": {
    "ExecuteTime": {
     "end_time": "2022-12-23T12:55:32.039597Z",
     "start_time": "2022-12-23T12:55:32.025634Z"
    }
   },
   "outputs": [],
   "source": [
    "T = (data_new.age.mean() - data_new.age.median()) * math.sqrt(len(data_new.age))/ math.sqrt(variance(data_new.age))\n",
    "T"
   ]
  },
  {
   "cell_type": "code",
   "execution_count": null,
   "id": "c42de2e3",
   "metadata": {
    "ExecuteTime": {
     "end_time": "2022-12-23T12:55:32.055556Z",
     "start_time": "2022-12-23T12:55:32.041591Z"
    },
    "scrolled": true
   },
   "outputs": [],
   "source": [
    "if abs(T) < t_critical:\n",
    "    print('Не получилось отвергнуть нулевую гипотезу')\n",
    "else:\n",
    "    print('Отвергаем нулевую гипотезу')"
   ]
  },
  {
   "cell_type": "markdown",
   "id": "b8b065df",
   "metadata": {},
   "source": [
    "#### Вывод"
   ]
  },
  {
   "cell_type": "markdown",
   "id": "0b6297df",
   "metadata": {
    "ExecuteTime": {
     "end_time": "2022-12-21T14:31:26.291878Z",
     "start_time": "2022-12-21T14:31:26.263952Z"
    }
   },
   "source": [
    "<p></p>\n",
    "\n",
    "<div style=\"border:solid black 1px; padding: 20px\">\n",
    "\n",
    "В ходе исследования было выяснено, что гипотеза о том, что средний возраст участников равняется медианному принимается при уровне значимости 5%\n",
    "    \n",
    "    \n",
    "\n",
    "</div>\n",
    "\n",
    "<p></p>"
   ]
  },
  {
   "cell_type": "markdown",
   "id": "56704f6d",
   "metadata": {},
   "source": [
    "###  Проверьте гипотезу о том, средний возраст мужчин превышает средний возраст женщин, используя нормальное приближение"
   ]
  },
  {
   "cell_type": "markdown",
   "id": "5159c38d",
   "metadata": {},
   "source": [
    "#### Посмотрим на распределение переменных"
   ]
  },
  {
   "cell_type": "markdown",
   "id": "0f5a0f39",
   "metadata": {},
   "source": [
    "Используем исправленные данные data_new.age, поскольку для проведения теста необходимо предположение о нормальности переменной"
   ]
  },
  {
   "cell_type": "code",
   "execution_count": null,
   "id": "2f92aed9",
   "metadata": {
    "ExecuteTime": {
     "end_time": "2022-12-23T12:55:32.289932Z",
     "start_time": "2022-12-23T12:55:32.058545Z"
    },
    "scrolled": true
   },
   "outputs": [],
   "source": [
    "data_new.query('male == 0')['age'].hist(bins=10, alpha=0.5, color='orange')\n",
    "data_new.query('male == 1')['age'].hist(bins=10, alpha=0.5, color='green')\n",
    "plt.title('Распредение возраста мужчин и женщин') # название графика\n",
    "plt.xlabel('Возраст') # подпись оси x\n",
    "plt.show()"
   ]
  },
  {
   "cell_type": "code",
   "execution_count": null,
   "id": "857a132f",
   "metadata": {
    "ExecuteTime": {
     "end_time": "2022-12-23T12:55:32.605800Z",
     "start_time": "2022-12-23T12:55:32.291921Z"
    }
   },
   "outputs": [],
   "source": [
    "sns.kdeplot(x='age', data=data_new, hue='male', common_norm=False);\n",
    "plt.title(\"Сглаженные функции плотности\");"
   ]
  },
  {
   "cell_type": "markdown",
   "id": "1ef6c85b",
   "metadata": {},
   "source": [
    "#### Воспользуемся нормальным приближением  и применим тест Стьюдента"
   ]
  },
  {
   "cell_type": "markdown",
   "id": "957f1bc8",
   "metadata": {
    "ExecuteTime": {
     "end_time": "2022-12-20T20:20:26.484730Z",
     "start_time": "2022-12-20T20:20:26.476720Z"
    }
   },
   "source": [
    "${H}_{0}$: Средний возраст мужчин равен среднему возрасту женщин\n",
    "\n",
    "${H}_{1}$: Средний возраст мужчин превышает средний возраст женщин\n",
    "\n",
    "$\\alpha = 0.05$\n",
    "\n",
    "Воспользуемся тестом Стьюдента\n",
    "\n"
   ]
  },
  {
   "cell_type": "code",
   "execution_count": null,
   "id": "4991e078",
   "metadata": {
    "ExecuteTime": {
     "end_time": "2022-12-23T12:55:32.621756Z",
     "start_time": "2022-12-23T12:55:32.606762Z"
    },
    "scrolled": true
   },
   "outputs": [],
   "source": [
    "results = st.ttest_1samp(a = data_new.query('male == 1')['age'], popmean = data_new.query('male == 0')['age'].mean(), alternative='greater')\n",
    "\n",
    "alpha = 0.05\n",
    "\n",
    "print(results.pvalue)\n",
    "if results.pvalue < alpha:\n",
    "    print(\"Отвергаем нулевую гипотезу\")\n",
    "else:\n",
    "    print(\"Не получилось отвергнуть нулевую гипотезу\")"
   ]
  },
  {
   "cell_type": "markdown",
   "id": "2dbb2e23",
   "metadata": {},
   "source": [
    "#### Вывод"
   ]
  },
  {
   "cell_type": "markdown",
   "id": "013292ab",
   "metadata": {},
   "source": [
    "<p></p>\n",
    "\n",
    "<div style=\"border:solid black 1px; padding: 20px\">\n",
    "\n",
    "В ходе исследования было выяснено, что гипотеза о том, что средний возраст мужчин равен среднему возрасту женщин принимается на уровне значимости 5%. Графически видно, что средний возраст у мужчин и у женщин приблизительно находится рядом, что подтверждает верность проведенного теста\n",
    "    \n",
    "    \n",
    "\n",
    "</div>\n",
    "\n",
    "<p></p>"
   ]
  },
  {
   "cell_type": "markdown",
   "id": "90c5bdb6",
   "metadata": {},
   "source": [
    "###  Проверьте гипотезу о том, что переменная age распределена нормально"
   ]
  },
  {
   "cell_type": "markdown",
   "id": "40b86d03",
   "metadata": {},
   "source": [
    "#### Критерий Шапиро-Уилка"
   ]
  },
  {
   "cell_type": "markdown",
   "id": "b029a5d2",
   "metadata": {
    "ExecuteTime": {
     "end_time": "2022-12-21T14:43:51.271351Z",
     "start_time": "2022-12-21T14:43:51.251397Z"
    }
   },
   "source": [
    "${H}_{0}$: Переменная age распределена нормально\n",
    "\n",
    "${H}_{1}$: Переменная age распределена иначе\n",
    "\n",
    "$\\alpha = 0.05$\n",
    "\n",
    "Воспользуемся критерием Шапиро-Уилка:"
   ]
  },
  {
   "cell_type": "markdown",
   "id": "d06e1579",
   "metadata": {},
   "source": [
    "![Google Drive Image](https://drive.google.com/uc?id=1mZo5S3HpKWGLgpT4fHJ8lQbYCWqwIPEe)\n"
   ]
  },
  {
   "cell_type": "code",
   "execution_count": null,
   "id": "1e2f666f",
   "metadata": {
    "ExecuteTime": {
     "end_time": "2022-12-23T12:55:32.637678Z",
     "start_time": "2022-12-23T12:55:32.622719Z"
    },
    "scrolled": true
   },
   "outputs": [],
   "source": [
    "results = st.shapiro(data.age) \n",
    "\n",
    "alpha = 0.05\n",
    "\n",
    "print(results.pvalue)\n",
    "if results.pvalue < alpha:\n",
    "    print(\"Отвергаем нулевую гипотезу\")\n",
    "else:\n",
    "    print(\"Не получилось отвергнуть нулевую гипотезу\")"
   ]
  },
  {
   "cell_type": "markdown",
   "id": "c11f14d2",
   "metadata": {},
   "source": [
    "#### Вывод"
   ]
  },
  {
   "cell_type": "markdown",
   "id": "607abd9c",
   "metadata": {},
   "source": [
    "<p></p>\n",
    "\n",
    "<div style=\"border:solid black 1px; padding: 20px\">\n",
    "\n",
    "В пункте 1.2.2.1 было проверено распределена ли нормально исправленная от выбросов переменная data_new.age и был сделан вывод, что исправленная переменная распределена с определенной долью вероятности распределена нормально. При исследовании данных с выбросами видно, что они искажают данные на столько, что по Критерию Шапиро-Уилка отвергается нулевая гипотеза о том, что данные распределены нормально при уровне значимости 5%\n",
    "    \n",
    "    \n",
    "\n",
    "</div>\n",
    "\n",
    "<p></p>"
   ]
  },
  {
   "cell_type": "markdown",
   "id": "1505d240",
   "metadata": {},
   "source": [
    "###\tПроверьте гипотезу о том, что число набранных очков и номер, под которым выступала ко-манда в финале, являются независимыми случайными величинами"
   ]
  },
  {
   "cell_type": "markdown",
   "id": "3d360b5d",
   "metadata": {},
   "source": [
    "#### Критерий однородности "
   ]
  },
  {
   "cell_type": "markdown",
   "id": "50afc41f",
   "metadata": {},
   "source": [
    "${H}_{0}$: Переменные points и number являются независимыми случайными величинами\n",
    "\n",
    "${H}_{1}$: Переменные points и number являются зависимыми случайными величинами\n",
    "\n",
    "$\\alpha = 0.05$"
   ]
  },
  {
   "attachments": {
    "%D0%A1%D0%BD%D0%B8%D0%BC%D0%BE%D0%BA.PNG": {
     "image/png": "[encoded data removed]"
    }
   },
   "cell_type": "markdown",
   "id": "179488ed",
   "metadata": {},
   "source": [
    "![%D0%A1%D0%BD%D0%B8%D0%BC%D0%BE%D0%BA.PNG](attachment:%D0%A1%D0%BD%D0%B8%D0%BC%D0%BE%D0%BA.PNG)\n"
   ]
  },
  {
   "cell_type": "code",
   "execution_count": null,
   "id": "e13bccf1",
   "metadata": {
    "ExecuteTime": {
     "end_time": "2022-12-23T12:55:32.653636Z",
     "start_time": "2022-12-23T12:55:32.638676Z"
    }
   },
   "outputs": [],
   "source": [
    "contingency_table = pd.DataFrame()\n",
    "contingency_table['points'] = data.points\n",
    "contingency_table['number'] = data.number\n",
    "contingency_table.head(5)"
   ]
  },
  {
   "cell_type": "code",
   "execution_count": null,
   "id": "82280d36",
   "metadata": {
    "ExecuteTime": {
     "end_time": "2022-12-23T12:55:32.668596Z",
     "start_time": "2022-12-23T12:55:32.654633Z"
    }
   },
   "outputs": [],
   "source": [
    "reults = st.chi2_contingency(contingency_table)\n",
    "print(results.pvalue)\n",
    "if results.pvalue < alpha:\n",
    "    print(\"Отвергаем нулевую гипотезу\")\n",
    "else:\n",
    "    print(\"Не получилось отвергнуть нулевую гипотезу\")"
   ]
  },
  {
   "cell_type": "markdown",
   "id": "a660d54e",
   "metadata": {},
   "source": [
    "#### Вывод"
   ]
  },
  {
   "cell_type": "markdown",
   "id": "12125a87",
   "metadata": {},
   "source": [
    "<p></p>\n",
    "\n",
    "<div style=\"border:solid black 1px; padding: 20px\">\n",
    "\n",
    "Из критерия однородности мы можем сделать вывод, что переменные points и number являются зависимыми случайными величинами с надежность 5%\n",
    "    \n",
    "\n",
    "</div>\n",
    "\n",
    "<p></p>"
   ]
  },
  {
   "cell_type": "markdown",
   "id": "a11af89c",
   "metadata": {},
   "source": [
    "### Обоснования"
   ]
  },
  {
   "cell_type": "markdown",
   "id": "d0f6c977",
   "metadata": {},
   "source": [
    "#### Критерий Шапиро-Уилка"
   ]
  },
  {
   "cell_type": "markdown",
   "id": "ee8d4e78",
   "metadata": {},
   "source": [
    "Критерий Шапиро-Уилка используется для проверки гипотезы $H_0$: «случайная величина X распределена нормально» и является одним из наиболее эффективных критериев проверки нормальности. Критерии, проверяющие нормальность выборки, являются частным случаем критериев согласия. Если выборка нормальна, можно далее применять мощные параметрические критерии, например, критерий Фишера."
   ]
  },
  {
   "cell_type": "markdown",
   "id": "09af8e9c",
   "metadata": {},
   "source": [
    "#### Критерий согласия Колмогорова "
   ]
  },
  {
   "cell_type": "markdown",
   "id": "0dd18040",
   "metadata": {},
   "source": [
    "Критерий согласия Колмогорова – применяется для проверки гипотез о предполагаемом виде закона распределения. Ограничение – применяется только для непрерывных случаемых величин. Проверяется гипотеза $H_0: F(x)=F_{0}(x)$ против альтернативной $H_1: F(x)=F_{0}(x)$. Критерий основан на том факте, что распределение супремума разности между теоретической и эмпирической функциями распределения \n",
    "$D_n=\\sup _{x \\in \\mathbb{R}}\\left|F_n(x)-F(x)\\right|$.\n",
    "одинаково при любой $F(x)$. Величину $Dn$ называют статистикой Колмогорова.\n",
    "При малых n для статистики Колмогорова существуют таблицы критических точек \n",
    "$Dкр$. Если $Dn$<$Dкр$, то гипотеза $H_0$ принимается, иначе отвергается. При больших n \n",
    "используют предельное распределение Колмогорова.\n"
   ]
  }
 ],
 "metadata": {
  "kernelspec": {
   "display_name": "Python 3 (ipykernel)",
   "language": "python",
   "name": "python3"
  },
  "language_info": {
   "codemirror_mode": {
    "name": "ipython",
    "version": 3
   },
   "file_extension": ".py",
   "mimetype": "text/x-python",
   "name": "python",
   "nbconvert_exporter": "python",
   "pygments_lexer": "ipython3",
   "version": "3.10.9"
  },
  "toc": {
   "base_numbering": 1,
   "nav_menu": {},
   "number_sections": true,
   "sideBar": true,
   "skip_h1_title": false,
   "title_cell": "Table of Contents",
   "title_sidebar": "Contents",
   "toc_cell": false,
   "toc_position": {
    "height": "calc(100% - 180px)",
    "left": "10px",
    "top": "150px",
    "width": "525.825px"
   },
   "toc_section_display": true,
   "toc_window_display": false
  }
 },
 "nbformat": 4,
 "nbformat_minor": 5
}
