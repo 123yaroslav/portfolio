{
 "cells": [
  {
   "cell_type": "markdown",
   "id": "9fb88fe3",
   "metadata": {},
   "source": [
    "# Проект по SQL с подключением к базе данных"
   ]
  },
  {
   "cell_type": "markdown",
   "id": "2d5a43fd",
   "metadata": {},
   "source": [
    "# В ходе проекта используются подазпросы и объединение таблиц для расчета средних значений переменных в данных"
   ]
  },
  {
   "cell_type": "markdown",
   "id": "f3c1d5b7",
   "metadata": {},
   "source": [
    "**Цель исследования:** изучить данные сервиса для чтения книг и выяснить, как его можно усовершенствовать"
   ]
  },
  {
   "cell_type": "markdown",
   "id": "ebd0c667",
   "metadata": {},
   "source": [
    "**Схема данных:**"
   ]
  },
  {
   "cell_type": "markdown",
   "id": "8c21aebe",
   "metadata": {},
   "source": [
    "![Google Drive Image](https://drive.google.com/uc?id=1KH5bAhBzIAjYmDaZOjtASePFirO6m3VI)\n"
   ]
  },
  {
   "cell_type": "markdown",
   "id": "698bf252",
   "metadata": {},
   "source": [
    "## Импортируем необходимый набор библиотек"
   ]
  },
  {
   "cell_type": "code",
   "execution_count": 1,
   "id": "2dfd8462",
   "metadata": {
    "ExecuteTime": {
     "end_time": "2023-04-17T13:07:27.167741Z",
     "start_time": "2023-04-17T13:07:25.796257Z"
    }
   },
   "outputs": [],
   "source": [
    "# импортируем библиотеки\n",
    "import pandas as pd\n",
    "from sqlalchemy import create_engine\n",
    "from sqlalchemy import text"
   ]
  },
  {
   "cell_type": "markdown",
   "id": "5dd5a5e0",
   "metadata": {},
   "source": [
    "## Подключимся к базе данных"
   ]
  },
  {
   "cell_type": "code",
   "execution_count": 2,
   "id": "0cb84cc1",
   "metadata": {
    "ExecuteTime": {
     "end_time": "2023-04-17T13:07:27.288599Z",
     "start_time": "2023-04-17T13:07:27.173582Z"
    }
   },
   "outputs": [],
   "source": [
    "# устанавливаем параметры\n",
    "db_config = {'user': 'praktikum_student', # имя пользователя\n",
    "'pwd': 'Sdf4$2;d-d30pp', # пароль\n",
    "'host': 'rc1b-wcoijxj3yxfsf3fs.mdb.yandexcloud.net',\n",
    "'port': 6432, # порт подключения\n",
    "'db': 'data-analyst-final-project-db'} # название базы данных\n",
    "connection_string = 'postgresql://{}:{}@{}:{}/{}'.format(db_config['user'],\n",
    " db_config['pwd'],\n",
    " db_config['host'],\n",
    " db_config['port'],\n",
    " db_config['db'])\n",
    "# сохраняем коннектор\n",
    "engine = create_engine(connection_string, connect_args={'sslmode':'require'}) "
   ]
  },
  {
   "cell_type": "markdown",
   "id": "5d5761b8",
   "metadata": {},
   "source": [
    "### Изучим данные"
   ]
  },
  {
   "cell_type": "code",
   "execution_count": 3,
   "id": "e3648b7d",
   "metadata": {
    "ExecuteTime": {
     "end_time": "2023-04-17T13:07:27.673944Z",
     "start_time": "2023-04-17T13:07:27.292634Z"
    },
    "scrolled": true
   },
   "outputs": [
    {
     "data": {
      "text/html": [
       "<div>\n",
       "<style scoped>\n",
       "    .dataframe tbody tr th:only-of-type {\n",
       "        vertical-align: middle;\n",
       "    }\n",
       "\n",
       "    .dataframe tbody tr th {\n",
       "        vertical-align: top;\n",
       "    }\n",
       "\n",
       "    .dataframe thead th {\n",
       "        text-align: right;\n",
       "    }\n",
       "</style>\n",
       "<table border=\"1\" class=\"dataframe\">\n",
       "  <thead>\n",
       "    <tr style=\"text-align: right;\">\n",
       "      <th></th>\n",
       "      <th>book_id</th>\n",
       "      <th>author_id</th>\n",
       "      <th>title</th>\n",
       "      <th>num_pages</th>\n",
       "      <th>publication_date</th>\n",
       "      <th>publisher_id</th>\n",
       "    </tr>\n",
       "  </thead>\n",
       "  <tbody>\n",
       "    <tr>\n",
       "      <th>0</th>\n",
       "      <td>1</td>\n",
       "      <td>546</td>\n",
       "      <td>'Salem's Lot</td>\n",
       "      <td>594</td>\n",
       "      <td>2005-11-01</td>\n",
       "      <td>93</td>\n",
       "    </tr>\n",
       "    <tr>\n",
       "      <th>1</th>\n",
       "      <td>2</td>\n",
       "      <td>465</td>\n",
       "      <td>1 000 Places to See Before You Die</td>\n",
       "      <td>992</td>\n",
       "      <td>2003-05-22</td>\n",
       "      <td>336</td>\n",
       "    </tr>\n",
       "    <tr>\n",
       "      <th>2</th>\n",
       "      <td>3</td>\n",
       "      <td>407</td>\n",
       "      <td>13 Little Blue Envelopes (Little Blue Envelope...</td>\n",
       "      <td>322</td>\n",
       "      <td>2010-12-21</td>\n",
       "      <td>135</td>\n",
       "    </tr>\n",
       "    <tr>\n",
       "      <th>3</th>\n",
       "      <td>4</td>\n",
       "      <td>82</td>\n",
       "      <td>1491: New Revelations of the Americas Before C...</td>\n",
       "      <td>541</td>\n",
       "      <td>2006-10-10</td>\n",
       "      <td>309</td>\n",
       "    </tr>\n",
       "    <tr>\n",
       "      <th>4</th>\n",
       "      <td>5</td>\n",
       "      <td>125</td>\n",
       "      <td>1776</td>\n",
       "      <td>386</td>\n",
       "      <td>2006-07-04</td>\n",
       "      <td>268</td>\n",
       "    </tr>\n",
       "  </tbody>\n",
       "</table>\n",
       "</div>"
      ],
      "text/plain": [
       "   book_id  author_id                                              title  \\\n",
       "0        1        546                                       'Salem's Lot   \n",
       "1        2        465                 1 000 Places to See Before You Die   \n",
       "2        3        407  13 Little Blue Envelopes (Little Blue Envelope...   \n",
       "3        4         82  1491: New Revelations of the Americas Before C...   \n",
       "4        5        125                                               1776   \n",
       "\n",
       "   num_pages publication_date  publisher_id  \n",
       "0        594       2005-11-01            93  \n",
       "1        992       2003-05-22           336  \n",
       "2        322       2010-12-21           135  \n",
       "3        541       2006-10-10           309  \n",
       "4        386       2006-07-04           268  "
      ]
     },
     "execution_count": 3,
     "metadata": {},
     "output_type": "execute_result"
    }
   ],
   "source": [
    "# выгрузим датасет books\n",
    "query = '''\n",
    "SELECT *\n",
    "FROM books\n",
    "LIMIT 5\n",
    "'''\n",
    "pd.io.sql.read_sql(sql=text(query), con = engine)"
   ]
  },
  {
   "cell_type": "code",
   "execution_count": 4,
   "id": "b5a01737",
   "metadata": {
    "ExecuteTime": {
     "end_time": "2023-04-17T13:07:27.767274Z",
     "start_time": "2023-04-17T13:07:27.679122Z"
    }
   },
   "outputs": [
    {
     "data": {
      "text/html": [
       "<div>\n",
       "<style scoped>\n",
       "    .dataframe tbody tr th:only-of-type {\n",
       "        vertical-align: middle;\n",
       "    }\n",
       "\n",
       "    .dataframe tbody tr th {\n",
       "        vertical-align: top;\n",
       "    }\n",
       "\n",
       "    .dataframe thead th {\n",
       "        text-align: right;\n",
       "    }\n",
       "</style>\n",
       "<table border=\"1\" class=\"dataframe\">\n",
       "  <thead>\n",
       "    <tr style=\"text-align: right;\">\n",
       "      <th></th>\n",
       "      <th>author_id</th>\n",
       "      <th>author</th>\n",
       "    </tr>\n",
       "  </thead>\n",
       "  <tbody>\n",
       "    <tr>\n",
       "      <th>0</th>\n",
       "      <td>1</td>\n",
       "      <td>A.S. Byatt</td>\n",
       "    </tr>\n",
       "    <tr>\n",
       "      <th>1</th>\n",
       "      <td>2</td>\n",
       "      <td>Aesop/Laura Harris/Laura Gibbs</td>\n",
       "    </tr>\n",
       "    <tr>\n",
       "      <th>2</th>\n",
       "      <td>3</td>\n",
       "      <td>Agatha Christie</td>\n",
       "    </tr>\n",
       "    <tr>\n",
       "      <th>3</th>\n",
       "      <td>4</td>\n",
       "      <td>Alan Brennert</td>\n",
       "    </tr>\n",
       "    <tr>\n",
       "      <th>4</th>\n",
       "      <td>5</td>\n",
       "      <td>Alan Moore/David   Lloyd</td>\n",
       "    </tr>\n",
       "  </tbody>\n",
       "</table>\n",
       "</div>"
      ],
      "text/plain": [
       "   author_id                          author\n",
       "0          1                      A.S. Byatt\n",
       "1          2  Aesop/Laura Harris/Laura Gibbs\n",
       "2          3                 Agatha Christie\n",
       "3          4                   Alan Brennert\n",
       "4          5        Alan Moore/David   Lloyd"
      ]
     },
     "execution_count": 4,
     "metadata": {},
     "output_type": "execute_result"
    }
   ],
   "source": [
    "# выгрузим датасет authors\n",
    "query = '''\n",
    "SELECT *\n",
    "FROM authors\n",
    "LIMIT 5\n",
    "'''\n",
    "pd.io.sql.read_sql(sql=text(query), con = engine)"
   ]
  },
  {
   "cell_type": "code",
   "execution_count": 5,
   "id": "5b91c493",
   "metadata": {
    "ExecuteTime": {
     "end_time": "2023-04-17T13:07:27.882590Z",
     "start_time": "2023-04-17T13:07:27.775234Z"
    }
   },
   "outputs": [
    {
     "data": {
      "text/html": [
       "<div>\n",
       "<style scoped>\n",
       "    .dataframe tbody tr th:only-of-type {\n",
       "        vertical-align: middle;\n",
       "    }\n",
       "\n",
       "    .dataframe tbody tr th {\n",
       "        vertical-align: top;\n",
       "    }\n",
       "\n",
       "    .dataframe thead th {\n",
       "        text-align: right;\n",
       "    }\n",
       "</style>\n",
       "<table border=\"1\" class=\"dataframe\">\n",
       "  <thead>\n",
       "    <tr style=\"text-align: right;\">\n",
       "      <th></th>\n",
       "      <th>rating_id</th>\n",
       "      <th>book_id</th>\n",
       "      <th>username</th>\n",
       "      <th>rating</th>\n",
       "    </tr>\n",
       "  </thead>\n",
       "  <tbody>\n",
       "    <tr>\n",
       "      <th>0</th>\n",
       "      <td>1</td>\n",
       "      <td>1</td>\n",
       "      <td>ryanfranco</td>\n",
       "      <td>4</td>\n",
       "    </tr>\n",
       "    <tr>\n",
       "      <th>1</th>\n",
       "      <td>2</td>\n",
       "      <td>1</td>\n",
       "      <td>grantpatricia</td>\n",
       "      <td>2</td>\n",
       "    </tr>\n",
       "    <tr>\n",
       "      <th>2</th>\n",
       "      <td>3</td>\n",
       "      <td>1</td>\n",
       "      <td>brandtandrea</td>\n",
       "      <td>5</td>\n",
       "    </tr>\n",
       "    <tr>\n",
       "      <th>3</th>\n",
       "      <td>4</td>\n",
       "      <td>2</td>\n",
       "      <td>lorichen</td>\n",
       "      <td>3</td>\n",
       "    </tr>\n",
       "    <tr>\n",
       "      <th>4</th>\n",
       "      <td>5</td>\n",
       "      <td>2</td>\n",
       "      <td>mariokeller</td>\n",
       "      <td>2</td>\n",
       "    </tr>\n",
       "  </tbody>\n",
       "</table>\n",
       "</div>"
      ],
      "text/plain": [
       "   rating_id  book_id       username  rating\n",
       "0          1        1     ryanfranco       4\n",
       "1          2        1  grantpatricia       2\n",
       "2          3        1   brandtandrea       5\n",
       "3          4        2       lorichen       3\n",
       "4          5        2    mariokeller       2"
      ]
     },
     "execution_count": 5,
     "metadata": {},
     "output_type": "execute_result"
    }
   ],
   "source": [
    "# выгрузим датасет ratings\n",
    "query = '''\n",
    "SELECT *\n",
    "FROM ratings\n",
    "LIMIT 5\n",
    "'''\n",
    "pd.io.sql.read_sql(sql=text(query), con = engine)"
   ]
  },
  {
   "cell_type": "code",
   "execution_count": 6,
   "id": "037c9a59",
   "metadata": {
    "ExecuteTime": {
     "end_time": "2023-04-17T13:07:27.988400Z",
     "start_time": "2023-04-17T13:07:27.886106Z"
    }
   },
   "outputs": [
    {
     "data": {
      "text/html": [
       "<div>\n",
       "<style scoped>\n",
       "    .dataframe tbody tr th:only-of-type {\n",
       "        vertical-align: middle;\n",
       "    }\n",
       "\n",
       "    .dataframe tbody tr th {\n",
       "        vertical-align: top;\n",
       "    }\n",
       "\n",
       "    .dataframe thead th {\n",
       "        text-align: right;\n",
       "    }\n",
       "</style>\n",
       "<table border=\"1\" class=\"dataframe\">\n",
       "  <thead>\n",
       "    <tr style=\"text-align: right;\">\n",
       "      <th></th>\n",
       "      <th>review_id</th>\n",
       "      <th>book_id</th>\n",
       "      <th>username</th>\n",
       "      <th>text</th>\n",
       "    </tr>\n",
       "  </thead>\n",
       "  <tbody>\n",
       "    <tr>\n",
       "      <th>0</th>\n",
       "      <td>1</td>\n",
       "      <td>1</td>\n",
       "      <td>brandtandrea</td>\n",
       "      <td>Mention society tell send professor analysis. ...</td>\n",
       "    </tr>\n",
       "    <tr>\n",
       "      <th>1</th>\n",
       "      <td>2</td>\n",
       "      <td>1</td>\n",
       "      <td>ryanfranco</td>\n",
       "      <td>Foot glass pretty audience hit themselves. Amo...</td>\n",
       "    </tr>\n",
       "    <tr>\n",
       "      <th>2</th>\n",
       "      <td>3</td>\n",
       "      <td>2</td>\n",
       "      <td>lorichen</td>\n",
       "      <td>Listen treat keep worry. Miss husband tax but ...</td>\n",
       "    </tr>\n",
       "    <tr>\n",
       "      <th>3</th>\n",
       "      <td>4</td>\n",
       "      <td>3</td>\n",
       "      <td>johnsonamanda</td>\n",
       "      <td>Finally month interesting blue could nature cu...</td>\n",
       "    </tr>\n",
       "    <tr>\n",
       "      <th>4</th>\n",
       "      <td>5</td>\n",
       "      <td>3</td>\n",
       "      <td>scotttamara</td>\n",
       "      <td>Nation purpose heavy give wait song will. List...</td>\n",
       "    </tr>\n",
       "  </tbody>\n",
       "</table>\n",
       "</div>"
      ],
      "text/plain": [
       "   review_id  book_id       username  \\\n",
       "0          1        1   brandtandrea   \n",
       "1          2        1     ryanfranco   \n",
       "2          3        2       lorichen   \n",
       "3          4        3  johnsonamanda   \n",
       "4          5        3    scotttamara   \n",
       "\n",
       "                                                text  \n",
       "0  Mention society tell send professor analysis. ...  \n",
       "1  Foot glass pretty audience hit themselves. Amo...  \n",
       "2  Listen treat keep worry. Miss husband tax but ...  \n",
       "3  Finally month interesting blue could nature cu...  \n",
       "4  Nation purpose heavy give wait song will. List...  "
      ]
     },
     "execution_count": 6,
     "metadata": {},
     "output_type": "execute_result"
    }
   ],
   "source": [
    "# выгрузим датасет reviews\n",
    "query = '''\n",
    "SELECT *\n",
    "FROM reviews\n",
    "LIMIT 5\n",
    "'''\n",
    "pd.io.sql.read_sql(sql=text(query), con = engine)"
   ]
  },
  {
   "cell_type": "code",
   "execution_count": 7,
   "id": "7728b153",
   "metadata": {
    "ExecuteTime": {
     "end_time": "2023-04-17T13:07:28.078875Z",
     "start_time": "2023-04-17T13:07:27.991596Z"
    }
   },
   "outputs": [
    {
     "data": {
      "text/html": [
       "<div>\n",
       "<style scoped>\n",
       "    .dataframe tbody tr th:only-of-type {\n",
       "        vertical-align: middle;\n",
       "    }\n",
       "\n",
       "    .dataframe tbody tr th {\n",
       "        vertical-align: top;\n",
       "    }\n",
       "\n",
       "    .dataframe thead th {\n",
       "        text-align: right;\n",
       "    }\n",
       "</style>\n",
       "<table border=\"1\" class=\"dataframe\">\n",
       "  <thead>\n",
       "    <tr style=\"text-align: right;\">\n",
       "      <th></th>\n",
       "      <th>publisher_id</th>\n",
       "      <th>publisher</th>\n",
       "    </tr>\n",
       "  </thead>\n",
       "  <tbody>\n",
       "    <tr>\n",
       "      <th>0</th>\n",
       "      <td>1</td>\n",
       "      <td>Ace</td>\n",
       "    </tr>\n",
       "    <tr>\n",
       "      <th>1</th>\n",
       "      <td>2</td>\n",
       "      <td>Ace Book</td>\n",
       "    </tr>\n",
       "    <tr>\n",
       "      <th>2</th>\n",
       "      <td>3</td>\n",
       "      <td>Ace Books</td>\n",
       "    </tr>\n",
       "    <tr>\n",
       "      <th>3</th>\n",
       "      <td>4</td>\n",
       "      <td>Ace Hardcover</td>\n",
       "    </tr>\n",
       "    <tr>\n",
       "      <th>4</th>\n",
       "      <td>5</td>\n",
       "      <td>Addison Wesley Publishing Company</td>\n",
       "    </tr>\n",
       "  </tbody>\n",
       "</table>\n",
       "</div>"
      ],
      "text/plain": [
       "   publisher_id                          publisher\n",
       "0             1                                Ace\n",
       "1             2                           Ace Book\n",
       "2             3                          Ace Books\n",
       "3             4                      Ace Hardcover\n",
       "4             5  Addison Wesley Publishing Company"
      ]
     },
     "execution_count": 7,
     "metadata": {},
     "output_type": "execute_result"
    }
   ],
   "source": [
    "# выгрузим датасет publishers\n",
    "query = '''\n",
    "SELECT *\n",
    "FROM publishers\n",
    "LIMIT 5\n",
    "'''\n",
    "pd.io.sql.read_sql(sql=text(query), con = engine)"
   ]
  },
  {
   "cell_type": "markdown",
   "id": "76dbb3f4",
   "metadata": {},
   "source": [
    "##### *Вывод:*\n",
    "<p></p>\n",
    "\n",
    "<div style=\"border:solid black 1px; padding: 20px\">\n",
    "\n",
    "Данные были выгружены и они соответсвуют схеме из описания данных\n",
    "    \n",
    "    \n",
    "</div>\n",
    "\n",
    "<p></p>"
   ]
  },
  {
   "cell_type": "markdown",
   "id": "006fae40",
   "metadata": {},
   "source": [
    "## Посчитайте, сколько книг вышло после 1 января 2000 года"
   ]
  },
  {
   "cell_type": "code",
   "execution_count": 9,
   "id": "d0225887",
   "metadata": {
    "ExecuteTime": {
     "end_time": "2023-04-17T13:07:28.178694Z",
     "start_time": "2023-04-17T13:07:28.082514Z"
    }
   },
   "outputs": [
    {
     "data": {
      "text/html": [
       "<div>\n",
       "<style scoped>\n",
       "    .dataframe tbody tr th:only-of-type {\n",
       "        vertical-align: middle;\n",
       "    }\n",
       "\n",
       "    .dataframe tbody tr th {\n",
       "        vertical-align: top;\n",
       "    }\n",
       "\n",
       "    .dataframe thead th {\n",
       "        text-align: right;\n",
       "    }\n",
       "</style>\n",
       "<table border=\"1\" class=\"dataframe\">\n",
       "  <thead>\n",
       "    <tr style=\"text-align: right;\">\n",
       "      <th></th>\n",
       "      <th>count</th>\n",
       "    </tr>\n",
       "  </thead>\n",
       "  <tbody>\n",
       "    <tr>\n",
       "      <th>0</th>\n",
       "      <td>819</td>\n",
       "    </tr>\n",
       "  </tbody>\n",
       "</table>\n",
       "</div>"
      ],
      "text/plain": [
       "   count\n",
       "0    819"
      ]
     },
     "execution_count": 9,
     "metadata": {},
     "output_type": "execute_result"
    }
   ],
   "source": [
    "query = '''\n",
    "SELECT COUNT(book_id)\n",
    "FROM books\n",
    "WHERE publication_date > '2000-01-01'\n",
    "'''\n",
    "pd.io.sql.read_sql(sql=text(query), con = engine)"
   ]
  },
  {
   "cell_type": "markdown",
   "id": "4d6164cf",
   "metadata": {},
   "source": [
    "## Для каждой книги посчитайте количество обзоров и среднюю оценку;"
   ]
  },
  {
   "cell_type": "code",
   "execution_count": 10,
   "id": "0c07d297",
   "metadata": {
    "ExecuteTime": {
     "end_time": "2023-04-17T13:07:28.386783Z",
     "start_time": "2023-04-17T13:07:28.185279Z"
    }
   },
   "outputs": [
    {
     "data": {
      "text/html": [
       "<div>\n",
       "<style scoped>\n",
       "    .dataframe tbody tr th:only-of-type {\n",
       "        vertical-align: middle;\n",
       "    }\n",
       "\n",
       "    .dataframe tbody tr th {\n",
       "        vertical-align: top;\n",
       "    }\n",
       "\n",
       "    .dataframe thead th {\n",
       "        text-align: right;\n",
       "    }\n",
       "</style>\n",
       "<table border=\"1\" class=\"dataframe\">\n",
       "  <thead>\n",
       "    <tr style=\"text-align: right;\">\n",
       "      <th></th>\n",
       "      <th>book_id</th>\n",
       "      <th>title</th>\n",
       "      <th>count_review</th>\n",
       "      <th>average_rating</th>\n",
       "    </tr>\n",
       "  </thead>\n",
       "  <tbody>\n",
       "    <tr>\n",
       "      <th>0</th>\n",
       "      <td>948</td>\n",
       "      <td>Twilight (Twilight  #1)</td>\n",
       "      <td>7</td>\n",
       "      <td>3.662500</td>\n",
       "    </tr>\n",
       "    <tr>\n",
       "      <th>1</th>\n",
       "      <td>302</td>\n",
       "      <td>Harry Potter and the Prisoner of Azkaban (Harr...</td>\n",
       "      <td>6</td>\n",
       "      <td>4.414634</td>\n",
       "    </tr>\n",
       "    <tr>\n",
       "      <th>2</th>\n",
       "      <td>299</td>\n",
       "      <td>Harry Potter and the Chamber of Secrets (Harry...</td>\n",
       "      <td>6</td>\n",
       "      <td>4.287500</td>\n",
       "    </tr>\n",
       "    <tr>\n",
       "      <th>3</th>\n",
       "      <td>656</td>\n",
       "      <td>The Book Thief</td>\n",
       "      <td>6</td>\n",
       "      <td>4.264151</td>\n",
       "    </tr>\n",
       "    <tr>\n",
       "      <th>4</th>\n",
       "      <td>734</td>\n",
       "      <td>The Glass Castle</td>\n",
       "      <td>6</td>\n",
       "      <td>4.206897</td>\n",
       "    </tr>\n",
       "    <tr>\n",
       "      <th>...</th>\n",
       "      <td>...</td>\n",
       "      <td>...</td>\n",
       "      <td>...</td>\n",
       "      <td>...</td>\n",
       "    </tr>\n",
       "    <tr>\n",
       "      <th>995</th>\n",
       "      <td>191</td>\n",
       "      <td>Disney's Beauty and the Beast (A Little Golden...</td>\n",
       "      <td>0</td>\n",
       "      <td>4.000000</td>\n",
       "    </tr>\n",
       "    <tr>\n",
       "      <th>996</th>\n",
       "      <td>387</td>\n",
       "      <td>Leonardo's Notebooks</td>\n",
       "      <td>0</td>\n",
       "      <td>4.000000</td>\n",
       "    </tr>\n",
       "    <tr>\n",
       "      <th>997</th>\n",
       "      <td>221</td>\n",
       "      <td>Essential Tales and Poems</td>\n",
       "      <td>0</td>\n",
       "      <td>4.000000</td>\n",
       "    </tr>\n",
       "    <tr>\n",
       "      <th>998</th>\n",
       "      <td>83</td>\n",
       "      <td>Anne Rice's The Vampire Lestat: A Graphic Novel</td>\n",
       "      <td>0</td>\n",
       "      <td>3.666667</td>\n",
       "    </tr>\n",
       "    <tr>\n",
       "      <th>999</th>\n",
       "      <td>808</td>\n",
       "      <td>The Natural Way to Draw</td>\n",
       "      <td>0</td>\n",
       "      <td>3.000000</td>\n",
       "    </tr>\n",
       "  </tbody>\n",
       "</table>\n",
       "<p>1000 rows × 4 columns</p>\n",
       "</div>"
      ],
      "text/plain": [
       "     book_id                                              title  count_review  \\\n",
       "0        948                            Twilight (Twilight  #1)             7   \n",
       "1        302  Harry Potter and the Prisoner of Azkaban (Harr...             6   \n",
       "2        299  Harry Potter and the Chamber of Secrets (Harry...             6   \n",
       "3        656                                     The Book Thief             6   \n",
       "4        734                                   The Glass Castle             6   \n",
       "..       ...                                                ...           ...   \n",
       "995      191  Disney's Beauty and the Beast (A Little Golden...             0   \n",
       "996      387                               Leonardo's Notebooks             0   \n",
       "997      221                          Essential Tales and Poems             0   \n",
       "998       83    Anne Rice's The Vampire Lestat: A Graphic Novel             0   \n",
       "999      808                            The Natural Way to Draw             0   \n",
       "\n",
       "     average_rating  \n",
       "0          3.662500  \n",
       "1          4.414634  \n",
       "2          4.287500  \n",
       "3          4.264151  \n",
       "4          4.206897  \n",
       "..              ...  \n",
       "995        4.000000  \n",
       "996        4.000000  \n",
       "997        4.000000  \n",
       "998        3.666667  \n",
       "999        3.000000  \n",
       "\n",
       "[1000 rows x 4 columns]"
      ]
     },
     "execution_count": 10,
     "metadata": {},
     "output_type": "execute_result"
    }
   ],
   "source": [
    "query = '''\n",
    "SELECT b.book_id,\n",
    "b.title,\n",
    "COUNT(DISTINCT re.review_id) AS count_review,\n",
    "AVG(ra.rating) AS average_rating\n",
    "FROM books AS b\n",
    "LEFT JOIN reviews AS re ON b.book_id = re.book_id\n",
    "JOIN ratings AS ra ON b.book_id = ra.book_id\n",
    "GROUP BY b.book_id\n",
    "ORDER BY count_review DESC, average_rating DESC\n",
    "'''\n",
    "pd.io.sql.read_sql(sql=text(query), con = engine)"
   ]
  },
  {
   "cell_type": "markdown",
   "id": "5f4eb6b8",
   "metadata": {},
   "source": [
    "## Определите издательство, которое выпустило наибольшее число книг толще 50 страниц — так вы исключите из анализа брошюры;"
   ]
  },
  {
   "cell_type": "code",
   "execution_count": 11,
   "id": "12f920c8",
   "metadata": {
    "ExecuteTime": {
     "end_time": "2023-04-17T13:07:28.505625Z",
     "start_time": "2023-04-17T13:07:28.400278Z"
    }
   },
   "outputs": [
    {
     "data": {
      "text/html": [
       "<div>\n",
       "<style scoped>\n",
       "    .dataframe tbody tr th:only-of-type {\n",
       "        vertical-align: middle;\n",
       "    }\n",
       "\n",
       "    .dataframe tbody tr th {\n",
       "        vertical-align: top;\n",
       "    }\n",
       "\n",
       "    .dataframe thead th {\n",
       "        text-align: right;\n",
       "    }\n",
       "</style>\n",
       "<table border=\"1\" class=\"dataframe\">\n",
       "  <thead>\n",
       "    <tr style=\"text-align: right;\">\n",
       "      <th></th>\n",
       "      <th>publisher</th>\n",
       "      <th>amount_of_books</th>\n",
       "    </tr>\n",
       "  </thead>\n",
       "  <tbody>\n",
       "    <tr>\n",
       "      <th>0</th>\n",
       "      <td>Penguin Books</td>\n",
       "      <td>42</td>\n",
       "    </tr>\n",
       "  </tbody>\n",
       "</table>\n",
       "</div>"
      ],
      "text/plain": [
       "       publisher  amount_of_books\n",
       "0  Penguin Books               42"
      ]
     },
     "execution_count": 11,
     "metadata": {},
     "output_type": "execute_result"
    }
   ],
   "source": [
    "query = '''\n",
    "SELECT p.publisher,\n",
    "COUNT(book_id) AS amount_of_books\n",
    "FROM books AS b\n",
    "LEFT JOIN publishers AS p ON b.publisher_id = p.publisher_id\n",
    "WHERE b.num_pages> 50\n",
    "GROUP BY p.publisher\n",
    "ORDER BY amount_of_books DESC\n",
    "LIMIT 1\n",
    "'''\n",
    "pd.io.sql.read_sql(sql=text(query), con = engine)"
   ]
  },
  {
   "cell_type": "markdown",
   "id": "ff62f8fc",
   "metadata": {},
   "source": [
    "## Определите автора с самой высокой средней оценкой книг — учитывайте только книги с 50 и более оценками;"
   ]
  },
  {
   "cell_type": "code",
   "execution_count": 12,
   "id": "6a0ad5fa",
   "metadata": {
    "ExecuteTime": {
     "end_time": "2023-04-17T13:07:28.628161Z",
     "start_time": "2023-04-17T13:07:28.508894Z"
    },
    "scrolled": true
   },
   "outputs": [
    {
     "data": {
      "text/html": [
       "<div>\n",
       "<style scoped>\n",
       "    .dataframe tbody tr th:only-of-type {\n",
       "        vertical-align: middle;\n",
       "    }\n",
       "\n",
       "    .dataframe tbody tr th {\n",
       "        vertical-align: top;\n",
       "    }\n",
       "\n",
       "    .dataframe thead th {\n",
       "        text-align: right;\n",
       "    }\n",
       "</style>\n",
       "<table border=\"1\" class=\"dataframe\">\n",
       "  <thead>\n",
       "    <tr style=\"text-align: right;\">\n",
       "      <th></th>\n",
       "      <th>author</th>\n",
       "      <th>avg_rating</th>\n",
       "    </tr>\n",
       "  </thead>\n",
       "  <tbody>\n",
       "    <tr>\n",
       "      <th>0</th>\n",
       "      <td>J.K. Rowling/Mary GrandPré</td>\n",
       "      <td>4.283844</td>\n",
       "    </tr>\n",
       "  </tbody>\n",
       "</table>\n",
       "</div>"
      ],
      "text/plain": [
       "                       author  avg_rating\n",
       "0  J.K. Rowling/Mary GrandPré    4.283844"
      ]
     },
     "execution_count": 12,
     "metadata": {},
     "output_type": "execute_result"
    }
   ],
   "source": [
    "query = '''\n",
    "SELECT\n",
    "      count.author AS author,\n",
    "      AVG(count.avg_rating) AS avg_rating\n",
    "FROM\n",
    "(SELECT\n",
    "     a.author AS author,\n",
    "     b.book_id AS id,\n",
    "     AVG(r.rating) AS avg_rating,\n",
    "     COUNT(r.rating) AS cnt_rating\n",
    "FROM authors AS a\n",
    "INNER JOIN books AS b ON b.author_id = a.author_id\n",
    "INNER JOIN ratings AS r ON r.book_id = b.book_id\n",
    "GROUP BY author, id\n",
    "HAVING COUNT(r.rating) >= 50) AS count\n",
    "GROUP BY author\n",
    "ORDER BY avg_rating DESC\n",
    "LIMIT 1\n",
    "'''\n",
    "pd.io.sql.read_sql(sql=text(query), con = engine)"
   ]
  },
  {
   "cell_type": "markdown",
   "id": "0dfe9a25",
   "metadata": {},
   "source": [
    "## Посчитайте среднее количество обзоров от пользователей, которые поставили больше 50 оценок."
   ]
  },
  {
   "cell_type": "code",
   "execution_count": 13,
   "id": "f568dec9",
   "metadata": {
    "ExecuteTime": {
     "end_time": "2023-04-17T13:07:28.739883Z",
     "start_time": "2023-04-17T13:07:28.636634Z"
    },
    "scrolled": true
   },
   "outputs": [
    {
     "data": {
      "text/html": [
       "<div>\n",
       "<style scoped>\n",
       "    .dataframe tbody tr th:only-of-type {\n",
       "        vertical-align: middle;\n",
       "    }\n",
       "\n",
       "    .dataframe tbody tr th {\n",
       "        vertical-align: top;\n",
       "    }\n",
       "\n",
       "    .dataframe thead th {\n",
       "        text-align: right;\n",
       "    }\n",
       "</style>\n",
       "<table border=\"1\" class=\"dataframe\">\n",
       "  <thead>\n",
       "    <tr style=\"text-align: right;\">\n",
       "      <th></th>\n",
       "      <th>review_avg</th>\n",
       "    </tr>\n",
       "  </thead>\n",
       "  <tbody>\n",
       "    <tr>\n",
       "      <th>0</th>\n",
       "      <td>24.0</td>\n",
       "    </tr>\n",
       "  </tbody>\n",
       "</table>\n",
       "</div>"
      ],
      "text/plain": [
       "   review_avg\n",
       "0        24.0"
      ]
     },
     "execution_count": 13,
     "metadata": {},
     "output_type": "execute_result"
    }
   ],
   "source": [
    "query = '''\n",
    "WITH users AS (SELECT COUNT (review_id) AS review_count\n",
    "FROM reviews\n",
    "WHERE username IN (\n",
    "        SELECT username\n",
    "        FROM ratings\n",
    "        GROUP BY username\n",
    "        HAVING COUNT (rating_id) > 50)\n",
    "GROUP BY username)\n",
    "SELECT ROUND(AVG(review_count)) AS review_avg\n",
    "FROM users\n",
    "'''\n",
    "pd.io.sql.read_sql(sql=text(query), con = engine)"
   ]
  },
  {
   "cell_type": "markdown",
   "id": "71dfa3fb",
   "metadata": {},
   "source": [
    "## Общий вывод"
   ]
  },
  {
   "cell_type": "markdown",
   "id": "a84b2308",
   "metadata": {},
   "source": [
    "<p></p>\n",
    "\n",
    "<div style=\"border:solid black 1px; padding: 20px\">\n",
    "\n",
    "Исходя из исследования можно сделать следующие выводы:\n",
    "    \n",
    "- После 1 января 2000 года вышло 819 книг\n",
    "\n",
    "- У книги Сумерки и двух книг о Гарри Потере больше всего обзоров\n",
    " \n",
    "- Издательство Penguin books выпустило наибольшее число книг 42\n",
    "    \n",
    "- Автором с самой высокой средней оценкой книг является J.K. Rowling\n",
    "    \n",
    "- Средним количеством обзоров от пользователей, которые оставили больше 50 оценок, является 24 \n",
    "    \n",
    "</div>\n",
    "\n",
    "<p></p>"
   ]
  }
 ],
 "metadata": {
  "ExecuteTimeLog": [
   {
    "duration": 56,
    "start_time": "2023-04-18T12:46:07.218Z"
   },
   {
    "duration": 482,
    "start_time": "2023-04-18T12:46:12.751Z"
   },
   {
    "duration": 5603,
    "start_time": "2023-04-18T12:46:13.235Z"
   },
   {
    "duration": 49,
    "start_time": "2023-04-18T12:46:18.839Z"
   },
   {
    "duration": 10,
    "start_time": "2023-04-18T12:46:18.890Z"
   },
   {
    "duration": 10,
    "start_time": "2023-04-18T12:46:18.902Z"
   },
   {
    "duration": 10,
    "start_time": "2023-04-18T12:46:18.913Z"
   },
   {
    "duration": 13,
    "start_time": "2023-04-18T12:46:18.925Z"
   },
   {
    "duration": 46,
    "start_time": "2023-04-18T12:46:18.940Z"
   },
   {
    "duration": 13,
    "start_time": "2023-04-18T12:46:18.987Z"
   },
   {
    "duration": 34,
    "start_time": "2023-04-18T12:46:19.002Z"
   },
   {
    "duration": 14,
    "start_time": "2023-04-18T12:46:19.038Z"
   },
   {
    "duration": 21,
    "start_time": "2023-04-18T12:46:19.054Z"
   },
   {
    "duration": 14,
    "start_time": "2023-04-18T12:46:19.076Z"
   },
   {
    "duration": 132,
    "start_time": "2023-04-18T12:47:48.627Z"
   },
   {
    "duration": 20,
    "start_time": "2023-04-18T12:48:07.070Z"
   },
   {
    "duration": 67,
    "start_time": "2023-04-18T12:48:29.132Z"
   },
   {
    "duration": 17,
    "start_time": "2023-04-18T12:48:37.030Z"
   },
   {
    "duration": 64,
    "start_time": "2023-04-18T12:49:56.359Z"
   },
   {
    "duration": 17,
    "start_time": "2023-04-18T12:50:10.474Z"
   },
   {
    "duration": 73,
    "start_time": "2023-04-18T12:59:07.834Z"
   },
   {
    "duration": 64,
    "start_time": "2023-04-18T12:59:10.431Z"
   },
   {
    "duration": 62,
    "start_time": "2023-04-18T12:59:29.615Z"
   },
   {
    "duration": 18,
    "start_time": "2023-04-18T12:59:35.659Z"
   },
   {
    "duration": 18,
    "start_time": "2023-04-18T13:00:04.930Z"
   },
   {
    "duration": 16,
    "start_time": "2023-04-18T13:00:22.640Z"
   },
   {
    "duration": 475,
    "start_time": "2023-04-18T13:03:54.330Z"
   },
   {
    "duration": 476,
    "start_time": "2023-04-18T13:14:51.750Z"
   },
   {
    "duration": 4739,
    "start_time": "2023-04-18T13:14:52.228Z"
   },
   {
    "duration": 49,
    "start_time": "2023-04-18T13:14:56.969Z"
   },
   {
    "duration": 9,
    "start_time": "2023-04-18T13:14:57.020Z"
   },
   {
    "duration": 25,
    "start_time": "2023-04-18T13:14:57.030Z"
   },
   {
    "duration": 39,
    "start_time": "2023-04-18T13:14:57.056Z"
   },
   {
    "duration": 11,
    "start_time": "2023-04-18T13:14:57.096Z"
   },
   {
    "duration": 24,
    "start_time": "2023-04-18T13:14:57.108Z"
   },
   {
    "duration": 8,
    "start_time": "2023-04-18T13:14:57.134Z"
   },
   {
    "duration": 25,
    "start_time": "2023-04-18T13:14:57.144Z"
   },
   {
    "duration": 10,
    "start_time": "2023-04-18T13:14:57.170Z"
   },
   {
    "duration": 12,
    "start_time": "2023-04-18T13:14:57.181Z"
   },
   {
    "duration": 10,
    "start_time": "2023-04-18T13:14:57.195Z"
   },
   {
    "duration": 53,
    "start_time": "2023-04-18T15:34:11.187Z"
   },
   {
    "duration": 532,
    "start_time": "2023-04-18T15:34:18.583Z"
   },
   {
    "duration": 5834,
    "start_time": "2023-04-18T15:34:19.117Z"
   },
   {
    "duration": 61,
    "start_time": "2023-04-18T15:34:24.953Z"
   },
   {
    "duration": 12,
    "start_time": "2023-04-18T15:34:25.015Z"
   },
   {
    "duration": 58,
    "start_time": "2023-04-18T15:34:25.029Z"
   },
   {
    "duration": 13,
    "start_time": "2023-04-18T15:34:25.088Z"
   },
   {
    "duration": 40,
    "start_time": "2023-04-18T15:34:25.103Z"
   },
   {
    "duration": 53,
    "start_time": "2023-04-18T15:34:25.145Z"
   },
   {
    "duration": 9,
    "start_time": "2023-04-18T15:34:25.200Z"
   },
   {
    "duration": 29,
    "start_time": "2023-04-18T15:34:25.210Z"
   },
   {
    "duration": 11,
    "start_time": "2023-04-18T15:34:25.240Z"
   },
   {
    "duration": 38,
    "start_time": "2023-04-18T15:34:25.252Z"
   },
   {
    "duration": 17,
    "start_time": "2023-04-18T15:34:25.292Z"
   },
   {
    "duration": 14,
    "start_time": "2023-04-18T15:34:25.311Z"
   },
   {
    "duration": 165,
    "start_time": "2023-04-18T15:35:14.635Z"
   },
   {
    "duration": 100,
    "start_time": "2023-04-18T15:35:47.319Z"
   },
   {
    "duration": 31,
    "start_time": "2023-04-18T15:35:53.523Z"
   },
   {
    "duration": 16,
    "start_time": "2023-04-18T15:36:22.920Z"
   },
   {
    "duration": 90,
    "start_time": "2023-04-18T15:36:30.811Z"
   },
   {
    "duration": 23,
    "start_time": "2023-04-18T15:36:39.715Z"
   },
   {
    "duration": 95,
    "start_time": "2023-04-18T15:47:44.415Z"
   },
   {
    "duration": 101,
    "start_time": "2023-04-18T15:51:39.137Z"
   },
   {
    "duration": 107,
    "start_time": "2023-04-18T15:51:52.828Z"
   },
   {
    "duration": 89,
    "start_time": "2023-04-18T15:52:27.215Z"
   },
   {
    "duration": 586,
    "start_time": "2023-04-18T15:55:38.915Z"
   },
   {
    "duration": 8627,
    "start_time": "2023-04-18T15:55:39.503Z"
   },
   {
    "duration": 54,
    "start_time": "2023-04-18T15:55:48.132Z"
   },
   {
    "duration": 26,
    "start_time": "2023-04-18T15:55:48.188Z"
   },
   {
    "duration": 12,
    "start_time": "2023-04-18T15:55:48.216Z"
   },
   {
    "duration": 16,
    "start_time": "2023-04-18T15:55:48.229Z"
   },
   {
    "duration": 21,
    "start_time": "2023-04-18T15:55:48.247Z"
   },
   {
    "duration": 49,
    "start_time": "2023-04-18T15:55:48.275Z"
   },
   {
    "duration": 10,
    "start_time": "2023-04-18T15:55:48.326Z"
   },
   {
    "duration": 35,
    "start_time": "2023-04-18T15:55:48.338Z"
   },
   {
    "duration": 37,
    "start_time": "2023-04-18T15:55:48.380Z"
   },
   {
    "duration": 178,
    "start_time": "2023-04-18T15:55:48.419Z"
   },
   {
    "duration": 0,
    "start_time": "2023-04-18T15:55:48.598Z"
   },
   {
    "duration": 121,
    "start_time": "2023-04-18T15:56:25.008Z"
   },
   {
    "duration": 82,
    "start_time": "2023-04-18T15:56:43.107Z"
   },
   {
    "duration": 104,
    "start_time": "2023-04-18T15:56:52.212Z"
   },
   {
    "duration": 114,
    "start_time": "2023-04-18T15:57:14.328Z"
   },
   {
    "duration": 124,
    "start_time": "2023-04-18T15:57:26.847Z"
   },
   {
    "duration": 125,
    "start_time": "2023-04-18T15:57:41.712Z"
   },
   {
    "duration": 115,
    "start_time": "2023-04-18T15:57:46.021Z"
   },
   {
    "duration": 119,
    "start_time": "2023-04-18T15:58:05.053Z"
   },
   {
    "duration": 117,
    "start_time": "2023-04-18T15:58:28.525Z"
   },
   {
    "duration": 104,
    "start_time": "2023-04-18T15:58:32.613Z"
   },
   {
    "duration": 91,
    "start_time": "2023-04-18T16:09:24.583Z"
   },
   {
    "duration": 99,
    "start_time": "2023-04-18T16:09:44.809Z"
   },
   {
    "duration": 81,
    "start_time": "2023-04-18T16:19:11.369Z"
   },
   {
    "duration": 18,
    "start_time": "2023-04-18T16:43:22.715Z"
   },
   {
    "duration": 16,
    "start_time": "2023-04-18T16:44:01.929Z"
   },
   {
    "duration": 585,
    "start_time": "2023-04-18T16:44:13.459Z"
   },
   {
    "duration": 7299,
    "start_time": "2023-04-18T16:44:14.046Z"
   },
   {
    "duration": 94,
    "start_time": "2023-04-18T16:44:21.346Z"
   },
   {
    "duration": 12,
    "start_time": "2023-04-18T16:44:21.443Z"
   },
   {
    "duration": 57,
    "start_time": "2023-04-18T16:44:21.458Z"
   },
   {
    "duration": 13,
    "start_time": "2023-04-18T16:44:21.517Z"
   },
   {
    "duration": 17,
    "start_time": "2023-04-18T16:44:21.533Z"
   },
   {
    "duration": 71,
    "start_time": "2023-04-18T16:44:21.552Z"
   },
   {
    "duration": 10,
    "start_time": "2023-04-18T16:44:21.624Z"
   },
   {
    "duration": 44,
    "start_time": "2023-04-18T16:44:21.636Z"
   },
   {
    "duration": 34,
    "start_time": "2023-04-18T16:44:21.682Z"
   },
   {
    "duration": 16,
    "start_time": "2023-04-18T16:44:21.717Z"
   },
   {
    "duration": 13,
    "start_time": "2023-04-18T16:44:21.735Z"
   },
   {
    "duration": 20,
    "start_time": "2023-04-18T16:45:39.733Z"
   },
   {
    "duration": 17,
    "start_time": "2023-04-18T16:45:46.616Z"
   },
   {
    "duration": 595,
    "start_time": "2023-04-18T16:45:51.851Z"
   },
   {
    "duration": 6508,
    "start_time": "2023-04-18T16:45:52.449Z"
   },
   {
    "duration": 76,
    "start_time": "2023-04-18T16:45:58.959Z"
   },
   {
    "duration": 12,
    "start_time": "2023-04-18T16:45:59.037Z"
   },
   {
    "duration": 55,
    "start_time": "2023-04-18T16:45:59.051Z"
   },
   {
    "duration": 13,
    "start_time": "2023-04-18T16:45:59.107Z"
   },
   {
    "duration": 10,
    "start_time": "2023-04-18T16:45:59.121Z"
   },
   {
    "duration": 77,
    "start_time": "2023-04-18T16:45:59.133Z"
   },
   {
    "duration": 9,
    "start_time": "2023-04-18T16:45:59.212Z"
   },
   {
    "duration": 31,
    "start_time": "2023-04-18T16:45:59.223Z"
   },
   {
    "duration": 26,
    "start_time": "2023-04-18T16:45:59.256Z"
   },
   {
    "duration": 18,
    "start_time": "2023-04-18T16:45:59.292Z"
   },
   {
    "duration": 13,
    "start_time": "2023-04-18T16:45:59.311Z"
   }
  ],
  "kernelspec": {
   "display_name": "Python 3 (ipykernel)",
   "language": "python",
   "name": "python3"
  },
  "language_info": {
   "codemirror_mode": {
    "name": "ipython",
    "version": 3
   },
   "file_extension": ".py",
   "mimetype": "text/x-python",
   "name": "python",
   "nbconvert_exporter": "python",
   "pygments_lexer": "ipython3",
   "version": "3.10.9"
  },
  "toc": {
   "base_numbering": 1,
   "nav_menu": {},
   "number_sections": true,
   "sideBar": true,
   "skip_h1_title": false,
   "title_cell": "Table of Contents",
   "title_sidebar": "Contents",
   "toc_cell": false,
   "toc_position": {},
   "toc_section_display": true,
   "toc_window_display": false
  }
 },
 "nbformat": 4,
 "nbformat_minor": 5
}
